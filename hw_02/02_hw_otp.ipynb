{
 "cells": [
  {
   "cell_type": "code",
   "execution_count": 86,
   "metadata": {},
   "outputs": [],
   "source": [
    "import pandas as pd"
   ]
  },
  {
   "cell_type": "code",
   "execution_count": 2,
   "metadata": {},
   "outputs": [],
   "source": [
    "# считаем описание данных\n",
    "df = pd.read_csv('02_otp_desc.csv', sep=';').loc[:,'ПОЛЕ':'ОПИСАНИЕ']"
   ]
  },
  {
   "cell_type": "code",
   "execution_count": 3,
   "metadata": {},
   "outputs": [
    {
     "data": {
      "text/html": [
       "<div>\n",
       "<style scoped>\n",
       "    .dataframe tbody tr th:only-of-type {\n",
       "        vertical-align: middle;\n",
       "    }\n",
       "\n",
       "    .dataframe tbody tr th {\n",
       "        vertical-align: top;\n",
       "    }\n",
       "\n",
       "    .dataframe thead th {\n",
       "        text-align: right;\n",
       "    }\n",
       "</style>\n",
       "<table border=\"1\" class=\"dataframe\">\n",
       "  <thead>\n",
       "    <tr style=\"text-align: right;\">\n",
       "      <th></th>\n",
       "      <th>ПОЛЕ</th>\n",
       "      <th>ОПИСАНИЕ</th>\n",
       "    </tr>\n",
       "  </thead>\n",
       "  <tbody>\n",
       "    <tr>\n",
       "      <th>0</th>\n",
       "      <td>AGREEMENT_RK</td>\n",
       "      <td>уникальный идентификатор объекта в выборке</td>\n",
       "    </tr>\n",
       "    <tr>\n",
       "      <th>1</th>\n",
       "      <td>TARGET</td>\n",
       "      <td>целевая переменная:отклик на маркетинговую кам...</td>\n",
       "    </tr>\n",
       "    <tr>\n",
       "      <th>2</th>\n",
       "      <td>AGE</td>\n",
       "      <td>возраст клиента</td>\n",
       "    </tr>\n",
       "    <tr>\n",
       "      <th>3</th>\n",
       "      <td>SOCSTATUS_WORK_FL</td>\n",
       "      <td>социальный статус клиента относительно работы ...</td>\n",
       "    </tr>\n",
       "    <tr>\n",
       "      <th>4</th>\n",
       "      <td>SOCSTATUS_PENS_FL</td>\n",
       "      <td>социальный статус клиента относительно пенсии ...</td>\n",
       "    </tr>\n",
       "    <tr>\n",
       "      <th>5</th>\n",
       "      <td>GENDER</td>\n",
       "      <td>пол клиента</td>\n",
       "    </tr>\n",
       "    <tr>\n",
       "      <th>6</th>\n",
       "      <td>CHILD_TOTAL</td>\n",
       "      <td>количество детей клиента</td>\n",
       "    </tr>\n",
       "    <tr>\n",
       "      <th>7</th>\n",
       "      <td>DEPENDANTS</td>\n",
       "      <td>количество иждивенцев клиента</td>\n",
       "    </tr>\n",
       "    <tr>\n",
       "      <th>8</th>\n",
       "      <td>EDUCATION</td>\n",
       "      <td>образование</td>\n",
       "    </tr>\n",
       "    <tr>\n",
       "      <th>9</th>\n",
       "      <td>MARITAL_STATUS</td>\n",
       "      <td>семейное положение</td>\n",
       "    </tr>\n",
       "    <tr>\n",
       "      <th>10</th>\n",
       "      <td>GEN_INDUSTRY</td>\n",
       "      <td>отрасль работы клиента</td>\n",
       "    </tr>\n",
       "    <tr>\n",
       "      <th>11</th>\n",
       "      <td>GEN_TITLE</td>\n",
       "      <td>должность</td>\n",
       "    </tr>\n",
       "    <tr>\n",
       "      <th>12</th>\n",
       "      <td>ORG_TP_STATE</td>\n",
       "      <td>форма собственности компании</td>\n",
       "    </tr>\n",
       "    <tr>\n",
       "      <th>13</th>\n",
       "      <td>ORG_TP_FCAPITAL</td>\n",
       "      <td>отношение к иностранному капиталу</td>\n",
       "    </tr>\n",
       "    <tr>\n",
       "      <th>14</th>\n",
       "      <td>JOB_DIR</td>\n",
       "      <td>направление деятельности в нутри компании</td>\n",
       "    </tr>\n",
       "    <tr>\n",
       "      <th>15</th>\n",
       "      <td>FAMILY_INCOME</td>\n",
       "      <td>семейный доход (несколько категорий)</td>\n",
       "    </tr>\n",
       "    <tr>\n",
       "      <th>16</th>\n",
       "      <td>PERSONAL_INCOME</td>\n",
       "      <td>личный доход клиента (в рублях)</td>\n",
       "    </tr>\n",
       "    <tr>\n",
       "      <th>17</th>\n",
       "      <td>REG_ADDRESS_PROVINCE</td>\n",
       "      <td>область регистрации клиента</td>\n",
       "    </tr>\n",
       "    <tr>\n",
       "      <th>18</th>\n",
       "      <td>FACT_ADDRESS_PROVINCE</td>\n",
       "      <td>область фактического пребывания клиента</td>\n",
       "    </tr>\n",
       "    <tr>\n",
       "      <th>19</th>\n",
       "      <td>POSTAL_ADDRESS_PROVINCE</td>\n",
       "      <td>почтовый адрес область</td>\n",
       "    </tr>\n",
       "    <tr>\n",
       "      <th>20</th>\n",
       "      <td>TP_PROVINCE</td>\n",
       "      <td>область торговой точки, где клиент брал послед...</td>\n",
       "    </tr>\n",
       "    <tr>\n",
       "      <th>21</th>\n",
       "      <td>REGION_NM</td>\n",
       "      <td>регион РФ</td>\n",
       "    </tr>\n",
       "    <tr>\n",
       "      <th>22</th>\n",
       "      <td>REG_FACT_FL</td>\n",
       "      <td>адрес регистрации и адрес фактического пребыва...</td>\n",
       "    </tr>\n",
       "    <tr>\n",
       "      <th>23</th>\n",
       "      <td>FACT_POST_FL</td>\n",
       "      <td>адрес фактического пребывания клиента и его по...</td>\n",
       "    </tr>\n",
       "    <tr>\n",
       "      <th>24</th>\n",
       "      <td>REG_POST_FL</td>\n",
       "      <td>адрес регистрации клиента и его почтовый адрес...</td>\n",
       "    </tr>\n",
       "    <tr>\n",
       "      <th>25</th>\n",
       "      <td>REG_FACT_POST_FL</td>\n",
       "      <td>почтовый, фактический и адрес регистрации совп...</td>\n",
       "    </tr>\n",
       "    <tr>\n",
       "      <th>26</th>\n",
       "      <td>REG_FACT_POST_TP_FL</td>\n",
       "      <td>область регистрации, фактического пребывания, ...</td>\n",
       "    </tr>\n",
       "    <tr>\n",
       "      <th>27</th>\n",
       "      <td>FL_PRESENCE_FL</td>\n",
       "      <td>наличие в собственности квартиры (1 - есть, 0 ...</td>\n",
       "    </tr>\n",
       "    <tr>\n",
       "      <th>28</th>\n",
       "      <td>OWN_AUTO</td>\n",
       "      <td>кол-во автомобилей в собственности</td>\n",
       "    </tr>\n",
       "    <tr>\n",
       "      <th>29</th>\n",
       "      <td>AUTO_RUS_FL</td>\n",
       "      <td>наличие в собственности автомобиля российского...</td>\n",
       "    </tr>\n",
       "    <tr>\n",
       "      <th>30</th>\n",
       "      <td>HS_PRESENCE_FL</td>\n",
       "      <td>наличие в собственности загородного дома (1 - ...</td>\n",
       "    </tr>\n",
       "    <tr>\n",
       "      <th>31</th>\n",
       "      <td>COT_PRESENCE_FL</td>\n",
       "      <td>наличие в собственности котеджа (1 - есть, 0 -...</td>\n",
       "    </tr>\n",
       "    <tr>\n",
       "      <th>32</th>\n",
       "      <td>GAR_PRESENCE_FL</td>\n",
       "      <td>наличие в собственности гаража (1 - есть, 0 - ...</td>\n",
       "    </tr>\n",
       "    <tr>\n",
       "      <th>33</th>\n",
       "      <td>LAND_PRESENCE_FL</td>\n",
       "      <td>наличие в собственности земельного участка (1 ...</td>\n",
       "    </tr>\n",
       "    <tr>\n",
       "      <th>34</th>\n",
       "      <td>CREDIT</td>\n",
       "      <td>сумма последнего кредита клиента (в рублях)</td>\n",
       "    </tr>\n",
       "    <tr>\n",
       "      <th>35</th>\n",
       "      <td>TERM</td>\n",
       "      <td>срок кредита</td>\n",
       "    </tr>\n",
       "    <tr>\n",
       "      <th>36</th>\n",
       "      <td>FST_PAYMENT</td>\n",
       "      <td>первоначальный взнос (в рублях)</td>\n",
       "    </tr>\n",
       "    <tr>\n",
       "      <th>37</th>\n",
       "      <td>DL_DOCUMENT_FL</td>\n",
       "      <td>в анкете клиент указал водительское удостовере...</td>\n",
       "    </tr>\n",
       "    <tr>\n",
       "      <th>38</th>\n",
       "      <td>GPF_DOCUMENT_FL</td>\n",
       "      <td>в анкете клиен указал ГПФ (1 - указал, 0 - не ...</td>\n",
       "    </tr>\n",
       "    <tr>\n",
       "      <th>39</th>\n",
       "      <td>FACT_LIVING_TERM</td>\n",
       "      <td>количество месяцев проживания по месту фактиче...</td>\n",
       "    </tr>\n",
       "    <tr>\n",
       "      <th>40</th>\n",
       "      <td>WORK_TIME</td>\n",
       "      <td>время работы на текущем месте (в месяцах)</td>\n",
       "    </tr>\n",
       "    <tr>\n",
       "      <th>41</th>\n",
       "      <td>FACT_PHONE_FL</td>\n",
       "      <td>наличие в заявке телефона по фактическому мест...</td>\n",
       "    </tr>\n",
       "    <tr>\n",
       "      <th>42</th>\n",
       "      <td>REG_PHONE_FL</td>\n",
       "      <td>наличие в заявке телефона по месту регистрации</td>\n",
       "    </tr>\n",
       "    <tr>\n",
       "      <th>43</th>\n",
       "      <td>GEN_PHONE_FL</td>\n",
       "      <td>наличие в заявке рабочего телефона</td>\n",
       "    </tr>\n",
       "    <tr>\n",
       "      <th>44</th>\n",
       "      <td>LOAN_NUM_TOTAL</td>\n",
       "      <td>количество ссуд клиента</td>\n",
       "    </tr>\n",
       "    <tr>\n",
       "      <th>45</th>\n",
       "      <td>LOAN_NUM_CLOSED</td>\n",
       "      <td>количество погашенных ссуд клиента</td>\n",
       "    </tr>\n",
       "    <tr>\n",
       "      <th>46</th>\n",
       "      <td>LOAN_NUM_PAYM</td>\n",
       "      <td>количество платежей, которые сделал клиент</td>\n",
       "    </tr>\n",
       "    <tr>\n",
       "      <th>47</th>\n",
       "      <td>LOAN_DLQ_NUM</td>\n",
       "      <td>количество просрочек, допущенных клиентом</td>\n",
       "    </tr>\n",
       "    <tr>\n",
       "      <th>48</th>\n",
       "      <td>LOAN_MAX_DLQ</td>\n",
       "      <td>номер максимальной просрочки, допущенной клиентом</td>\n",
       "    </tr>\n",
       "    <tr>\n",
       "      <th>49</th>\n",
       "      <td>LOAN_AVG_DLQ_AMT</td>\n",
       "      <td>средняя сумма просрочки (в рублях)</td>\n",
       "    </tr>\n",
       "    <tr>\n",
       "      <th>50</th>\n",
       "      <td>LOAN_MAX_DLQ_AMT</td>\n",
       "      <td>максимальная сумма просрочки (в рублях)</td>\n",
       "    </tr>\n",
       "    <tr>\n",
       "      <th>51</th>\n",
       "      <td>PREVIOUS_CARD_NUM_UTILIZED</td>\n",
       "      <td>количество уже утилизированных карт ( если пус...</td>\n",
       "    </tr>\n",
       "  </tbody>\n",
       "</table>\n",
       "</div>"
      ],
      "text/plain": [
       "                          ПОЛЕ  \\\n",
       "0                 AGREEMENT_RK   \n",
       "1                       TARGET   \n",
       "2                          AGE   \n",
       "3            SOCSTATUS_WORK_FL   \n",
       "4            SOCSTATUS_PENS_FL   \n",
       "5                       GENDER   \n",
       "6                  CHILD_TOTAL   \n",
       "7                   DEPENDANTS   \n",
       "8                    EDUCATION   \n",
       "9               MARITAL_STATUS   \n",
       "10                GEN_INDUSTRY   \n",
       "11                   GEN_TITLE   \n",
       "12                ORG_TP_STATE   \n",
       "13             ORG_TP_FCAPITAL   \n",
       "14                     JOB_DIR   \n",
       "15               FAMILY_INCOME   \n",
       "16             PERSONAL_INCOME   \n",
       "17        REG_ADDRESS_PROVINCE   \n",
       "18       FACT_ADDRESS_PROVINCE   \n",
       "19     POSTAL_ADDRESS_PROVINCE   \n",
       "20                 TP_PROVINCE   \n",
       "21                   REGION_NM   \n",
       "22                 REG_FACT_FL   \n",
       "23                FACT_POST_FL   \n",
       "24                 REG_POST_FL   \n",
       "25            REG_FACT_POST_FL   \n",
       "26         REG_FACT_POST_TP_FL   \n",
       "27              FL_PRESENCE_FL   \n",
       "28                    OWN_AUTO   \n",
       "29                 AUTO_RUS_FL   \n",
       "30              HS_PRESENCE_FL   \n",
       "31             COT_PRESENCE_FL   \n",
       "32             GAR_PRESENCE_FL   \n",
       "33            LAND_PRESENCE_FL   \n",
       "34                      CREDIT   \n",
       "35                        TERM   \n",
       "36                 FST_PAYMENT   \n",
       "37              DL_DOCUMENT_FL   \n",
       "38             GPF_DOCUMENT_FL   \n",
       "39            FACT_LIVING_TERM   \n",
       "40                   WORK_TIME   \n",
       "41               FACT_PHONE_FL   \n",
       "42                REG_PHONE_FL   \n",
       "43                GEN_PHONE_FL   \n",
       "44              LOAN_NUM_TOTAL   \n",
       "45             LOAN_NUM_CLOSED   \n",
       "46               LOAN_NUM_PAYM   \n",
       "47                LOAN_DLQ_NUM   \n",
       "48                LOAN_MAX_DLQ   \n",
       "49            LOAN_AVG_DLQ_AMT   \n",
       "50            LOAN_MAX_DLQ_AMT   \n",
       "51  PREVIOUS_CARD_NUM_UTILIZED   \n",
       "\n",
       "                                             ОПИСАНИЕ  \n",
       "0          уникальный идентификатор объекта в выборке  \n",
       "1   целевая переменная:отклик на маркетинговую кам...  \n",
       "2                                     возраст клиента  \n",
       "3   социальный статус клиента относительно работы ...  \n",
       "4   социальный статус клиента относительно пенсии ...  \n",
       "5                                         пол клиента  \n",
       "6                            количество детей клиента  \n",
       "7                       количество иждивенцев клиента  \n",
       "8                                         образование  \n",
       "9                                  семейное положение  \n",
       "10                             отрасль работы клиента  \n",
       "11                                          должность  \n",
       "12                       форма собственности компании  \n",
       "13                  отношение к иностранному капиталу  \n",
       "14          направление деятельности в нутри компании  \n",
       "15               семейный доход (несколько категорий)  \n",
       "16                    личный доход клиента (в рублях)  \n",
       "17                        область регистрации клиента  \n",
       "18            область фактического пребывания клиента  \n",
       "19                             почтовый адрес область  \n",
       "20  область торговой точки, где клиент брал послед...  \n",
       "21                                          регион РФ  \n",
       "22  адрес регистрации и адрес фактического пребыва...  \n",
       "23  адрес фактического пребывания клиента и его по...  \n",
       "24  адрес регистрации клиента и его почтовый адрес...  \n",
       "25  почтовый, фактический и адрес регистрации совп...  \n",
       "26  область регистрации, фактического пребывания, ...  \n",
       "27  наличие в собственности квартиры (1 - есть, 0 ...  \n",
       "28                кол-во автомобилей в собственности   \n",
       "29  наличие в собственности автомобиля российского...  \n",
       "30  наличие в собственности загородного дома (1 - ...  \n",
       "31  наличие в собственности котеджа (1 - есть, 0 -...  \n",
       "32  наличие в собственности гаража (1 - есть, 0 - ...  \n",
       "33  наличие в собственности земельного участка (1 ...  \n",
       "34        сумма последнего кредита клиента (в рублях)  \n",
       "35                                       срок кредита  \n",
       "36                    первоначальный взнос (в рублях)  \n",
       "37  в анкете клиент указал водительское удостовере...  \n",
       "38  в анкете клиен указал ГПФ (1 - указал, 0 - не ...  \n",
       "39  количество месяцев проживания по месту фактиче...  \n",
       "40          время работы на текущем месте (в месяцах)  \n",
       "41  наличие в заявке телефона по фактическому мест...  \n",
       "42     наличие в заявке телефона по месту регистрации  \n",
       "43                 наличие в заявке рабочего телефона  \n",
       "44                            количество ссуд клиента  \n",
       "45                 количество погашенных ссуд клиента  \n",
       "46         количество платежей, которые сделал клиент  \n",
       "47          количество просрочек, допущенных клиентом  \n",
       "48  номер максимальной просрочки, допущенной клиентом  \n",
       "49                 средняя сумма просрочки (в рублях)  \n",
       "50            максимальная сумма просрочки (в рублях)  \n",
       "51  количество уже утилизированных карт ( если пус...  "
      ]
     },
     "execution_count": 3,
     "metadata": {},
     "output_type": "execute_result"
    }
   ],
   "source": [
    "df"
   ]
  },
  {
   "cell_type": "markdown",
   "metadata": {
    "scrolled": true
   },
   "source": [
    "# считаем все-все данные"
   ]
  },
  {
   "cell_type": "code",
   "execution_count": 4,
   "metadata": {},
   "outputs": [],
   "source": [
    "train = pd.read_csv('02_otp_train.csv', sep=';')"
   ]
  },
  {
   "cell_type": "code",
   "execution_count": 5,
   "metadata": {},
   "outputs": [
    {
     "data": {
      "text/plain": [
       "(15223, 52)"
      ]
     },
     "execution_count": 5,
     "metadata": {},
     "output_type": "execute_result"
    }
   ],
   "source": [
    "train.shape"
   ]
  },
  {
   "cell_type": "code",
   "execution_count": 9,
   "metadata": {},
   "outputs": [
    {
     "data": {
      "text/html": [
       "<div>\n",
       "<style scoped>\n",
       "    .dataframe tbody tr th:only-of-type {\n",
       "        vertical-align: middle;\n",
       "    }\n",
       "\n",
       "    .dataframe tbody tr th {\n",
       "        vertical-align: top;\n",
       "    }\n",
       "\n",
       "    .dataframe thead th {\n",
       "        text-align: right;\n",
       "    }\n",
       "</style>\n",
       "<table border=\"1\" class=\"dataframe\">\n",
       "  <thead>\n",
       "    <tr style=\"text-align: right;\">\n",
       "      <th></th>\n",
       "      <th>AGREEMENT_RK</th>\n",
       "      <th>TARGET</th>\n",
       "      <th>AGE</th>\n",
       "      <th>SOCSTATUS_WORK_FL</th>\n",
       "      <th>SOCSTATUS_PENS_FL</th>\n",
       "      <th>GENDER</th>\n",
       "      <th>CHILD_TOTAL</th>\n",
       "      <th>DEPENDANTS</th>\n",
       "      <th>EDUCATION</th>\n",
       "      <th>MARITAL_STATUS</th>\n",
       "      <th>...</th>\n",
       "      <th>REG_PHONE_FL</th>\n",
       "      <th>GEN_PHONE_FL</th>\n",
       "      <th>LOAN_NUM_TOTAL</th>\n",
       "      <th>LOAN_NUM_CLOSED</th>\n",
       "      <th>LOAN_NUM_PAYM</th>\n",
       "      <th>LOAN_DLQ_NUM</th>\n",
       "      <th>LOAN_MAX_DLQ</th>\n",
       "      <th>LOAN_AVG_DLQ_AMT</th>\n",
       "      <th>LOAN_MAX_DLQ_AMT</th>\n",
       "      <th>PREVIOUS_CARD_NUM_UTILIZED</th>\n",
       "    </tr>\n",
       "  </thead>\n",
       "  <tbody>\n",
       "    <tr>\n",
       "      <th>0</th>\n",
       "      <td>59910150</td>\n",
       "      <td>0</td>\n",
       "      <td>49</td>\n",
       "      <td>1</td>\n",
       "      <td>0</td>\n",
       "      <td>1</td>\n",
       "      <td>2</td>\n",
       "      <td>1</td>\n",
       "      <td>Среднее специальное</td>\n",
       "      <td>Состою в браке</td>\n",
       "      <td>...</td>\n",
       "      <td>0</td>\n",
       "      <td>1</td>\n",
       "      <td>1</td>\n",
       "      <td>1</td>\n",
       "      <td>6</td>\n",
       "      <td>2</td>\n",
       "      <td>1</td>\n",
       "      <td>1580</td>\n",
       "      <td>1580</td>\n",
       "      <td>NaN</td>\n",
       "    </tr>\n",
       "    <tr>\n",
       "      <th>1</th>\n",
       "      <td>59910230</td>\n",
       "      <td>0</td>\n",
       "      <td>32</td>\n",
       "      <td>1</td>\n",
       "      <td>0</td>\n",
       "      <td>1</td>\n",
       "      <td>3</td>\n",
       "      <td>3</td>\n",
       "      <td>Среднее</td>\n",
       "      <td>Состою в браке</td>\n",
       "      <td>...</td>\n",
       "      <td>0</td>\n",
       "      <td>1</td>\n",
       "      <td>1</td>\n",
       "      <td>1</td>\n",
       "      <td>6</td>\n",
       "      <td>1</td>\n",
       "      <td>1</td>\n",
       "      <td>4020</td>\n",
       "      <td>4020</td>\n",
       "      <td>NaN</td>\n",
       "    </tr>\n",
       "    <tr>\n",
       "      <th>2</th>\n",
       "      <td>59910525</td>\n",
       "      <td>0</td>\n",
       "      <td>52</td>\n",
       "      <td>1</td>\n",
       "      <td>0</td>\n",
       "      <td>1</td>\n",
       "      <td>4</td>\n",
       "      <td>0</td>\n",
       "      <td>Неполное среднее</td>\n",
       "      <td>Состою в браке</td>\n",
       "      <td>...</td>\n",
       "      <td>0</td>\n",
       "      <td>1</td>\n",
       "      <td>2</td>\n",
       "      <td>1</td>\n",
       "      <td>11</td>\n",
       "      <td>0</td>\n",
       "      <td>0</td>\n",
       "      <td>0</td>\n",
       "      <td>0</td>\n",
       "      <td>NaN</td>\n",
       "    </tr>\n",
       "    <tr>\n",
       "      <th>3</th>\n",
       "      <td>59910803</td>\n",
       "      <td>0</td>\n",
       "      <td>39</td>\n",
       "      <td>1</td>\n",
       "      <td>0</td>\n",
       "      <td>1</td>\n",
       "      <td>1</td>\n",
       "      <td>1</td>\n",
       "      <td>Высшее</td>\n",
       "      <td>Состою в браке</td>\n",
       "      <td>...</td>\n",
       "      <td>1</td>\n",
       "      <td>1</td>\n",
       "      <td>1</td>\n",
       "      <td>1</td>\n",
       "      <td>6</td>\n",
       "      <td>3</td>\n",
       "      <td>1</td>\n",
       "      <td>1589,92333333333</td>\n",
       "      <td>1590</td>\n",
       "      <td>NaN</td>\n",
       "    </tr>\n",
       "    <tr>\n",
       "      <th>4</th>\n",
       "      <td>59911781</td>\n",
       "      <td>0</td>\n",
       "      <td>30</td>\n",
       "      <td>1</td>\n",
       "      <td>0</td>\n",
       "      <td>0</td>\n",
       "      <td>0</td>\n",
       "      <td>0</td>\n",
       "      <td>Среднее</td>\n",
       "      <td>Состою в браке</td>\n",
       "      <td>...</td>\n",
       "      <td>0</td>\n",
       "      <td>1</td>\n",
       "      <td>2</td>\n",
       "      <td>1</td>\n",
       "      <td>16</td>\n",
       "      <td>2</td>\n",
       "      <td>1</td>\n",
       "      <td>1152,15</td>\n",
       "      <td>2230</td>\n",
       "      <td>NaN</td>\n",
       "    </tr>\n",
       "  </tbody>\n",
       "</table>\n",
       "<p>5 rows × 52 columns</p>\n",
       "</div>"
      ],
      "text/plain": [
       "   AGREEMENT_RK  TARGET  AGE  SOCSTATUS_WORK_FL  SOCSTATUS_PENS_FL  GENDER  \\\n",
       "0      59910150       0   49                  1                  0       1   \n",
       "1      59910230       0   32                  1                  0       1   \n",
       "2      59910525       0   52                  1                  0       1   \n",
       "3      59910803       0   39                  1                  0       1   \n",
       "4      59911781       0   30                  1                  0       0   \n",
       "\n",
       "   CHILD_TOTAL  DEPENDANTS            EDUCATION  MARITAL_STATUS  \\\n",
       "0            2           1  Среднее специальное  Состою в браке   \n",
       "1            3           3              Среднее  Состою в браке   \n",
       "2            4           0     Неполное среднее  Состою в браке   \n",
       "3            1           1               Высшее  Состою в браке   \n",
       "4            0           0              Среднее  Состою в браке   \n",
       "\n",
       "             ...             REG_PHONE_FL GEN_PHONE_FL LOAN_NUM_TOTAL  \\\n",
       "0            ...                        0            1              1   \n",
       "1            ...                        0            1              1   \n",
       "2            ...                        0            1              2   \n",
       "3            ...                        1            1              1   \n",
       "4            ...                        0            1              2   \n",
       "\n",
       "  LOAN_NUM_CLOSED LOAN_NUM_PAYM LOAN_DLQ_NUM LOAN_MAX_DLQ  LOAN_AVG_DLQ_AMT  \\\n",
       "0               1             6            2            1              1580   \n",
       "1               1             6            1            1              4020   \n",
       "2               1            11            0            0                 0   \n",
       "3               1             6            3            1  1589,92333333333   \n",
       "4               1            16            2            1           1152,15   \n",
       "\n",
       "  LOAN_MAX_DLQ_AMT PREVIOUS_CARD_NUM_UTILIZED  \n",
       "0             1580                        NaN  \n",
       "1             4020                        NaN  \n",
       "2                0                        NaN  \n",
       "3             1590                        NaN  \n",
       "4             2230                        NaN  \n",
       "\n",
       "[5 rows x 52 columns]"
      ]
     },
     "execution_count": 9,
     "metadata": {},
     "output_type": "execute_result"
    }
   ],
   "source": [
    "train.head()"
   ]
  },
  {
   "cell_type": "code",
   "execution_count": 10,
   "metadata": {},
   "outputs": [
    {
     "name": "stdout",
     "output_type": "stream",
     "text": [
      "<class 'pandas.core.frame.DataFrame'>\n",
      "RangeIndex: 15223 entries, 0 to 15222\n",
      "Data columns (total 52 columns):\n",
      "AGREEMENT_RK                  15223 non-null int64\n",
      "TARGET                        15223 non-null int64\n",
      "AGE                           15223 non-null int64\n",
      "SOCSTATUS_WORK_FL             15223 non-null int64\n",
      "SOCSTATUS_PENS_FL             15223 non-null int64\n",
      "GENDER                        15223 non-null int64\n",
      "CHILD_TOTAL                   15223 non-null int64\n",
      "DEPENDANTS                    15223 non-null int64\n",
      "EDUCATION                     15223 non-null object\n",
      "MARITAL_STATUS                15223 non-null object\n",
      "GEN_INDUSTRY                  13856 non-null object\n",
      "GEN_TITLE                     13856 non-null object\n",
      "ORG_TP_STATE                  13856 non-null object\n",
      "ORG_TP_FCAPITAL               13858 non-null object\n",
      "JOB_DIR                       13856 non-null object\n",
      "FAMILY_INCOME                 15223 non-null object\n",
      "PERSONAL_INCOME               15223 non-null object\n",
      "REG_ADDRESS_PROVINCE          15223 non-null object\n",
      "FACT_ADDRESS_PROVINCE         15223 non-null object\n",
      "POSTAL_ADDRESS_PROVINCE       15223 non-null object\n",
      "TP_PROVINCE                   14928 non-null object\n",
      "REGION_NM                     15222 non-null object\n",
      "REG_FACT_FL                   15223 non-null int64\n",
      "FACT_POST_FL                  15223 non-null int64\n",
      "REG_POST_FL                   15223 non-null int64\n",
      "REG_FACT_POST_FL              15223 non-null int64\n",
      "REG_FACT_POST_TP_FL           15223 non-null int64\n",
      "FL_PRESENCE_FL                15223 non-null int64\n",
      "OWN_AUTO                      15223 non-null int64\n",
      "AUTO_RUS_FL                   15223 non-null int64\n",
      "HS_PRESENCE_FL                15223 non-null int64\n",
      "COT_PRESENCE_FL               15223 non-null int64\n",
      "GAR_PRESENCE_FL               15223 non-null int64\n",
      "LAND_PRESENCE_FL              15223 non-null int64\n",
      "CREDIT                        15223 non-null object\n",
      "TERM                          15223 non-null int64\n",
      "FST_PAYMENT                   15223 non-null object\n",
      "DL_DOCUMENT_FL                15223 non-null int64\n",
      "GPF_DOCUMENT_FL               15223 non-null int64\n",
      "FACT_LIVING_TERM              15223 non-null int64\n",
      "WORK_TIME                     13855 non-null float64\n",
      "FACT_PHONE_FL                 15223 non-null int64\n",
      "REG_PHONE_FL                  15223 non-null int64\n",
      "GEN_PHONE_FL                  15223 non-null int64\n",
      "LOAN_NUM_TOTAL                15223 non-null int64\n",
      "LOAN_NUM_CLOSED               15223 non-null int64\n",
      "LOAN_NUM_PAYM                 15223 non-null int64\n",
      "LOAN_DLQ_NUM                  15223 non-null int64\n",
      "LOAN_MAX_DLQ                  15223 non-null int64\n",
      "LOAN_AVG_DLQ_AMT              15223 non-null object\n",
      "LOAN_MAX_DLQ_AMT              15223 non-null object\n",
      "PREVIOUS_CARD_NUM_UTILIZED    288 non-null float64\n",
      "dtypes: float64(2), int64(32), object(18)\n",
      "memory usage: 6.0+ MB\n"
     ]
    }
   ],
   "source": [
    "train.info()"
   ]
  },
  {
   "cell_type": "code",
   "execution_count": 6,
   "metadata": {},
   "outputs": [],
   "source": [
    "test = pd.read_csv('02_otp_test.csv', sep=';')"
   ]
  },
  {
   "cell_type": "code",
   "execution_count": 7,
   "metadata": {},
   "outputs": [
    {
     "data": {
      "text/plain": [
       "(14910, 51)"
      ]
     },
     "execution_count": 7,
     "metadata": {},
     "output_type": "execute_result"
    }
   ],
   "source": [
    "test.shape"
   ]
  },
  {
   "cell_type": "code",
   "execution_count": 11,
   "metadata": {},
   "outputs": [
    {
     "name": "stdout",
     "output_type": "stream",
     "text": [
      "<class 'pandas.core.frame.DataFrame'>\n",
      "RangeIndex: 14910 entries, 0 to 14909\n",
      "Data columns (total 51 columns):\n",
      "AGREEMENT_RK                  14910 non-null int64\n",
      "AGE                           14910 non-null int64\n",
      "SOCSTATUS_WORK_FL             14910 non-null int64\n",
      "SOCSTATUS_PENS_FL             14910 non-null int64\n",
      "GENDER                        14910 non-null int64\n",
      "CHILD_TOTAL                   14910 non-null int64\n",
      "DEPENDANTS                    14910 non-null int64\n",
      "EDUCATION                     14910 non-null object\n",
      "MARITAL_STATUS                14910 non-null object\n",
      "GEN_INDUSTRY                  13564 non-null object\n",
      "GEN_TITLE                     13564 non-null object\n",
      "ORG_TP_STATE                  13564 non-null object\n",
      "ORG_TP_FCAPITAL               13567 non-null object\n",
      "JOB_DIR                       13564 non-null object\n",
      "FAMILY_INCOME                 14910 non-null object\n",
      "PERSONAL_INCOME               14910 non-null object\n",
      "REG_ADDRESS_PROVINCE          14910 non-null object\n",
      "FACT_ADDRESS_PROVINCE         14910 non-null object\n",
      "POSTAL_ADDRESS_PROVINCE       14910 non-null object\n",
      "TP_PROVINCE                   14615 non-null object\n",
      "REGION_NM                     14909 non-null object\n",
      "REG_FACT_FL                   14910 non-null int64\n",
      "FACT_POST_FL                  14910 non-null int64\n",
      "REG_POST_FL                   14910 non-null int64\n",
      "REG_FACT_POST_FL              14910 non-null int64\n",
      "REG_FACT_POST_TP_FL           14910 non-null int64\n",
      "FL_PRESENCE_FL                14910 non-null int64\n",
      "OWN_AUTO                      14910 non-null int64\n",
      "AUTO_RUS_FL                   14910 non-null int64\n",
      "HS_PRESENCE_FL                14910 non-null int64\n",
      "COT_PRESENCE_FL               14910 non-null int64\n",
      "GAR_PRESENCE_FL               14910 non-null int64\n",
      "LAND_PRESENCE_FL              14910 non-null int64\n",
      "CREDIT                        14910 non-null object\n",
      "TERM                          14910 non-null int64\n",
      "FST_PAYMENT                   14910 non-null object\n",
      "DL_DOCUMENT_FL                14910 non-null int64\n",
      "GPF_DOCUMENT_FL               14910 non-null int64\n",
      "FACT_LIVING_TERM              14910 non-null int64\n",
      "WORK_TIME                     13561 non-null float64\n",
      "FACT_PHONE_FL                 14910 non-null int64\n",
      "REG_PHONE_FL                  14910 non-null int64\n",
      "GEN_PHONE_FL                  14910 non-null int64\n",
      "LOAN_NUM_TOTAL                14910 non-null int64\n",
      "LOAN_NUM_CLOSED               14910 non-null int64\n",
      "LOAN_NUM_PAYM                 14910 non-null int64\n",
      "LOAN_DLQ_NUM                  14910 non-null int64\n",
      "LOAN_MAX_DLQ                  14910 non-null int64\n",
      "LOAN_AVG_DLQ_AMT              14910 non-null object\n",
      "LOAN_MAX_DLQ_AMT              14910 non-null object\n",
      "PREVIOUS_CARD_NUM_UTILIZED    312 non-null float64\n",
      "dtypes: float64(2), int64(31), object(18)\n",
      "memory usage: 5.8+ MB\n"
     ]
    }
   ],
   "source": [
    "test.info()"
   ]
  },
  {
   "cell_type": "markdown",
   "metadata": {},
   "source": [
    "# отделим таргет от TRAIN-а"
   ]
  },
  {
   "cell_type": "code",
   "execution_count": 12,
   "metadata": {},
   "outputs": [],
   "source": [
    "y = train['TARGET']"
   ]
  },
  {
   "cell_type": "code",
   "execution_count": 13,
   "metadata": {},
   "outputs": [],
   "source": [
    "train = train.drop('TARGET', axis=1)"
   ]
  },
  {
   "cell_type": "markdown",
   "metadata": {},
   "source": [
    "# соеденим train и test"
   ]
  },
  {
   "cell_type": "code",
   "execution_count": 14,
   "metadata": {},
   "outputs": [],
   "source": [
    "all_data = pd.concat([train, test])"
   ]
  },
  {
   "cell_type": "code",
   "execution_count": 15,
   "metadata": {},
   "outputs": [],
   "source": [
    "# необходимо удалить индекс, \n",
    "# у нас есть 0-строка в train и 0-строка в test (и так далее 1,2,3,4)\n",
    "# если мы просто объеденим - у нас сохранятся индексы\n",
    "# мы же просто уберем индекс и автоматически создастся новый индекс, сквозной и уникальный\n",
    "all_data = all_data.reset_index(drop=True)"
   ]
  },
  {
   "cell_type": "markdown",
   "metadata": {},
   "source": [
    "# посмотрим типы данных и их заполняемость"
   ]
  },
  {
   "cell_type": "code",
   "execution_count": 31,
   "metadata": {
    "scrolled": false
   },
   "outputs": [
    {
     "name": "stdout",
     "output_type": "stream",
     "text": [
      "<class 'pandas.core.frame.DataFrame'>\n",
      "RangeIndex: 30133 entries, 0 to 30132\n",
      "Data columns (total 51 columns):\n",
      "AGREEMENT_RK                  30133 non-null int64\n",
      "AGE                           30133 non-null int64\n",
      "SOCSTATUS_WORK_FL             30133 non-null int64\n",
      "SOCSTATUS_PENS_FL             30133 non-null int64\n",
      "GENDER                        30133 non-null int64\n",
      "CHILD_TOTAL                   30133 non-null int64\n",
      "DEPENDANTS                    30133 non-null int64\n",
      "EDUCATION                     30133 non-null object\n",
      "MARITAL_STATUS                30133 non-null object\n",
      "GEN_INDUSTRY                  27420 non-null object\n",
      "GEN_TITLE                     27420 non-null object\n",
      "ORG_TP_STATE                  27420 non-null object\n",
      "ORG_TP_FCAPITAL               27425 non-null object\n",
      "JOB_DIR                       27420 non-null object\n",
      "FAMILY_INCOME                 30133 non-null object\n",
      "PERSONAL_INCOME               30133 non-null object\n",
      "REG_ADDRESS_PROVINCE          30133 non-null object\n",
      "FACT_ADDRESS_PROVINCE         30133 non-null object\n",
      "POSTAL_ADDRESS_PROVINCE       30133 non-null object\n",
      "TP_PROVINCE                   29543 non-null object\n",
      "REGION_NM                     30131 non-null object\n",
      "REG_FACT_FL                   30133 non-null int64\n",
      "FACT_POST_FL                  30133 non-null int64\n",
      "REG_POST_FL                   30133 non-null int64\n",
      "REG_FACT_POST_FL              30133 non-null int64\n",
      "REG_FACT_POST_TP_FL           30133 non-null int64\n",
      "FL_PRESENCE_FL                30133 non-null int64\n",
      "OWN_AUTO                      30133 non-null int64\n",
      "AUTO_RUS_FL                   30133 non-null int64\n",
      "HS_PRESENCE_FL                30133 non-null int64\n",
      "COT_PRESENCE_FL               30133 non-null int64\n",
      "GAR_PRESENCE_FL               30133 non-null int64\n",
      "LAND_PRESENCE_FL              30133 non-null int64\n",
      "CREDIT                        30133 non-null object\n",
      "TERM                          30133 non-null int64\n",
      "FST_PAYMENT                   30133 non-null object\n",
      "DL_DOCUMENT_FL                30133 non-null int64\n",
      "GPF_DOCUMENT_FL               30133 non-null int64\n",
      "FACT_LIVING_TERM              30133 non-null int64\n",
      "WORK_TIME                     27416 non-null float64\n",
      "FACT_PHONE_FL                 30133 non-null int64\n",
      "REG_PHONE_FL                  30133 non-null int64\n",
      "GEN_PHONE_FL                  30133 non-null int64\n",
      "LOAN_NUM_TOTAL                30133 non-null int64\n",
      "LOAN_NUM_CLOSED               30133 non-null int64\n",
      "LOAN_NUM_PAYM                 30133 non-null int64\n",
      "LOAN_DLQ_NUM                  30133 non-null int64\n",
      "LOAN_MAX_DLQ                  30133 non-null int64\n",
      "LOAN_AVG_DLQ_AMT              30133 non-null object\n",
      "LOAN_MAX_DLQ_AMT              30133 non-null object\n",
      "PREVIOUS_CARD_NUM_UTILIZED    600 non-null float64\n",
      "dtypes: float64(2), int64(31), object(18)\n",
      "memory usage: 11.7+ MB\n"
     ]
    }
   ],
   "source": [
    "all_data.info()"
   ]
  },
  {
   "cell_type": "code",
   "execution_count": 17,
   "metadata": {},
   "outputs": [
    {
     "data": {
      "text/html": [
       "<div>\n",
       "<style scoped>\n",
       "    .dataframe tbody tr th:only-of-type {\n",
       "        vertical-align: middle;\n",
       "    }\n",
       "\n",
       "    .dataframe tbody tr th {\n",
       "        vertical-align: top;\n",
       "    }\n",
       "\n",
       "    .dataframe thead th {\n",
       "        text-align: right;\n",
       "    }\n",
       "</style>\n",
       "<table border=\"1\" class=\"dataframe\">\n",
       "  <thead>\n",
       "    <tr style=\"text-align: right;\">\n",
       "      <th></th>\n",
       "      <th>EDUCATION</th>\n",
       "      <th>MARITAL_STATUS</th>\n",
       "      <th>GEN_INDUSTRY</th>\n",
       "    </tr>\n",
       "  </thead>\n",
       "  <tbody>\n",
       "    <tr>\n",
       "      <th>0</th>\n",
       "      <td>Среднее специальное</td>\n",
       "      <td>Состою в браке</td>\n",
       "      <td>Торговля</td>\n",
       "    </tr>\n",
       "    <tr>\n",
       "      <th>1</th>\n",
       "      <td>Среднее</td>\n",
       "      <td>Состою в браке</td>\n",
       "      <td>Торговля</td>\n",
       "    </tr>\n",
       "    <tr>\n",
       "      <th>2</th>\n",
       "      <td>Неполное среднее</td>\n",
       "      <td>Состою в браке</td>\n",
       "      <td>Информационные технологии</td>\n",
       "    </tr>\n",
       "    <tr>\n",
       "      <th>3</th>\n",
       "      <td>Высшее</td>\n",
       "      <td>Состою в браке</td>\n",
       "      <td>Образование</td>\n",
       "    </tr>\n",
       "    <tr>\n",
       "      <th>4</th>\n",
       "      <td>Среднее</td>\n",
       "      <td>Состою в браке</td>\n",
       "      <td>Государственная служба</td>\n",
       "    </tr>\n",
       "  </tbody>\n",
       "</table>\n",
       "</div>"
      ],
      "text/plain": [
       "             EDUCATION  MARITAL_STATUS               GEN_INDUSTRY\n",
       "0  Среднее специальное  Состою в браке                   Торговля\n",
       "1              Среднее  Состою в браке                   Торговля\n",
       "2     Неполное среднее  Состою в браке  Информационные технологии\n",
       "3               Высшее  Состою в браке                Образование\n",
       "4              Среднее  Состою в браке     Государственная служба"
      ]
     },
     "execution_count": 17,
     "metadata": {},
     "output_type": "execute_result"
    }
   ],
   "source": [
    "all_data[['EDUCATION','MARITAL_STATUS','GEN_INDUSTRY']].head()"
   ]
  },
  {
   "cell_type": "code",
   "execution_count": 30,
   "metadata": {},
   "outputs": [],
   "source": [
    "# Видим, что часть данных - object, скорее всего стоки.\n",
    "# Давайте выведем эти значения для каждого столбца"
   ]
  },
  {
   "cell_type": "code",
   "execution_count": 18,
   "metadata": {},
   "outputs": [
    {
     "name": "stdout",
     "output_type": "stream",
     "text": [
      "EDUCATION\n",
      "{'Высшее', 'Неполное среднее', 'Среднее', 'Среднее специальное', 'Неоконченное высшее', 'Два и более высших образования', 'Ученая степень'}\n",
      "\n",
      "MARITAL_STATUS\n",
      "{'Не состоял в браке', 'Состою в браке', 'Разведен(а)', 'Гражданский брак', 'Вдовец/Вдова'}\n",
      "\n",
      "GEN_INDUSTRY\n",
      "{nan, 'Информационные технологии', 'Маркетинг', 'Другие сферы', 'Государственная служба', 'Транспорт', 'Туризм', 'Логистика', 'Развлечения/Искусство', 'Здравоохранение', 'Подбор персонала', 'Химия/Парфюмерия/Фармацевтика', 'Торговля', 'СМИ/Реклама/PR-агенства', 'Нефтегазовая промышленность', 'Информационные услуги', 'Наука', 'Сельское хозяйство', 'Образование', 'Ресторанный бизнес/Общественное питание', 'Управляющая компания', 'Салоны красоты и здоровья', 'Металлургия/Промышленность/Машиностроение', 'Страхование', 'Сборочные производства', 'Коммунальное хоз-во/Дорожные службы', 'Юридические услуги/нотариальные услуги', 'Недвижимость', 'Банк/Финансы', 'Строительство', 'ЧОП/Детективная д-ть', 'Энергетика'}\n",
      "\n",
      "GEN_TITLE\n",
      "{nan, 'Индивидуальный предприниматель', 'Военнослужащий по контракту', 'Партнер', 'Работник сферы услуг', 'Руководитель среднего звена', 'Другое', 'Руководитель низшего звена', 'Высококвалифиц. специалист', 'Специалист', 'Руководитель высшего звена', 'Рабочий', 'Служащий'}\n",
      "\n",
      "ORG_TP_STATE\n",
      "{nan, 'Государственная комп./учреж.', 'Частная компания', 'Частная ком. с инос. капиталом', 'Некоммерческая организация', 'Индивидуальный предприниматель'}\n",
      "\n",
      "ORG_TP_FCAPITAL\n",
      "{nan, 'С участием', 'Без участия'}\n",
      "\n",
      "JOB_DIR\n",
      "{nan, 'Снабжение и сбыт', 'Пр-техн. обесп. и телеком.', 'Адм-хоз. и трансп. службы', 'Бухгалтерия, финансы, планир.', 'Юридическая служба', 'Реклама и маркетинг', 'Вспомогательный техперсонал', 'Участие в основ. деятельности', 'Кадровая служба и секретариат', 'Служба безопасности'}\n",
      "\n",
      "FAMILY_INCOME\n",
      "{'свыше 50000 руб.', 'от 5000 до 10000 руб.', 'от 10000 до 20000 руб.', 'от 20000 до 50000 руб.', 'до 5000 руб.'}\n",
      "\n",
      "PERSONAL_INCOME\n",
      "{'25500', '120000', '11700', '7640', '4850', '4330', '4860', '19000', '15900', '6200', '15939', '41000', '7780', '68000', '9860', '5350', '4340', '100000', '57000', '40000', '25000', '14358', '7251', '3200', '5339', '3600', '21000', '21500', '17200', '5966', '15400', '13160', '12650', '13800', '4900', '7300', '4360', '4800', '8750', '5000', '7050', '8600', '8100', '27200', '14300', '48000', '7460', '19700', '4400', '13700', '13650', '42000', '23000', '4600', '16800', '9240', '16300', '3700', '18000', '9600', '53000', '47000', '32640', '19600', '19800', '17404', '12000', '8726', '9750', '11600', '20600', '33000', '15200', '7200', '9330', '10800', '58640', '16107,47', '22180', '51000', '46000', '13500', '250000', '36000', '22000', '5860', '4750', '21300', '12900', '5600', '17500', '7250', '7830', '17700', '4250', '5280', '15700', '230000', '5460', '9200', '110000', '19500', '24000', '13000000', '22565', '38000', '26500', '15560', '5446', '18700', '8030', '6180', '6700', '12800', '220000', '5450', '7082', '4700', '17900', '5050', '35500', '23800', '13300', '11900', '9000', '8000', '7400', '7350', '4530', '17300', '23500', '3800', '6650', '56000', '18250', '170000', '31000', '50000', '6299,19', '7500', '7850', '14000', '15000', '3400', '23100', '2500', '12300', '28000', '25800', '16050', '200000', '2800', '14120', '6300', '21800', '14700', '18200', '9628', '6350', '14900', '7100', '11300', '8250', '16000', '18600', '52000', '5790', '4300', '5230', '130000', '7380', '38600', '8200', '4000', '13600', '6500', '5750', '27000', '5800', '5500', '7220', '8300', '7650', '32500', '8400', '29400', '7260', '150000', '5400', '9500', '20500', '4480', '5890', '17000', '16700', '45900', '4887', '10900', '19200', '5085', '11500', '2776', '4760', '14600', '6780', '5120', '11400', '80000', '2680', '15800', '15300', '67700', '41900', '3100', '4680', '7000', '9800', '5425', '67000', '13400', '12450', '4515', '13150', '5200', '18500', '26000', '24800', '5700', '3000', '94000', '5900', '8075', '18100', '6400', '24', '10000', '8060', '42145', '34500', '60000', '16600', '10200', '75000', '16100', '14500', '6900', '9700', '20880', '4100', '2100', '7900', '54000', '3500', '16900', '53500', '7800', '7340', '10700', '5100', '17600', '4950', '12200', '12700', '12400', '8900', '6524', '7330', '22500', '14200', '9300', '8350', '55000', '44000', '9100', '11200', '2000', '24500', '15500', '4590', '11000', '20000', '9900', '6359', '11640', '30000', '6670', '90000', '15380', '18300', '70000', '8500', '27300', '6608', '8066', '1950', '5173', '12600', '5680', '11800', '13200', '8800', '12500', '4200', '49000', '43000', '9640', '6270', '5380', '13900', '22955', '19300', '6825', '32000', '5360', '20646,16', '22120', '28470', '6100', '34000', '92000', '10100', '24400', '45000', '7700', '16200', '7170,08', '13000', '6000', '10400', '39000', '5582', '158000', '10300', '4704', '29500', '5088', '4550', '9400', '17800', '30600', '10500', '7600', '10600', '29800', '12100', '2300', '29000', '6600', '13450', '160000', '7550', '9340', '42500', '15600', '65000', '3900', '17400', '14800', '37000', '5300', '13100', '26800', '15750', '35000', '4500', '6800', '16500', '3300', '8700', '18800', '77000', '28300', '7101'}\n",
      "\n",
      "REG_ADDRESS_PROVINCE\n",
      "{'Тверская область', 'Магаданская область', 'Хакасия', 'Еврейская АО', 'Красноярский край', 'Псковская область', 'Пензенская область', 'Санкт-Петербург', 'Тульская область', 'Сахалинская область', 'Белгородская область', 'Чувашия', 'Воронежская область', 'Саратовская область', 'Нижегородская область', 'Карачаево-Черкесия', 'Хабаровский край', 'Кабардино-Балкария', 'Амурская область', 'Орловская область', 'Читинская область', 'Владимирская область', 'Кемеровская область', 'Калининградская область', 'Дагестан', 'Тамбовская область', 'Башкирия', 'Ленинградская область', 'Кировская область', 'Удмуртия', 'Якутия', 'Северная Осетия', 'Костромская область', 'Волгоградская область', 'Приморский край', 'Астраханская область', 'Эвенкийский АО', 'Новгородская область', 'Коми-Пермяцкий АО', 'Краснодарский край', 'Ямало-Ненецкий АО', 'Алтайский край', 'Калмыкия', 'Курганская область', 'Липецкая область', 'Иркутская область', 'Ростовская область', 'Рязанская область', 'Смоленская область', 'Москва', 'Ярославская область', 'Ставропольский край', 'Челябинская область', 'Свердловская область', 'Калужская область', 'Брянская область', 'Архангельская область', 'Вологодская область', 'Бурятия', 'Марийская республика', 'Усть-Ордынский Бурятский АО', 'Ханты-Мансийский АО', 'Московская область', 'Мордовская республика', 'Карелия', 'Омская область', 'Коми', 'Ульяновская область', 'Камчатская область', 'Новосибирская область', 'Курская область', 'Самарская область', 'Ивановская область', 'Пермская область', 'Тюменская область', 'Агинский Бурятский АО', 'Оренбургская область', 'Адыгея', 'Томская область', 'Татарстан', 'Мурманская область', 'Горный Алтай'}\n",
      "\n",
      "FACT_ADDRESS_PROVINCE\n",
      "{'Тверская область', 'Магаданская область', 'Хакасия', 'Еврейская АО', 'Красноярский край', 'Псковская область', 'Пензенская область', 'Санкт-Петербург', 'Тульская область', 'Сахалинская область', 'Белгородская область', 'Чувашия', 'Воронежская область', 'Саратовская область', 'Нижегородская область', 'Карачаево-Черкесия', 'Чечня', 'Хабаровский край', 'Кабардино-Балкария', 'Амурская область', 'Орловская область', 'Читинская область', 'Владимирская область', 'Кемеровская область', 'Калининградская область', 'Дагестан', 'Тамбовская область', 'Башкирия', 'Ленинградская область', 'Кировская область', 'Удмуртия', 'Якутия', 'Северная Осетия', 'Костромская область', 'Волгоградская область', 'Приморский край', 'Астраханская область', 'Эвенкийский АО', 'Новгородская область', 'Коми-Пермяцкий АО', 'Краснодарский край', 'Ямало-Ненецкий АО', 'Алтайский край', 'Калмыкия', 'Курганская область', 'Липецкая область', 'Иркутская область', 'Ростовская область', 'Рязанская область', 'Смоленская область', 'Москва', 'Ярославская область', 'Ставропольский край', 'Челябинская область', 'Свердловская область', 'Калужская область', 'Брянская область', 'Архангельская область', 'Вологодская область', 'Бурятия', 'Марийская республика', 'Усть-Ордынский Бурятский АО', 'Ханты-Мансийский АО', 'Московская область', 'Мордовская республика', 'Карелия', 'Омская область', 'Коми', 'Ульяновская область', 'Камчатская область', 'Новосибирская область', 'Курская область', 'Самарская область', 'Ивановская область', 'Пермская область', 'Тюменская область', 'Агинский Бурятский АО', 'Оренбургская область', 'Адыгея', 'Томская область', 'Татарстан', 'Мурманская область', 'Горный Алтай'}\n",
      "\n",
      "POSTAL_ADDRESS_PROVINCE\n",
      "{'Тверская область', 'Магаданская область', 'Хакасия', 'Еврейская АО', 'Красноярский край', 'Псковская область', 'Пензенская область', 'Санкт-Петербург', 'Тульская область', 'Сахалинская область', 'Белгородская область', 'Чувашия', 'Воронежская область', 'Саратовская область', 'Нижегородская область', 'Карачаево-Черкесия', 'Хабаровский край', 'Кабардино-Балкария', 'Амурская область', 'Орловская область', 'Читинская область', 'Владимирская область', 'Кемеровская область', 'Калининградская область', 'Дагестан', 'Тамбовская область', 'Башкирия', 'Ленинградская область', 'Кировская область', 'Удмуртия', 'Якутия', 'Северная Осетия', 'Костромская область', 'Волгоградская область', 'Приморский край', 'Астраханская область', 'Эвенкийский АО', 'Новгородская область', 'Коми-Пермяцкий АО', 'Краснодарский край', 'Ямало-Ненецкий АО', 'Алтайский край', 'Калмыкия', 'Курганская область', 'Липецкая область', 'Иркутская область', 'Ростовская область', 'Рязанская область', 'Смоленская область', 'Москва', 'Ярославская область', 'Ставропольский край', 'Челябинская область', 'Свердловская область', 'Калужская область', 'Брянская область', 'Архангельская область', 'Вологодская область', 'Бурятия', 'Марийская республика', 'Усть-Ордынский Бурятский АО', 'Ханты-Мансийский АО', 'Московская область', 'Мордовская республика', 'Карелия', 'Омская область', 'Коми', 'Ульяновская область', 'Камчатская область', 'Новосибирская область', 'Курская область', 'Самарская область', 'Ивановская область', 'Пермская область', 'Тюменская область', 'Агинский Бурятский АО', 'Оренбургская область', 'Адыгея', 'Томская область', 'Татарстан', 'Мурманская область', 'Горный Алтай'}\n",
      "\n",
      "TP_PROVINCE\n",
      "{'Тверская область', 'Магаданская область', nan, 'Еврейская АО', 'Красноярский край', 'Псковская область', 'Пензенская область', 'Санкт-Петербург', 'Тульская область', 'Сахалинская область', 'Белгородская область', 'Чувашия', 'Воронежская область', 'Саратовская область', 'Нижегородская область', 'Хабаровский край', 'Амурская область', 'Орловская область', 'Калининградская область', 'Читинская область', 'Владимирская область', 'Кемеровская область', 'Кабардино-Балкария', 'Тамбовская область', 'Башкирия', 'Кировская область', 'Удмуртия', 'Якутия', 'Костромская область', 'Волгоградская область', 'Приморский край', 'Астраханская область', 'Новгородская область', 'Краснодарский край', 'Алтайский край', 'Курганская область', 'Липецкая область', 'Иркутская область', 'Ростовская область', 'Рязанская область', 'Смоленская область', 'Москва', 'Ярославская область', 'Ставропольский край', 'Челябинская область', 'Свердловская область', 'Калужская область', 'Брянская область', 'Архангельская область', 'Вологодская область', 'Бурятия', 'Марийская республика', 'Ханты-Мансийский АО', 'Мордовская республика', 'Карелия', 'Омская область', 'Коми', 'Ульяновская область', 'Камчатская область', 'Новосибирская область', 'Курская область', 'Самарская область', 'Ивановская область', 'Пермская область', 'Тюменская область', 'Оренбургская область', 'Адыгея', 'Томская область', 'Татарстан', 'Мурманская область', 'Горный Алтай'}\n",
      "\n",
      "REGION_NM\n",
      "{'ЦЕНТРАЛЬНЫЙ ОФИС', nan, 'ЮЖНЫЙ', 'УРАЛЬСКИЙ', 'ПОВОЛЖСКИЙ', 'ЦЕНТРАЛЬНЫЙ 2', 'СЕВЕРО-ЗАПАДНЫЙ', 'ПРИВОЛЖСКИЙ', 'ЦЕНТРАЛЬНЫЙ 1', 'ЗАПАДНО-СИБИРСКИЙ', 'ВОСТОЧНО-СИБИРСКИЙ', 'ДАЛЬНЕВОСТОЧНЫЙ'}\n",
      "\n",
      "CREDIT\n",
      "{'12080', '7459,6', '14400', '17025', '11345', '15910', '15503', '3707', '20971', '8870', '5790,91', '30550', '41000', '37069', '11310', '33394', '5538,6', '10299', '38058', '26055', '12121', '7449', '24490', '22450', '11652', '15759,75', '9570', '29450', '46750', '36865', '36479', '17258', '31560', '25133', '23990,83', '4870', '14553', '5942', '2489,4', '6281', '3001', '19029', '15075', '22598,1', '26870', '24680', '24870', '6110', '21610,6', '25760', '7148', '25155', '14487', '17144', '17990', '4397', '10439', '6863', '9950', '7604', '19998', '11133', '11090', '13950', '9840,6', '23750', '76300', '4022', '23170', '5141,7', '27925', '8108', '27690', '9241', '10112,8', '18538', '5195', '30477', '16448', '65241', '25540', '3321', '10523', '19331', '17570', '5540', '2820', '15593', '22203', '3393', '3905', '89344', '34629', '23519', '64670', '5017,3', '8835', '8698,1', '16560', '22303', '12304', '5995,46', '10965', '27695', '25810', '5913', '25158', '9728', '26774', '18081', '10373', '12028', '13764', '21688', '8181', '4598', '30110', '18460', '18064', '5211', '10189', '23850', '16774', '29948', '7231', '4761', '56763', '10978,6', '21648', '9733', '20250', '22192', '9510', '24236', '24125', '9057', '6165', '8610', '10323', '28894', '6360', '15691', '24773,2', '16983', '5548', '13428', '12377', '78572', '4653', '11540', '13810', '10756', '74000', '41175', '6190', '9464', '11760', '10143', '20009', '3810', '99308', '5209', '15356', '5610', '17137', '27320', '15912', '7633', '4044,3', '3539', '10827', '19780', '7534', '14609', '11820', '10394', '14890', '18702', '24210', '9870', '12657', '17111', '11999,99', '27670', '28430', '7551', '59000', '12160', '6838', '17211', '11826', '10616', '13380,56', '21778', '28530', '6864', '12379', '7493', '4668', '35100', '87704', '5876', '26152', '18398', '11750,31', '25460', '22119,91', '6027', '24540', '7138', '28180', '19061', '3370', '14891,92', '6463', '31499', '7293', '4965', '16640', '19100', '6732', '10632', '4109', '5977', '4647', '10523,7', '7590', '9230,04', '12734', '26370', '16595', '9951', '8598,6', '14750', '17415', '48370', '7695', '33344', '23218', '6760', '44560', '10639', '7346', '16985', '40450', '5231', '18517,1', '14658', '2499', '22662', '8398', '98808', '7931,96', '23770', '14598', '11997,2', '28684', '15559', '9431', '15650', '16773', '19840', '17885', '4284', '17900', '10695', '4329', '41211', '5544', '26174', '9770', '11070', '32894,18', '10417', '10446', '29770', '17395', '10160', '12741', '27343', '33192', '21717,92', '16561', '27166', '5995', '4122', '4372,2', '40196', '11615,1', '3613', '18797', '7838', '8270', '10106', '11331', '21640', '79770', '25151', '9660', '3114', '7570', '18863', '13227,1', '3701', '19789', '20650', '14570,9', '26540', '10717', '2400', '37990', '17670,6', '16182', '11906', '15529', '31020', '9098', '17348', '11776', '19128,41', '5346', '3396', '26886', '9497', '22338,94', '44750', '7893', '25580', '7909', '9226', '12425', '8483', '78550', '7475', '3870', '16916', '9565', '17089', '4856', '24260', '3650', '6390,95', '40470', '7370', '28598', '20862', '33500', '8955', '20883', '24059', '7298', '20690', '9729', '35331', '3598', '52000', '43995,3', '14091', '8098', '13020', '17810', '3843', '25298', '5381', '10565', '6579', '3578', '12350', '3340', '27970', '39327,2', '4059', '22692,96', '24340', '7856', '3498', '6408', '4140', '4899', '4986', '6928', '8200', '22293', '28674', '29568,82', '8185', '19556', '24807', '13089', '23895', '48379', '3377', '62550', '21440', '16999,82', '8400', '8549,9', '19035', '7995', '25965', '16189', '19934', '10854', '15080', '6594', '3923', '29877,3', '2552', '2940', '22124', '6710', '24940', '21595', '17740', '26900', '25590', '30215', '13745', '8515', '6916', '20786', '4026,55', '25783', '20085', '5384', '13665', '16169', '10900', '21907', '8557', '3120', '22419', '4236', '17430', '3680', '18338', '21592', '7163', '29199', '75548,8', '6321', '5539', '12860', '6190,92', '53364', '29630', '38316', '22990', '24134', '7860', '11148', '11400', '10497', '29580', '5185', '19572,1', '20710', '11383', '4370', '31943', '45665', '35775', '4328,1', '12899,1', '12733,5', '38832', '2378', '25890', '20700', '14020', '4074', '5694', '6610', '4097', '5143,5', '16794', '13455,4', '14510', '12636', '2939,2', '19640', '56125', '14948', '6399', '26890', '22221', '16899', '25574', '27950', '5960', '7481,98', '14440', '3769', '12191', '7269', '4652', '19626', '48580', '40200', '3424', '10671', '25597', '8241', '20324,92', '15736', '15806,5', '21519', '17573', '12463', '14637', '30510', '10230', '15990', '2792', '22317', '20927', '25014', '4834', '9606', '5064', '10767', '15206', '5089', '36400', '22398', '16011', '85400', '4021,92', '4964', '6580', '36700', '29335', '24780', '13478', '8690', '33602', '7084', '18960', '14860', '11441', '2470', '25992', '23021', '16900', '7687', '8107', '31810', '15921', '8434,1', '14298', '20770', '8902', '41730', '21943', '6749', '18910', '29297', '5605', '3605', '8233,95', '12320', '12380', '32710', '12745', '9777', '12150', '8360', '14795', '34990', '15280', '21920', '8820', '9816', '18967,83', '10635', '39626,1', '4617', '3996', '12629', '15500', '7559', '10969', '4491', '43376', '16771', '29933,4', '9646', '10419', '6150', '14709', '5482,3', '6137', '8508', '23290', '8997', '11640', '6364', '39250', '9669', '19650', '7999', '6822', '19552', '3619', '4673', '4650', '9664,5', '24699,2', '47829', '10585', '6048', '2968', '71243', '27096', '6373', '16455', '11489', '16783', '7151', '18090', '5044', '29312', '3099', '10710', '20397', '11604,74', '21710', '15291,92', '17387', '2119', '5680', '19521', '11800', '13190', '8379', '3099,9', '15675', '6102', '3015,2', '2265', '7420', '12500', '4098', '6766', '7002', '22670', '8540', '28800', '16317', '13994', '4200', '14388,3', '4348', '11195', '22079', '7020,9', '19587,63', '27637', '19300', '12628,91', '11955', '30430', '35790', '11672', '13287', '32310', '19938', '18649', '13495', '13065', '16730', '6139', '7240', '19620', '20236', '36680', '8010', '4080', '5129', '17860', '52509', '15489', '11790', '10103', '25627', '10712', '21660', '3930', '13278', '6354', '9973', '4125', '12631', '11799', '22792', '8340', '27449', '11322', '2965', '2250', '5112', '4550', '3033,9', '11399', '17811', '22340', '4450,5', '24438', '16988', '13302,83', '19044', '89640', '8211', '21197', '14735', '10439,1', '7430', '17622', '28983', '19850', '9096', '13670', '14025', '7147', '27945', '6491', '6201', '2707,2', '13389', '6960', '32293', '5474', '14292', '19195', '9260', '3557', '29663', '33598', '13765', '23595,97', '35000', '21724', '22049', '31510', '29390', '27456', '8970', '6876', '16110', '8980', '14133', '9769', '24795', '9259', '35201', '17991', '6539', '11489,45', '29388', '23760', '12211', '20800', '69990,94', '33720', '22020', '12180', '10180,8', '7075', '25500', '10021', '10790,94', '21061', '5017,9', '3474', '11769', '16329', '21890', '46800', '3356', '19000', '3950', '7040', '26200', '12090', '2060', '21845', '3834,81', '7780', '15070', '2310', '22617', '22747', '16817', '11524,79', '3520', '6166', '23689', '24219', '4740', '11223', '15569', '29198', '18113', '6899', '20356', '18425', '14994,6', '9116', '5599', '29599', '22515', '15580', '9380', '6892', '11020', '22080', '3280', '60020', '21218', '93947', '4349', '12915', '4889', '7320', '20498,1', '28469', '15540', '31931', '23397', '24692', '16752', '48460', '3103,2', '13981,82', '6090', '8940', '3330', '17640', '9287', '22745', '12372', '5353', '18012', '17199', '2979', '15615', '4360', '3918,6', '50898', '82500', '4678', '30400', '13504', '66690', '41994', '6972', '28338', '17141', '71600', '9371', '2612', '17756', '84630', '38491', '22298', '6685', '3929', '7870', '9072', '16272', '34046', '9031', '13140', '2578', '6120', '24064', '10735', '10889', '31748', '5763', '7460', '28594', '2915', '27199', '20059', '6299,2', '37305', '13650', '10690', '31449', '24897', '17932', '3294', '12247', '19927', '5646', '85223', '4270', '2524,5', '7610', '18630', '28280', '15795', '3850', '13122', '26595', '4852', '15190', '3423,59', '7735', '11744', '4788', '20796', '20680', '9527', '10620', '3304', '7290', '11871', '5168', '3095', '12686', '51370', '30240', '38490', '40180', '12672', '42400', '11738', '23695', '5788', '24524', '22085', '17921', '20129', '25464', '6938', '7961', '5118,3', '10935', '14916', '2759', '24247', '21819', '4240', '18217', '11212,06', '18696', '4110', '17251', '10844', '12360', '17380', '6538', '17490', '6230', '20751', '9891,9', '11471', '5280', '30216', '4689,94', '24600', '24360', '25177', '27337', '22275', '6390', '13014', '23009', '19375', '10846', '7713', '29860', '9451', '20149', '8148', '16920', '7230', '13550', '36194', '14207,1', '11199', '10584', '4030', '5794', '14377', '28472', '2996', '25452', '28026', '26590', '22910', '5125', '24599', '6447', '26051', '24299', '61487', '25340', '53499', '5397', '3260', '12850', '81612', '5228', '17709', '72090', '24930', '22058,91', '18198', '12648', '17329,92', '13989,4', '24127', '5149', '38498', '19833', '29219,46', '5950', '5708', '7682', '24460', '9370', '29060', '17117', '9702', '21654', '19230', '9878', '28132', '9898', '20421', '22352', '18692', '5586', '9000', '13456,82', '10998', '35920', '33300', '14035', '8482', '7219', '24647', '26339', '30726', '14931', '19457', '6499', '10993', '11236', '3876', '23584', '28580', '17910', '6102,19', '23758', '7470', '13157', '13677', '5877', '17480', '16199,2', '16312', '4756,5', '14144', '16052', '50560', '13991', '21865', '13872', '15038', '2190,2', '16064', '32444', '11197', '11470', '34148', '11834', '35010', '6967', '5497', '11371', '2094', '18440', '18209', '18304', '3764', '23128', '4262', '27342,5', '23663', '17474', '5280,91', '24640', '9430', '9278,1', '12443', '4043', '19480', '7987', '2529,61', '16488', '25758', '24358', '28224', '20529,9', '8291', '16287', '12397', '8357', '6193', '9977', '8076', '17388', '15625', '6367', '5929,95', '3647', '4149', '33476', '12755', '4911', '7061', '5456', '3000,91', '15620', '17825', '5673', '17076,2', '30954,64', '9538,9', '13470', '21042', '6346', '16669,84', '35097,66', '6298', '10938', '13139', '25343', '28919', '13330', '2061', '17649', '82170', '4590,2', '22950', '4556', '26988', '27149', '22589', '14338', '18099', '10183,4', '18413', '3516', '13138', '16653', '150000', '11364', '79820', '7926', '14320', '9500', '19924', '4217', '21105', '7074', '7348,52', '2985', '19545', '46900', '15490', '9491', '12130', '47529,91', '34618', '61290', '10755', '10046', '23650', '7541', '27198', '68990', '60600', '4261', '4150,95', '52250', '25190', '22195', '16841', '83194', '22372', '39240', '5282', '37440', '6948', '14875', '8253', '18575,2', '12803,4', '12305', '10880', '16875,1', '3179', '13780', '13875', '19280', '2360', '65520', '18669,2', '19150', '6411,72', '13176', '16868', '2009', '9759,4', '3661,01', '26663,6', '5078', '19857', '9579', '42335', '43600', '7425', '28850', '14205', '29160', '25522', '24605', '9059,92', '3051', '8630', '39110', '9530', '20497', '6198,28', '3832', '21597', '17865', '33290', '20874', '25625', '5990', '26280', '10539', '20450', '116360', '29691', '18997', '5041', '5585', '3481', '3753', '9021', '20610', '12978', '16280', '61973', '41021', '22147', '17960', '10000', '8605', '7281,94', '2910', '23690', '14758', '23876', '10580', '32940', '17350', '9310', '8789', '17839', '24682', '7114', '5535', '27855', '56673', '3067', '11730', '16198', '23411', '87850', '89200', '13457', '6900', '15556', '9947', '14619', '13690', '10220', '4254,12', '10389', '7680,91', '3801', '20380', '71000', '65448', '16499', '2390', '19897,1', '32312', '13976', '5569', '20620', '6101', '9529', '21861', '10192', '34980', '14513', '15115', '61200', '31460', '23971', '19886', '3537,5', '41720', '33670', '9998', '6903', '13376', '11795', '15389', '8762', '5373', '17191', '30060', '24479', '5936,81', '4207', '21312', '7515', '3105', '6247,8', '11669', '10707', '6904', '14333', '32114', '17324', '18246', '5855', '16265', '3639', '56899', '2990', '13370', '58000', '21355', '12105', '5970', '39900', '98000', '8604', '13230', '20433', '7474', '30799', '18934', '26300', '23959', '9111', '5383', '8555', '5432', '6022,8', '17485', '27588', '34660', '6480', '8702', '22944', '5092', '27356', '24017', '18010', '16615', '10879', '23787', '10719', '30951', '11230', '11739', '14730', '41170', '19269', '46471', '33996', '6715,2', '12328', '24465', '13805', '9458', '11998', '11348,1', '5023', '18001,28', '20263', '8360,92', '10708', '23788', '17170', '36570', '8077', '24317', '17323', '5020', '7516', '77982', '20780', '8964', '28900', '5530', '64350', '7670', '26490', '2880', '5688', '15763', '8136', '14925', '15216,06', '26440,91', '4021', '4057', '23347', '9888', '8339', '31672', '31015', '8815,5', '6733', '22356', '4823', '40240', '10124', '14596', '3207', '32000', '24475', '2689', '23640', '14030', '9410', '5222', '4177', '7385', '5689', '8744', '14340', '74690', '21110', '10174', '29177', '13734', '16888', '8721', '12468', '18126', '14272', '4143,58', '19129', '10100', '17346', '20305', '7950', '6475', '22244', '33405', '21597,8', '10330', '13328', '10097', '9923', '18074', '9060', '13443', '18004', '42899', '15354', '17215', '56340', '19481', '24071,3', '24290', '17476', '32494,48', '10560', '5933', '20686,58', '28998', '23920', '8492', '7884', '2711', '5470', '23865', '17375', '6823', '12423', '9798', '22324', '6514', '20277', '7348', '31484,1', '5939', '21214', '21041', '17203', '23300', '3077', '4820', '5678', '4212,8', '7707', '8670', '6130', '3147', '24241', '9027', '12599,9', '15657', '26390', '7038', '23160', '31502', '5776', '26898', '12880', '27860', '13989', '8228', '28861', '21740', '26085', '7099', '3199,2', '7595', '4439', '12077', '3485', '13768', '5157', '5026', '56518', '6793', '33126', '22889', '10751', '2673', '6205', '10508', '20180', '6800', '10050', '26641', '24721', '7057', '3310', '4369', '26177', '6142', '18691,5', '3490,99', '86618', '7486', '42742', '29799', '12515', '5424', '27891', '20375', '91546', '14715', '19984', '23475', '5174,2', '3348', '10105', '3125', '18750', '18184', '13382', '26621', '16395', '24285', '3657', '24648', '19739,84', '21154', '16660', '10214', '14717', '34125', '8295', '14454', '7070', '21736,2', '29970', '7776', '20355', '28437', '17360', '19295', '17180', '24223', '18589', '21030', '19530', '27898', '10509', '15749', '18845', '4765', '11670', '7655', '5021', '19133', '21578', '33030', '35200', '22282', '9655,2', '6319', '26480', '20102', '26537', '37350', '21000', '13337', '18648', '32183', '20502', '23268', '20080', '36086', '19278', '3032', '8087', '2183', '14050', '6096', '23511', '18455', '7032', '25630', '9290', '19190', '21690', '10618', '4492', '20952', '13610', '17615', '14348', '4802,54', '13409', '20350', '11270', '7183', '18067', '9826', '16630', '4056', '12417', '17795', '11055', '6925', '34199', '15658,85', '25831', '19547', '4371', '13496', '10647', '16467', '15887', '12276', '4995', '6757', '17290', '10748', '16583', '19482', '40119,5', '25868', '21808', '5525', '18390', '10185', '22674', '25900', '17763', '25897', '13592', '22008', '19991', '3337', '2780', '14940', '18670', '13356', '33910', '23130', '24346', '23976', '17688', '3792,92', '15325', '9173,88', '18560', '22700', '8433', '17073', '52561', '9240', '22645', '7988', '8755', '17428', '3327', '13016', '8780', '27233', '13324', '5305', '37996', '5310', '19853', '14978', '37456', '28625,8', '15599', '7353', '5898', '7642', '5232,2', '6999,3', '21381,12', '16519,02', '14059', '9629', '4392', '20242', '30078,4', '23667', '31880', '14526,8', '42940', '45908', '5870', '17567', '10616,4', '17869', '19615', '14771', '46540', '5304', '28079,84', '43010', '16603', '12464', '20155', '44770', '13435', '10800', '13689', '18499', '6924', '22906', '4199,2', '31792', '12239', '46000', '25790', '6358', '3231', '46197', '13165', '20657', '37517', '21080', '13294', '37100', '20541', '4026,4', '12189', '17966', '33588', '32390', '43950', '14072', '7830', '4152', '13280', '15564', '26770', '23980', '12590,95', '20601', '6810', '32770', '25426', '12376', '7863', '3442', '6959', '38850', '8717', '9443', '10339', '45290', '11551', '29963,85', '13536', '10899,6', '13115', '9335', '8247', '10099', '2773', '23400', '35992', '26880', '10770', '23210', '2366', '13820', '4967', '15313', '34766', '23913,2', '29410', '5126', '4795', '18269', '13271', '29997', '19089', '18006', '24345', '18870', '5032', '6035', '9768', '34821', '22616', '11377', '29858', '5289', '10940', '4390', '47789', '11580', '23929', '32220', '13432', '17773', '17064', '20715', '26909', '25936', '3237', '29030,6', '8699', '27660', '23800', '2072,7', '86071', '16112', '21382', '2090', '11900', '9945', '3663', '14092', '29615', '56210', '33830', '4235', '7089', '13797', '15315', '4880', '15120', '2495', '12219', '45480', '23425', '8134', '11735', '12421', '16893', '3430', '13653', '26999', '8666', '7850', '21762', '33280', '16114', '9760', '14885,91', '6912', '12646', '29428', '40391', '14100', '8117', '7937', '4464', '20691', '14128', '3009', '12088,12', '13997', '14449', '32975,3', '10796', '14330', '5987', '3584', '21150', '15098', '2215', '13380', '22543', '11749', '31933', '24229', '11986', '21510', '7262', '23943', '40490,91', '10262,2', '74500', '25893', '31897', '15715', '22135', '15286', '4326', '3285', '14805', '6249', '23399,2', '41620', '11589', '5472', '19040', '11650', '4775', '14076', '8638', '5005', '52200', '43682', '15789', '28680', '12549,07', '10390,92', '12849', '13366', '10617', '22048', '38389', '5230', '16964', '12908', '10526', '20370', '9326', '30680', '5431,2', '21058', '22395', '8723', '4821', '11710', '2704', '6648', '21620', '23201', '3204,9', '20295', '7621', '18598', '11302', '2270', '10275', '7017', '29334', '31190', '21200', '16370', '6556', '3299', '13940', '6065', '22453', '13879', '12531,94', '18128', '22346', '5608', '17568,3', '2152', '19795', '4362', '19301', '6990,91', '4734', '4420', '19598', '6492', '14148', '27275', '7711', '12490,9', '20589', '16099', '29010', '23320', '30630', '16544', '4618', '3353', '11333', '22489', '29699', '8852', '17752', '7609', '6283', '10540', '10713', '5570', '28070', '5120', '6780', '16452', '8478', '18990', '21470', '5729', '16279', '10665', '73035', '5949', '18987', '22480,9', '3499,9', '13030', '15810', '4180', '7990', '21840', '4267', '41950', '15300', '7441', '67795', '23985', '5607', '6490', '4572', '6766,4', '15245', '9233', '15228', '55995', '16977', '24239', '17826', '15192', '14047', '17273', '34999', '11755', '20669', '19350', '4216', '24800', '3688', '16908', '17100', '6103', '7927', '4828,7', '23783', '23940', '9245', '2907', '6783', '20575', '12896', '14570,01', '8127', '12111', '4809', '30714', '5635', '24881', '10593', '13829', '13889', '28890', '7268', '19037,2', '16097', '21446', '31415', '3025', '9564', '8795', '5650', '22530', '11080', '41700', '20698,1', '18299,9', '6236', '2540', '9180', '16298', '8694', '51900', '8054', '12588', '8559', '3148', '24404', '8833', '23994', '7800', '5095', '18720', '10550', '17029', '10780', '5405', '20340', '18400', '7796', '17920', '19341', '18185', '24403', '3794', '4339', '5130', '19950', '17045', '25250', '4512', '18236,55', '9013', '43996', '7140', '2745,9', '29478', '6591', '11200', '25315', '21828', '36980', '17379', '7504', '6377', '20020', '18784', '11526', '21586', '5988', '4752', '13623', '6265', '10030', '19900', '9900', '8725', '3276', '40248', '2350', '4536', '3448,8', '16994', '18576', '22870', '30190', '11458', '4990,94', '9468', '2047,5', '16680', '23060', '28971', '17106', '18403', '6345', '12199', '28429,9', '11636', '7439', '29590', '15231', '5751', '19197', '15410', '3750', '11156', '12227', '49498', '18740,5', '3152', '24580', '10864', '32391', '18707,1', '8603', '22615', '37400', '22032', '32850', '23396', '10398', '4228', '38725', '38401', '18905', '5839', '3919', '25480', '17730', '7998', '5850', '16090', '22925', '21210', '7770', '8786', '17863', '23780', '23795', '4427', '52864', '21653', '47309', '16940', '17475', '17247', '9814', '38312,5', '18808', '19847', '7917', '6747', '27450', '11659,85', '22890', '25898', '14747,1', '23219,85', '27666,14', '13615', '41622', '11530', '38500', '2720', '7629', '14399', '14969', '5668', '2751', '4314', '13290', '7195', '30344', '4476', '13000', '13748,5', '6167', '13310', '20898', '29461,34', '8530', '9710', '8424', '8860', '10836', '6255', '22236', '20106', '5723', '9742', '6999', '12373', '10457', '6433', '9963', '6926', '13387', '11049', '13680', '13018,1', '28845', '17049', '5170', '28310', '10158', '11860', '3580,9', '37860', '18861', '74466', '11660,93', '27141', '6920', '7593', '4984', '9461,5', '9597', '21209', '23416', '13649', '20268', '14698', '11088,5', '5789', '20893', '25260', '7689', '20877', '16960', '17400', '9551', '5448', '37495,2', '24840', '17631', '7490', '50970', '11892', '13351', '2398', '21410', '10749', '24450', '38340', '56680', '41154', '17173', '9850', '36267', '17673', '20590', '17878', '26082', '9509', '9215', '25601', '3343', '27990,91', '29396', '17129', '10166', '31695', '5606', '7398', '2099', '26904', '22420', '26889', '21950', '38406', '22637', '15370', '4860', '9263', '20525', '81672', '11508', '19189', '9780', '3877', '15498', '11796', '41210', '13063', '68000', '30597', '4118', '24263', '7060', '13210', '15024', '11840', '6758', '17276', '72890', '44050', '6380', '5931,8', '4448,23', '9190', '22588', '58670', '5366', '41397', '3930,81', '11695', '11981', '20220', '10374', '4754', '5091', '11496', '26164', '41837', '5579', '11805', '16428', '20679', '16696', '22168', '6941', '74119', '8497,4', '4642', '19340', '82849', '3659,5', '25740', '15283', '28535', '7228', '5205', '8788', '37666', '12984', '13160', '31588', '10021,5', '16501', '6819', '28661', '2135,14', '14288', '5534', '16975', '10790', '16140', '7366', '5335', '16197', '6831', '9448', '31720', '13865', '15446', '10057', '29760', '11752', '13715', '14119', '6873', '22091', '13515', '8100', '13302', '13887,68', '26489', '51875', '4923', '3740', '13197', '48000', '25702', '19520', '25897,4', '7210', '2781', '16485', '9588', '6010', '22292', '2816', '48700', '11598', '9592', '25588', '25453', '13908', '12581,89', '14570', '5109', '20393', '11646', '62468', '15735', '50940', '7509', '13288', '26113', '2226', '19528', '12106', '17613', '20440', '47000', '24579', '10194', '7235', '9847', '23315', '2157,45', '12096,2', '15630', '3418', '9452,97', '23057', '3372', '72500', '37930', '31604', '6496,1', '8798', '24880', '24608', '4203', '14410', '6691', '5178', '5908', '13315', '7910', '26170', '26955', '19540', '5625', '5237', '4749', '9330', '14991', '33909', '6527', '15293', '11619,84', '19711', '16613', '22180', '3837', '4190,9', '18838', '23992', '14786', '13500', '2004', '12730', '12315', '13421', '6181,09', '24885', '9350', '23625', '2970', '21999,2', '23020', '14469', '28011', '21300', '6263', '11941', '10542', '12900', '5841', '3383', '19464', '20005', '10265', '17700', '25999', '12393,91', '8263', '35490', '13566', '21240', '21948', '24370', '13227,7', '44100', '3984', '4578', '18850', '35990,92', '12695', '22427', '34195', '17093', '5490', '38000', '8950', '21771', '10995', '29592', '9360', '33800', '5835', '4851,81', '75500', '11190', '75587', '14840', '69500', '14632', '80676', '18839', '29600', '12562', '33111', '32450', '14027', '6075', '8984', '21082', '7438', '5959', '20928', '8030', '72220', '4463', '6537', '24458', '52295', '26276', '23440', '28730', '9294', '9498', '23355', '9393', '16688', '3060', '8230', '138400', '9077', '53880', '29997,24', '26157', '7911', '10241', '10760', '11303', '21591', '8568', '11532', '3545', '4661', '14268', '10655', '15320', '11217', '13093', '17190', '16692', '15085', '5097', '24314', '46170', '5043', '6487', '29239', '14000', '13195', '20400', '23100', '7999,1', '16175', '59224', '3301', '36490', '4826', '6721', '6779,07', '12300', '28641', '19538', '4360,91', '21899,94', '18727', '19889,8', '20210', '25730', '4525', '8889', '17556', '10282', '16576', '4454', '24336', '18200', '32580', '8215', '5666', '22888', '13166', '5077', '15744', '72896', '26070', '10331', '25454', '13980', '8947', '23593', '13438,3', '14013', '10970', '2380', '16525', '9482', '2033,05', '8924', '21700', '6543', '5225', '7673', '44900', '3952', '5691', '21160', '14589', '48572', '26708', '2696', '3186', '29052', '26896', '49444', '4239', '3549', '4336', '24198', '3250', '16732', '7959', '19140', '27050', '25628', '9631', '20755', '7620', '3970', '9306', '10438', '5218,06', '3783', '35326', '4125,6', '27392', '38778,01', '18825', '16166', '19137', '100500', '4549,92', '27156', '6325', '29070', '23448', '7220', '9053', '29400', '29180', '6985', '22040', '40581', '9524', '2172', '3798', '5742', '15765', '22561,6', '9349,92', '15398', '21805', '13365', '10634', '5890', '22280', '3245', '15640', '15403', '27780', '3463', '24085', '8292', '4746', '7747', '27146', '3349', '27094', '16965', '18286', '6397', '44408', '6288', '6969', '8890', '18206', '37391', '32430', '12097', '3839', '3123', '25812,5', '4469', '40250', '25199', '20001', '21320', '25220', '5510', '12830', '23975', '21910,8', '7174,6', '32525', '2950', '15102', '22495', '18187', '12289', '66000', '2210,4', '11658', '17599', '6497', '4624', '7229', '43380', '16142', '4620', '21350', '4221', '19120', '32992', '2797', '18008,55', '45506', '12843', '5053', '9688', '6616', '17750', '19897', '15800', '16480', '11191', '22848', '23830', '19910', '31806', '4812', '6130,8', '2189', '25299', '25137', '17446', '32920', '27208,78', '30360', '2961', '22150,95', '12713', '31365', '24868', '14237', '19775', '12412', '7588', '15084', '31716', '13059', '4802', '6652', '6964', '17530', '27230', '15230', '14639', '12846', '18496', '28640', '38108', '35990', '51426', '20790', '20046', '5330', '18789', '18624', '12490', '10370', '21927', '5489', '11120', '8235', '16107', '23498', '23393', '14070', '12399', '24751', '9799', '22469', '31398', '18361', '14500', '8491,82', '4674', '90747,9', '3470', '16669', '42669', '17996,1', '13141', '15110', '7900', '3932', '16950', '15704,6', '64500', '4509', '84570', '59761', '8389', '14820', '9080', '32398', '29905', '5687', '5451', '4040,1', '15750,91', '5436', '18085', '3281', '3010', '3528', '42880', '9067', '21140,7', '9230,9', '31991', '6881', '19410', '28210', '7614', '5344', '3749', '4882', '14622', '23713', '8918', '5036', '4375', '9852', '9351', '6669', '20390,94', '8299', '61920', '31255', '4679', '6848', '5179', '4041', '2331', '24423', '19015', '10479', '34562', '8741', '14350', '5765', '12250', '24428', '13793', '18138', '10198', '3020', '32955', '11520', '12197', '3760', '9764', '9842', '5439,2', '19143', '17227', '78300', '9545', '11977', '11281', '27737', '23406', '10348', '18025', '15647', '26330', '10191', '26397', '10939', '19872', '16098', '18689', '37200', '9050', '10190', '6023,7', '8844', '19687,5', '13580,5', '40050', '15192,73', '16237', '23579', '10795', '14279', '5389', '8022,6', '12470', '16998', '28230', '13326', '11065', '8990', '25020', '29280', '21858', '14669', '14290', '14993', '22819', '14006', '13514', '11701', '2873', '30697', '4408', '9107', '47700', '20510', '23717', '4064', '15633', '4175', '15067', '56310', '8065', '11989', '22154', '21596', '13299', '11680', '98042', '18535', '20399', '17780', '2341', '33700', '23828', '6544', '16151', '16530', '23279', '13165,61', '35980', '6100', '11372', '4759,6', '8775', '12678', '12314', '75535,08', '11320', '23095', '25830', '10972', '31800', '18176', '13934', '12331', '28715', '14315', '16596', '26938', '54738', '3249', '3720', '39000', '29380', '10791', '11150', '13905', '6024', '22789', '9679', '52469,87', '24399', '6984', '4490', '23230', '12050', '13728', '14331', '4347', '14446', '18891', '9971,3', '8979', '7181', '16191', '21685', '16065', '18472', '7095', '21464', '61350', '26780', '28760', '41125,88', '53162', '17572,68', '13625', '29800', '20190', '6021', '9990', '14328', '2243,7', '27900', '25738', '14725', '3975', '7155', '20249', '3636', '96860', '29295', '22714', '83407', '33678,2', '42699', '13999', '17070', '33570', '27125', '30920', '29989', '18840', '15750', '36701', '27420', '4730', '12980', '13248', '4530,7', '54264', '28042', '37608,91', '2952', '20169', '12490,2', '9189', '18591', '14980', '13489', '2829', '15523', '13088', '17529,91', '14551', '4999,1', '4659', '14696', '24550', '12466', '9895', '22860', '14830', '18654', '31263', '25095', '20598', '7599', '26600', '2995', '18553', '78934', '4559', '17379,99', '21484', '45952', '5355', '4446', '8452', '10430', '23852', '7011', '5350', '14060', '3035', '22413', '43984', '10454', '11205', '10338', '18481', '2676', '8064', '24328', '11288', '9375', '25557', '15181,8', '6680', '7581', '24204', '15003', '12840', '5033,83', '3895', '6883', '31140', '41292', '7236', '6186,7', '22243', '17339', '29277', '6763', '50929,82', '15041', '29033', '15724', '10295', '2690', '7874', '8470', '10496', '14917', '57209', '29376', '15181', '27347', '23480', '15975', '24131', '9007', '2555', '45482', '20904', '18042,91', '12230', '26510', '13336', '11600,6', '14852,7', '3360', '18676', '12589', '13366,2', '9396', '13331', '26479', '27980', '49180', '5762,88', '3076', '46649', '27829', '72990', '3185', '32593', '4675', '35316', '19943', '7480', '15575', '11943', '19589', '2259,9', '3821', '16379', '24159', '19388', '12947', '10306', '8445', '10490', '10498', '21286', '14147', '26241,6', '13630', '19443,5', '23205', '3429', '14271', '3050', '5920', '19011', '26183,5', '14240', '22528', '10287', '15616', '24604', '7540', '4667', '16155', '11016', '7170', '5290', '27510', '42000', '12390', '23000', '22621', '4600', '6386', '19072', '32290,6', '25585', '18479', '11286', '38625', '31643', '27540', '15017', '12195', '10290', '20730', '49940', '10434', '15427', '12321', '25385', '2804', '18882', '6604', '14037', '30355', '24100,83', '3882', '3602', '9600', '8909', '13178', '7472', '11100', '12020', '3894', '19419', '7167', '21286,1', '21388', '10528', '16662', '20132', '32348', '3599', '20896', '5679', '4014', '17607,33', '25271', '28475', '27040', '11347', '52930', '5377', '44760', '34793', '15883', '4011', '51700,5', '2620', '31060', '11380', '23746', '11850', '5180', '93000', '8735', '16390', '6756', '9347', '10990', '31538', '4915', '19999', '24170', '18590', '18810', '22930', '37500', '30197', '30996', '17270', '13644', '26550', '3174', '12472', '14611', '21279', '28151', '20648', '18105', '23546', '16219,81', '31468', '6746', '5646,6', '18268', '13591', '18890,9', '10161', '8126', '70300', '19503', '7343,95', '2853', '39300', '18895', '19071', '76738', '17424', '7115', '29094', '20999', '23730', '15226', '20205', '27124', '11911', '12935', '7582', '4657', '38120', '18700', '5072', '13134', '5198', '26189', '6202', '15936', '26989', '64794', '5963', '31496', '22896', '2245', '11093', '11980', '18790', '6333', '22999', '7417,5', '5505', '29980', '28534,5', '18490', '23304,6', '6662', '17994', '4937', '13300', '11740', '29653', '7291,85', '7514', '24700,2', '14560', '10794', '9276', '4504', '4598,6', '14382', '11830', '7585', '16441', '11042', '20030', '5524', '56000', '30280', '8532', '6375', '10090', '22391', '34280', '9002', '17842', '7979', '22266', '17712', '84622,3', '14790', '12419', '25107', '13493', '14659,2', '24871', '28090', '15000', '7310', '79380', '28060', '4579', '4428', '28440', '8110', '4576,5', '16995', '5351', '15822', '4619', '23737', '9758', '6561', '41451', '76550', '25109', '10695,13', '22498,2', '17810,82', '6329', '8303', '9090', '13010', '6681', '11407', '25390,94', '6300', '5968', '24112', '5445', '18207', '8179', '5643', '72998', '25400', '22962', '27877', '8960', '19993,4', '26634', '22547', '8130', '12511', '16214', '21784', '6350', '16482', '16602', '6858', '17718', '10238', '27963', '5388', '9204', '10310', '5822', '31320', '30391', '16823', '18955', '10768', '18881', '21984,55', '25445', '16264', '25031', '45438', '7484', '11855', '17202', '2438', '7194,72', '4049', '25748,2', '6361', '27020', '19522', '28876', '6562', '98996', '13463', '28112', '7597', '14866', '26664', '3418,5', '6539,91', '23558', '18389', '49100', '12598,2', '29680', '34840', '50678', '15220', '10355', '24116', '12597', '21707', '6567', '35670', '9170', '24995', '29332', '9957', '13929', '14775,71', '6490,5', '6574', '17161', '31466', '31196', '20088', '14493', '15919', '87673', '17623', '28842', '19609,92', '33417', '30361', '32844', '17861', '4649', '6698,3', '7760', '16883', '4607', '3316', '24280', '17160', '6953', '3610', '19074', '4648', '15190,5', '9550,82', '14198', '27665', '17716', '10204', '36952', '31694', '4690', '13112', '2428,2', '47114', '22125', '3589', '17557', '4945', '41829', '74650', '3284', '23137', '20007', '27700', '26379', '20248', '15290,7', '16849', '22490', '47021', '5749', '11487', '5810', '32265', '17520', '15336', '12092', '10668', '7587', '6419,78', '22803', '21078', '20659', '9595', '32508,2', '24983', '6489', '8654,1', '14078', '35498,4', '4705', '13635', '19843', '4240,91', '65747', '10134', '3560', '4398', '4428,1', '29950', '4944', '5200', '20980', '29300', '15579', '19930', '4505', '8476', '40594', '5936', '3848', '7730', '15648', '9686', '16470', '13859', '30825', '9557', '14913', '11296', '28899', '75408,47', '3193', '27440', '53662', '10764', '15210', '8837', '3614', '75000', '7450', '17643', '67160', '9700', '41400', '28551', '11428', '30100', '4100', '37424', '3390,5', '16547,3', '4246', '6460', '3886', '24790', '25823', '9255', '17427,33', '15927', '34890', '22733', '7794', '41990', '15624', '7340', '10032', '11870', '28241', '20640', '14005', '7820', '26776,1', '10990,94', '7497', '3335', '76360', '6675', '6799', '16690', '28160', '22498', '2039', '4546', '2000', '15147', '3770', '23256', '25662', '25598', '9477', '13771', '11423', '24607', '5031', '6712', '32680', '4925', '14595', '5865', '21881', '12495', '5090,92', '37900', '3852', '5612', '18510', '12580', '5359', '19567', '11660', '29430', '32320', '8441', '22290', '24066', '94495', '4032', '16189,4', '19982,92', '9789', '21362', '12166', '4840,65', '17149', '11290', '8164,56', '12340', '23842', '6238', '15380', '16040', '16919', '8647', '12427', '5598', '10566', '14360', '29851', '12408', '20939', '32617', '7492', '4488', '2104', '20310', '79959', '26854', '8500', '8655', '10555', '46671', '6294', '34422', '4450', '12600', '5357', '52870', '29075', '23352', '7533', '18876', '2457', '5719', '15186', '12708', '7698', '15481', '24015', '29294', '9081', '10060', '24914,84', '35360', '13580', '17361,76', '4275', '26365,6', '21670', '27062', '59750', '5380', '25732,2', '32938', '13497', '20934', '2198', '4758', '14371', '9901', '5991', '31770', '15229', '26665', '8456', '18463', '4936', '47250', '14490', '29285', '7010', '26060', '4921', '16820', '10127,7', '14215', '5261', '14196', '87810', '3651', '25680', '7208', '7395', '11482', '14231', '6398', '9924', '27706', '10115', '4535', '6070', '17940', '17462', '2957', '60829', '10506,76', '32241,82', '3940', '11916', '18215', '2855', '22881', '17230', '55809', '8595', '4293', '6839', '4527', '12173', '4704', '14436', '2239', '26560', '29500', '27289', '31250', '10418', '10992', '13941', '5458', '22457', '31400', '14854', '20090', '2240,95', '16657', '28913,76', '10500', '8510', '11990,2', '22825', '3668', '7799', '13488', '11362', '8549', '27196,1', '40098', '96970', '7550', '12699', '6080', '9044', '22540', '16748,1', '2590', '30518', '23158,1', '13479', '17610', '2745', '17624', '8777,1', '25950', '19021', '20326', '18566', '12382', '9949', '8793', '44255', '20619', '18949', '21529', '32843', '39980', '21876', '17525', '60300', '10256,1', '13774', '8348', '13469', '30490', '5419', '9983', '4428,97', '6289', '9444', '62100', '92600', '9913', '9805', '11792,5', '15989', '36943', '18456,2', '3460', '6118', '3129', '7132', '6730', '28509', '14877', '54859', '2150', '4983', '10670', '21911', '7077', '18762', '4458', '27799', '14165', '21062', '33143', '21919', '6399,2', '10714', '5520', '16776', '15844', '14481', '36082', '6842', '26355', '36805', '119700', '12989', '27986', '44400', '4738', '11170', '21896', '15605', '32085,4', '22440', '18805', '8027', '15420,3', '24250', '20565', '10149', '35995', '10459', '17140', '16980', '11529', '7473', '4292', '26232', '41470', '34800', '11081,52', '23154', '21910', '3819', '4455', '19083', '14146', '3128', '4042', '3512', '13025', '17979', '21812', '22980', '8244', '15327', '20409', '14743', '9651', '7136', '2065,5', '12508,2', '6479', '5239', '7717', '14337', '6311', '8680', '35248', '10704', '18745', '16976', '4291', '6014', '13344', '5946', '31875,3', '27200', '4533', '25080', '12990', '23670', '33881', '3745', '21146,4', '8617', '15547', '25775', '30471', '22364', '6004', '9440', '2570', '14052', '17839,92', '3471', '9979,5', '73000', '11896', '32846', '2565', '16733', '4767', '11010', '30131', '4689,2', '2054', '99350', '4996,8', '11910', '17759,27', '6260', '7131', '30603', '9398', '9858', '19844', '79500', '30954', '44938', '3672', '3195,9', '15214', '15100,82', '4140,2', '8507', '26915', '3909', '30158', '8323', '16481', '22233', '37233', '13761', '7042', '5660', '8464', '7769', '23882', '15613', '22668', '19883', '27228', '16364', '11642,3', '27480', '3002', '22277', '23854', '33434', '25380', '9302,92', '32700', '18414', '21298', '20767', '6781', '8499', '10699', '26928', '28966', '18908,1', '51140', '8731,47', '5364', '3861', '28623', '16879', '25546', '4250', '3196', '20802', '26999,2', '24720', '17250', '28238', '30729', '27457', '6950', '7452,4', '6754', '27088', '18632', '4985', '17308', '70410', '19187', '27960', '16737', '14420', '11198', '27857', '16199,1', '15596', '22100', '6643', '4366,8', '20979', '18573', '3108', '15856', '9457', '15697', '15813', '5139', '39638', '6560', '75478', '19498', '42682', '21832', '12835', '10858', '4697', '30175', '4867', '16489,9', '7128', '5761,9', '11373', '22520', '11352', '8170', '40756', '9036', '24220', '12947,2', '26960', '18380', '22110', '7201', '6239', '14071', '10001', '35825', '16751', '2785,44', '4952', '10451', '18020', '16738', '5390', '8771', '9730', '4986,5', '3013', '7880', '2595', '6141,75', '4700', '28790,94', '4220', '4835', '35500', '28727', '4979', '24070', '10629', '34140', '29120', '19740', '10019', '81000', '59629', '4602', '3995', '14046', '6138', '6228', '6330', '18799', '30702', '8239', '26150', '8883', '17298', '21827', '38919', '17112', '5869', '7618', '3819,2', '6944', '41132', '19155', '33600', '17655', '14058', '11880', '10469', '3404', '2514', '8169', '76730', '36136', '60700', '14326', '15665', '70705,96', '22460', '11477', '24941', '2669', '13465', '11529,91', '90590', '4318,2', '35430', '47223', '24199', '21086', '8043', '7788', '36679', '6776', '18970', '25300', '9070', '72885,57', '5109,2', '12940', '9484', '20820,2', '7602', '43732,8', '4462', '9960', '44415', '18686', '39090', '8453', '7369', '11300', '11305', '16222', '15479', '71880,3', '25690', '12339', '58900', '73308', '9909,9', '25592', '29443', '25742', '6552', '29220', '6605', '4970', '7763', '10231', '4846', '17996', '10852', '12405', '23389', '4917', '44930', '18964', '3933', '8880', '10804', '31793', '8978', '24569', '11159', '13490,2', '9390', '26454', '38943', '30299', '10520', '4000', '6951', '18718', '5773', '17098,2', '61832', '11069', '3547,42', '23840', '27580', '7650', '10209', '12548', '11583', '11848', '3357', '19413,2', '15595', '43195', '21216', '60720', '21444', '8405', '83295,63', '5568', '28421', '22145,1', '16392', '14370', '15699', '3274,2', '9490,92', '25802', '8640', '3142', '3640', '5504', '17383', '9009,91', '6736', '8180', '24745', '35897', '9910', '49863', '19050', '8035', '28599', '2660', '19200', '31450', '11434', '35770', '45630', '39800', '33392', '9099', '20609', '4928,96', '19997', '30545', '15480', '16450', '15748', '14600', '11454', '21051', '9596', '20296', '41600', '3410', '24844', '15240', '9230', '11754', '23380', '6795', '22330', '11992', '14097', '42281', '13490', '8816', '9838', '8220', '22050', '23720', '28221', '28420', '8149', '33358,84', '21960', '10891', '20820,44', '9159', '23317', '5057', '27160', '11025', '18868', '2299', '43990', '6690', '6786', '11489,91', '2135', '18491', '14255', '14918', '6127', '23728', '6656', '4633', '19923', '7547,2', '10866', '9894', '15888', '11085', '18054', '28386', '11908', '17911', '4875', '99800', '29209', '13776', '5840', '7530', '4036,5', '20977', '16057', '8307', '18110', '27795', '2255,4', '22160', '98136', '23324', '29917', '3406', '16100', '13843', '6396', '8941', '34555', '5071', '20097', '10930,52', '34190', '42436', '23204', '7207', '18612', '18917', '15570,4', '17659', '35332', '26337', '7365,6', '21195', '4315', '39741', '17261', '17110', '3230', '7624', '4470', '3385', '32449', '24929', '8275', '20658,2', '37710', '16966', '12700', '12400', '8900', '12292', '8598', '6744', '12906', '18210', '18450', '21760', '23106', '9296', '9786', '17550', '5956', '23890', '16479', '17760', '12952', '17909', '16880', '16850', '26610', '18730', '11063', '7134', '20910', '2835,15', '19602', '27077', '23793', '7678', '2826', '23950', '14453', '28172', '8221', '15741', '46827', '6990', '55500', '3258', '15252', '12488,25', '28620', '32100', '22025', '21630', '19544', '12680', '8156', '14172', '4320', '4786', '24945', '7798', '4840', '24103', '16590', '19224', '9823', '2769,1', '11842', '14489,2', '35320', '9397', '10650', '12284', '4225', '83000', '13752', '6380,91', '7361', '7391', '4883', '5764', '30897', '18290', '20903,5', '10575', '14660', '97040', '6450', '16865', '6393', '4035,2', '16230', '15788', '20113', '10169', '13080', '11898', '23044', '6659', '15897', '3420', '3978', '18045', '4134,4', '27099', '17949', '9445', '21631', '19156', '9246', '6160', '10773', '18495', '12719', '13944', '8498', '15499', '33506', '6625', '2008,8', '8373', '15840', '15267', '6056', '18022', '45180', '13254', '2518', '6163', '16743', '13448', '8390', '11167', '10450', '27971', '9837', '29205', '30370', '24007', '77762', '4707', '9137', '12465', '12948', '12147', '40037', '4605', '45160', '40080', '5221', '24461', '3808', '3399', '6520', '22365', '13228', '13235', '5554', '19929,91', '11231', '26588', '10801', '22561', '27324', '90691', '26315', '2330', '17800', '43750', '16491', '16031', '6113', '29100', '7600', '28933', '4914', '7289', '6245', '4039', '7991', '8648', '12428,7', '7563', '30684', '4188', '13300,91', '11960', '40410', '8581', '6865', '3290', '9340', '20430', '12856', '44670', '5775', '22760', '5616', '56280', '21895', '5288', '8460', '19215', '6453,9', '35991', '13916', '22047', '7037', '11075', '25750', '34557,1', '13410', '4939', '2600', '37800', '19580', '8829', '2089', '18945', '2730', '40377', '21594', '17505', '9019', '7090', '11340', '12440,1', '21270', '12482', '6748', '8020', '16796', '17186', '23026', '5931', '18497', '46385', '11577', '18820', '5529', '2476', '38386', '4010', '16792,8', '7287', '29707', '4327', '8150', '15727', '13888', '24200', '18339', '25200', '11403', '15860', '11724', '17837', '7105', '3865', '7609,5', '33340', '8548', '21624', '7041', '3279', '28717', '9315', '7645', '97026', '2050', '35787', '10895', '16890', '2286', '15524', '5465,26', '35598,01', '18528', '4731', '3793', '10874', '26478', '16454', '3395,1', '6570', '6930', '8320', '14280', '10305', '23163', '7505', '6708', '11466', '9813', '30700', '5099', '33900', '4805', '36432', '9675', '50700', '13800', '3790', '17091,9', '35369,4', '9830', '7373', '27506', '15434,3', '11629', '32490', '39028', '4131', '4018', '21365', '8067', '3307', '23613', '19993', '10464', '10140', '6585', '17496', '6945', '6682', '9271', '4610', '3376,8', '21838', '2389', '2840', '28450', '9886,1', '9317', '22105', '29304,3', '3935', '18489,91', '8832', '5015', '134000', '3869', '23630', '11115', '8007', '23033', '21598', '8483,95', '78853', '19267', '13245', '10810', '26660,2', '75600', '23220', '16621', '11570', '35530', '23505,1', '3822', '13720', '19593', '4698', '11718,94', '6725', '30960', '25330', '50020', '45898', '6197', '16425', '10069', '26401,53', '35090,92', '6553', '19977', '18000', '4951', '27090', '12780', '31653', '71400', '13897', '11887', '15036', '8767', '12262', '15035', '15418', '38553', '14309', '9341', '15730', '14857', '16649', '25420', '13850', '10785', '32175', '86571', '16785', '14110', '14656,5', '15430', '16440', '23108', '15756', '17890', '28237', '15034', '9665', '13770', '25182,4', '5509', '26212', '31730,91', '19658,1', '11764', '12148', '23094', '10312', '9308', '23751', '18819', '18296', '14648', '24120', '19590', '65273', '19249', '4930,95', '5600', '41171', '10738', '5795', '12554', '86900', '21239', '22510', '6089', '27005,1', '13913', '18500,8', '25140', '4047', '2030', '23251', '17540', '10428', '7660,42', '6049', '19500', '28932', '11966', '7259,8', '48500', '95000', '25105,1', '40357', '5745', '28055', '20766', '10857', '13825', '19699', '11175', '4958', '8096', '30040', '13952,73', '33850', '2490,92', '18572', '15314', '10310,92', '14220', '21498', '10995,9', '4336,2', '15560', '8865', '17924', '23677', '22213', '11106', '18940', '24027', '21238', '12800', '12138', '12117', '12606', '5307', '67800', '27501', '6503', '2248', '4490,9', '6958,92', '8981', '3269', '20498', '35145', '26910', '12702', '3405', '12809', '6264', '14845', '2909', '20869', '5119', '15940', '16512', '13113', '36263,1', '12760', '18471', '5294', '5210', '13298', '13575', '7918', '5707,8', '3180', '50000', '9779', '7084,28', '26420', '3590', '7469', '9117', '10413', '18782,2', '15164', '9489,92', '39193,4', '7749', '10757', '17838', '6148', '24990', '2372', '7651', '10347', '30681', '21482', '7376', '9389', '10549', '27989', '11219', '18429', '31759,28', '16050', '42881', '16418', '2510', '21400', '25029,9', '36800', '8210', '3750,91', '12872', '8249', '20006', '25778', '3996,9', '18749', '13258', '21009', '3085', '39830', '3712', '33250', '10837', '7709', '35955', '4405', '13386', '12679,92', '13098', '14939', '20645', '7947', '18600', '35563', '13232,88', '5083', '9490', '29898', '21821', '5343', '3689', '9934', '9461,26', '58947', '2974,15', '27936', '41180', '36897', '9928', '7334,58', '3595', '8199', '6470,9', '12032', '7742', '27283', '5820', '43200', '15696', '2224,8', '4838', '12330', '41570', '26818', '17399,1', '6889', '4210', '13560', '17497', '13921,52', '23704', '11687', '13024', '17040', '10914', '5886', '11416', '24755', '22818', '3752,9', '5580', '24132', '9930', '46993', '4265', '5533', '4670', '34891', '2732,63', '2947', '13490,91', '5423', '10625', '84000', '2930', '9167', '7679', '13581', '48721', '7632,92', '5550', '6519', '35683', '5404', '31139', '9986', '10075', '24587', '27180', '19420', '31860', '41399', '16367', '44879', '56130', '6595', '6921', '6980', '8633,7', '80000', '8480', '17596', '7725', '10920', '5144', '6036', '10596', '15093,9', '12726', '3951', '5067,2', '34740', '31333', '31990,6', '3048', '4274', '8195', '29612', '33320', '22015', '7919', '27170', '29700', '85202', '16063,29', '7463', '5526', '5425', '12450', '4727', '6649,2', '44970', '5639', '19581', '10512', '20571', '76432', '15030', '30750', '6880', '19996', '17548', '39350', '4095', '24416', '9480', '3387', '24749', '29595', '6599', '11940', '21025', '36600', '12822', '35600', '21790', '23391', '3616', '12220', '15221', '13780,82', '26570', '3286', '10570', '21570', '16551', '11995', '14080', '5997', '22394', '36177', '41936', '39388', '35750', '22175', '17682', '10024', '12690', '19525', '4345', '44530', '34119', '8345', '34465', '5706', '7767', '21038', '13546', '4842', '6665', '71500', '21207', '7315', '14631', '4858', '11389,2', '62000', '26871', '28700', '9268', '4037', '31224', '10286', '5243', '5718', '26095', '6513', '11034', '25623', '8189', '16117', '6247', '17184', '18490,91', '28922', '10628', '24835', '6168', '29030', '19486', '31920', '33350', '4890,2', '36750', '22068', '14625', '9178', '26850', '11182', '44000', '14390', '26970,6', '13955', '26395', '7972,6', '16795', '29544', '5181', '28039', '13039', '13534', '17946,2', '17850', '32644', '27213', '15020', '5871', '9621', '30830', '10890,9', '27472', '10978', '16799,4', '36170', '18330', '2691,9', '13686', '6069', '17804', '43631', '10652,6', '47740', '20000', '10212', '5347', '8128', '13426', '15199', '12993', '10331,1', '12236', '14523', '29526,12', '4130', '6670', '13971', '5845', '13979', '21079', '17704', '20072', '23238,79', '16290', '3336', '51441', '18458', '4259', '15029,9', '18251', '17398,1', '9459,9', '27611', '32256', '11394', '2726', '17047', '9578', '12255', '20992', '22011', '20988', '23999', '12789,91', '23472', '11499', '5594', '23792', '6879,84', '13516', '12786', '10960', '26337,6', '23089', '24659,2', '11398', '8963', '13748', '22830', '6376,5', '22350', '46041,85', '8879', '30918', '5146', '6340', '32787', '57593', '9640', '2659', '18439', '88500', '60888', '15621', '35140', '44495', '4710,6', '55174', '28240', '4117,5', '42689', '16039', '51651,1', '11315', '32479,99', '3885', '3149', '10441', '26361', '12770', '34958', '2362', '21338', '5193', '92000', '15874', '12480', '15162', '5515', '5715', '10248', '2045', '9349', '87600', '2960', '22121,1', '19218', '15917', '33475', '7327', '10875', '8406', '6171', '10400', '85270', '11227', '32935', '4366', '20536,1', '3061,45', '22191', '11420', '5482', '23690,91', '17549', '5859', '3312', '14548,2', '23912', '30686', '19359', '12518,5', '16897', '9748', '11539', '21921', '23688', '13926', '24119', '18094', '4741', '2435', '25180', '5341', '5984', '4355', '9891', '2075', '15833', '5040', '25961,42', '23799,2', '42850', '13390', '3474,9', '24470', '34901', '19905', '16520', '2028,56', '9681,5', '19131', '5516', '31420', '5738', '13220', '5340', '21673', '12576', '12970', '19315', '8171', '6530', '18288', '68430', '18800', '7422', '9990,2', '15655', '28781', '7916', '18525', '15828', '14062', '21889,92', '23451', '7101', '27499', '7228,2', '28288', '23146', '14398', '30031', '4534', '4850', '35767,4', '15127,4', '20660', '17720', '10029,92', '23090', '4581', '7495', '27259', '16456', '18580', '22384', '22140', '9996', '4853', '4599', '18220', '13965', '30873', '29260', '2964', '19460', '15904', '16302', '15598', '22220', '16330', '16898', '12493', '32330', '6785', '7982', '10734', '65400', '21447', '13583', '19877', '21814', '15839', '6058,1', '11949', '13558', '4708', '20530', '5664,74', '7204', '17789', '12270', '24962', '11525', '25290', '5154', '62240', '3447', '13848', '21277', '23341', '14387', '12231', '11698', '8125', '23577', '25491', '11649', '5545', '12132', '6459', '12792', '4940', '10815,1', '25966', '7039', '15496', '22167,6', '34010', '10150', '3328', '73306', '46729', '14965', '47991', '10736', '16310', '10155', '18143', '7178', '28775', '3621', '12309', '18545,5', '3960', '19286', '5128', '18224', '23350', '20256', '7280', '16872,3', '7908', '24907', '5275', '6860', '16322', '4196', '7279', '20998', '11773', '4892', '27696', '5110', '6433,65', '12705', '19134', '26711', '32765', '10440', '4389', '19613', '18321', '15250', '5909', '7080', '7745', '12127', '93060', '10968', '6093', '3282', '29780', '12209,5', '11239', '20143', '5296', '9999', '10136', '31090', '5199', '4990,92', '3700', '23490', '2223', '12140', '13769,2', '7958', '3308', '64300', '28970', '53000', '31509', '19169', '2999', '28990', '8009', '29536', '5333,4', '5037', '9718', '10424,6', '97220', '2909,95', '6834', '20160', '13257', '36530', '30599', '26907', '11116', '18426', '13371', '9750', '6081', '4930', '61540', '23772,27', '23598', '8813', '16991', '4879,8', '8268', '13360', '50500', '14232', '49750', '11575', '19920', '26935,28', '10740', '58086', '11330', '19890', '18906', '22000', '5160', '3906', '13918', '29852', '20850', '23050', '12280', '23188', '11542', '7335', '29742', '10066,92', '21866', '84558', '11113', '4008', '89196', '24810', '14321', '4589', '6901', '3897', '8419', '7768', '66680', '18574', '10110', '6950,7', '21112', '15602,5', '22650', '3973', '6407,5', '5724', '14990,95', '4310', '15040', '33292', '10248,2', '13899', '14744', '3088', '5410', '8329', '23960', '26049', '29788', '26262', '14847', '18135', '21850,94', '12662', '20244', '5300,9', '12061', '11901,78', '31433', '27022', '3505', '11060', '15393', '10936', '12816', '19970', '28689', '6909', '4390,91', '3989', '27207', '19571', '9890', '35070', '14461', '6707', '79200', '37768', '16598', '20272', '7433', '4212,9', '25713', '7578', '34390', '19809', '28755', '34466,4', '9430,38', '11753', '40084', '13989,94', '3855', '6220', '33510', '17453', '8237', '5060', '13439', '20478', '19382', '4020', '7400', '25350', '23104', '24003', '5658', '80973', '19899', '8346', '29074', '9707,4', '27810', '19448', '12059,1', '5965', '33010', '5596', '3715', '4909', '15930', '29250', '10904', '13402', '25148', '12944', '11653', '4671', '29001', '14934', '13570', '16449', '50652,94', '20091', '11990', '15525', '9501', '3735', '2500', '11982', '42047,91', '21540', '23186', '74482', '6726,1', '23040', '13785', '9199', '19622', '26188', '4694', '2592', '21345', '42780', '9990,91', '17090', '10326', '19358', '3816', '4275,9', '2599,2', '9010', '30850', '14571', '4493', '3676', '27598', '4855', '9341,5', '17873,75', '3411', '12310,91', '8278', '15848', '32397', '13172', '4773', '24778', '8622', '4908', '17347', '20299', '25146', '8929', '16447', '30615', '12312', '12720', '11935', '11363,99', '60080', '3718', '20174', '9059', '12972', '16010', '29694', '37095,2', '10850', '31990', '5018', '13992', '26980', '13420', '24392', '17922', '31520', '24449', '5135', '6696', '24565', '4411,43', '6797', '17145', '12696', '26872', '11645', '8006,1', '28810', '4435', '4290,91', '4719', '12612,17', '14094', '34120', '6092', '10612', '5399,2', '5695', '11691', '18849', '8720', '23517', '17851', '53169', '7970', '7260', '12392', '19830', '22880', '25362', '16030', '5755', '29640', '24160', '13981,8', '25550', '10530', '20494', '40680', '20052', '22480', '15645', '35580,91', '13180', '3888,48', '6997', '3434', '15255', '19478', '63306', '19162', '4268', '28879', '6835', '25506,19', '23697', '6313', '25998', '24675,85', '10841', '7752', '19360', '17995', '17220', '5038', '17272', '5577', '24354,62', '50757', '35300', '3255', '34950', '4843', '21809', '18855', '6214', '5610,7', '24667', '13281', '7000', '18576,8', '24864', '21994', '15518', '6947', '13400', '11405', '22235', '7123', '18500', '19983', '7898', '7191', '26000', '5098', '22763', '11339', '35952', '12366', '27496', '8740', '14787', '7888', '28862', '10048', '21844', '8912', '14664', '5457', '6269', '46500', '42135', '15518,2', '3329', '20275', '4726', '10151', '20646', '28050', '16358', '29266', '6739', '11789', '9160', '28728', '7622', '29206', '37818', '9835', '20990', '30778,91', '26547', '12541', '4419', '3942', '51250', '12598,1', '7845', '34020', '25167', '5140', '10084', '30841', '26110', '12306', '11266', '3444,9', '5455,8', '3500', '14618', '2200', '25225', '14189', '12716', '15760', '17802', '22685', '23437', '24697', '21097', '3889', '48800', '25326,55', '17086', '17935', '9865', '10466', '4755', '12200', '6287', '20599', '14992', '39450', '8689', '18197', '5880', '19751', '11819', '9460', '23382', '9672', '6286', '19898,95', '12521', '9300', '25498', '22214', '7078', '12592', '10656', '15832', '84800', '4359', '17998', '21496', '16781', '4542', '4692', '2872', '24768', '9892', '7459', '19055', '10528,3', '31409', '22269', '13250', '26396', '8279', '15309', '37857,2', '14480', '26020', '12198', '6033', '11926', '35721', '5670', '7973', '12502', '6053', '17598', '16760', '16844', '7152', '90000', '5486', '45297', '50330', '18123', '20390', '4346', '17880', '2569', '20086', '32650', '17948', '39400', '32292', '93400', '10759', '24480', '20477', '4117', '23997', '3979', '39254', '11048', '16190', '25990', '11630', '12909', '11697', '12253', '25254,1', '3501', '11381', '75090', '3063', '18740', '24495', '3203', '13200', '35900', '6446', '16860', '4280', '28517', '22643', '47600', '24315', '27846', '6429', '26999,1', '19502', '16268', '19170', '26461,91', '3047', '21128', '8184', '26845', '16519', '21770', '27250', '8068', '4416', '24660', '5754', '14760', '10103,2', '4949', '21964', '24267', '16874,4', '7179', '25508', '3779', '2151', '18996', '9417', '21703', '20110', '6140', '7334', '17647', '27219,31', '12748', '14520', '6454,8', '10646,2', '8888', '19275,91', '4077', '8917', '30418', '8874', '37450', '9655', '16438', '18027', '9970', '13790', '27260', '16371', '33550,35', '10009', '5941', '38300', '23575', '11790,91', '5996', '45672', '25370', '13699', '26114,4', '17099,1', '17577', '4500,95', '10870', '4080,7', '22139', '7020', '13890', '9237', '13792', '14666', '9504', '5430', '26592', '16766,1', '7524', '23480,92', '23420,7', '30980', '3040', '9282', '2070', '23037', '8745', '12560', '9400', '9495', '7821', '15148', '7895', '28206', '30987', '3510', '16297', '3450', '8951', '14098,1', '59200', '4258', '11154', '29000', '4662', '14190', '16996', '5634', '4257', '32819', '19060', '33316', '13760', '6655', '12557', '13480', '7386,75', '24114', '81423', '11325', '21704', '4190', '24886', '5218', '9899,92', '16278', '35230', '8892', '41130', '31885', '6525', '33450', '18547', '6868,2', '29750', '8700', '22320', '15552', '77000', '20197', '7381', '40534', '20520', '21974', '25278,14', '50950', '25120', '11187', '11700', '13948', '20066', '18080', '12159', '2835', '17710', '17146', '9256', '90200', '12471', '22654', '26597,91', '21370', '5837', '29445', '8715', '16244,9', '22555', '7690', '13136', '16263', '8998', '9663', '17503', '23390', '25320', '7443', '20850,92', '20968', '14441', '17988', '19490,6', '8011', '27909', '15390', '9520', '4377', '4575', '9179,92', '3827', '12818', '9422', '39160', '20245', '37360', '20845', '28820', '4079', '8056', '9227', '14107', '6379', '22198,1', '3220', '3087', '5365', '12394', '13952', '19529', '25640', '7616', '9009', '9333', '22656', '59398,2', '17906', '30580', '45280', '3739,2', '31480', '11014,81', '7965', '4379', '69730', '12520', '8102', '16020', '30230', '7313', '5068', '6828', '11176', '7421', '3711', '11576', '14170', '17240', '28584', '9849', '2550', '17405', '20505', '10147', '14113', '6540', '8935', '23168', '15260', '13084', '12531', '19235', '8387', '5721', '23109', '13078', '3695', '2439', '33400', '3731', '9169', '18175', '8410', '17888', '5961', '6481,8', '6966', '13051', '18807', '5940', '3721,5', '8606', '20320', '4023', '23977', '32900', '14230,6', '7404', '48100', '38570', '6890', '69300', '93800', '8442', '8697', '16948', '22150', '27599', '4288', '17437', '5337', '6719', '5735', '21190', '2040', '17605', '5559', '16800', '73996', '15461', '29999', '11169', '14930', '20931', '7598', '5022', '9554', '3990', '5690', '21280', '29214', '7180', '20580', '6919', '13669', '9920', '3998', '9677', '20079', '28341', '7693', '3489', '9557,1', '19289', '22987', '14999', '17815', '11337', '6546', '7639', '3497', '7473,3', '12608', '21561', '7314', '8619', '5698', '15200', '7984', '10525,01', '7386', '8866', '11674', '17366', '3674', '25600', '14680', '17528', '8490', '3293', '6824', '41500', '9540', '6161', '35700', '25710', '4750', '26720', '16847', '8674', '19611', '28600', '30220', '11786,85', '26598', '31317', '25336', '5076', '9533', '9517', '3988', '30800', '18212', '11363', '2881', '11275', '17680', '6593', '77800', '28778,3', '26311', '6105', '32400', '5709', '45750', '22286', '3270', '14096', '3555', '9395', '28273', '39023', '22392', '2460', '11751', '5333', '16698', '19440', '11876', '23762', '5723,84', '20630', '11877', '14690', '5989', '23070,6', '4928', '18540', '58567', '43573', '10341', '6351', '12059', '13321', '12225', '10990,91', '16797', '18999', '33088,5', '9357', '15394', '18515,03', '8324', '32790,9', '19986,4', '17685', '49838', '3417', '13326,5', '8978,2', '27720', '27490', '26695,8', '33721', '8038', '8490,92', '9061', '20613', '25210', '3220,2', '16063', '14938', '61250', '7342', '8560', '3390,2', '54700', '24389', '6335', '24951', '20644', '7549,89', '5379', '16375', '43548,81', '13430', '8000', '4555', '4570', '14230', '19746', '9184', '44789', '16105', '23954', '12782', '6622', '11574', '27350', '80250', '43059,8', '17330', '7786', '25980', '7902', '2125', '7730,1', '2599', '3346', '11123', '11648,1', '11849,2', '13397', '20561', '15660', '4660', '3925', '19008', '16170', '2219', '18410', '28220', '15125', '11098,8', '8905', '25800', '22872', '12251', '3432', '4378', '17448', '84500', '29810', '17670', '14700', '9301', '10294', '29395', '15233', '8429', '5270', '18830', '3722', '22969', '81900', '14891', '35910', '14166', '4743,68', '29490', '5369,34', '7710', '28540', '7974', '19854', '20300', '3490,91', '14780', '20196', '4126', '16824', '70047', '29880', '30102', '72579', '8973', '20202', '24061', '48920', '4300', '10342', '6403', '29949,7', '38995', '21915', '13476', '39276', '17060', '3778', '22210', '26970', '19184', '5624,3', '9550', '17997', '4994', '5964', '12454', '13600', '7940', '5779', '24300', '20748', '21487', '5391', '12451', '10061', '9298', '4204', '12229', '11450,9', '19296', '8609,92', '48900', '16149', '8297', '18482', '29790', '35950', '10659', '5660,92', '34154', '18070', '26710', '26440', '69282', '17769', '22162', '21975', '24100', '8846', '8648,5', '21880', '14990', '15236', '3158', '16591', '45299', '15027', '22741', '13498', '56277', '4887', '5517', '11853', '17625', '9790', '6660', '23608', '9210', '19080', '25631', '24215', '19343', '29791', '3795', '11798', '9689', '23700', '29677', '21696', '19959', '2260', '21525', '6323,33', '25492', '12098', '10034', '4792,3', '6297', '4386', '81743,87', '15039', '39500', '35035,2', '4703', '22570', '27110', '9389,1', '26138', '25639', '24049', '30310', '34391', '19320', '23820', '21237', '22302', '11242', '17355', '2719,2', '16092', '11317', '32007,6', '2450', '25840', '12496', '8138', '22106', '21550', '18130', '27150', '6272', '21295', '26991', '9251', '9759', '5797', '4896', '78800', '35793', '20826', '5440', '8519', '11410', '20833', '4519', '6400', '24777', '30172', '10366', '5131', '20987', '21347', '22417', '14247', '9720', '35290', '18240,91', '72000', '14152', '13948,2', '9399', '7977', '17398,2', '15364', '12897', '17231', '23949', '10709', '36070', '6424', '10471', '33730', '33680', '20330', '5589', '9855', '3918', '27885,2', '9989,92', '30064,83', '52540', '5988,46', '3875', '26555', '21998', '7615', '8330', '10812', '4963', '21901', '14672', '27208', '18530', '6095,25', '2351', '22284', '26700', '3579,3', '10860', '20925', '93075', '25440', '11202,3', '7968', '10423', '14239', '23150', '44700', '7189,6', '4212', '5604', '77860', '12295', '14497', '19945,35', '6856', '20827', '9035', '30756', '11047', '24552', '6790', '5276', '20147,92', '17099', '20499', '24500', '4499,2', '12389', '4034', '88312', '7471', '27827', '18357', '12967', '16910', '36560', '5197', '14270', '15100', '53208,92', '2796', '9450', '56964,6', '10348,2', '13270', '12919', '7840', '11797', '19159', '2489', '11368', '8298', '9650', '30820', '21499', '6280', '12992', '19889,92', '15130', '2770', '24858', '6755', '27493', '8547', '8831', '56768', '5576', '34449', '12395', '14274', '6724', '14002', '8286', '5438', '21780', '24059,83', '12870', '14848', '13460', '5268', '28858', '4560', '7285', '17091', '19982', '22905', '10515', '3263,8', '6575', '19765', '10847', '12140,92', '17765', '31431', '41490', '4582', '44920', '8188,04', '8176', '16843', '7703,1', '13815', '29664', '40309', '4237', '5632', '22955', '13840', '69076', '7750', '16635', '14044', '4522', '19770', '9735', '32892', '5212', '8059', '4804', '6299,72', '6689', '87880', '2079', '19342', '23897', '10525', '46100', '13118', '21349', '14829', '8396', '8570', '14960', '6993', '13835', '7399', '13170', '3608', '7784', '4629', '13120', '15099', '2958', '19697', '6257', '2817', '8262', '7022,7', '11971', '16834', '32540', '7787', '5897', '7369,7', '20970', '3540', '23450', '4494', '30940', '21430', '3540,2', '21222', '14450', '3834', '5328', '18319', '21066,1', '5560', '24459', '6898', '2300', '4423', '8939', '22102', '33725', '6853', '19177', '60619', '7985', '23038', '8876', '22692', '17172', '13598', '3314', '18242', '17130', '11130', '19099', '6628', '13577', '13100', '61040', '12560,01', '23923', '9144', '13507', '3156', '17459', '2610', '5299', '8381', '24910,6', '19377', '7182', '31726', '19772', '12365,2', '24729', '14175', '56790', '3737,6', '35250', '40499', '28428', '25459,3', '27518', '7829', '4199', '10778', '11189', '28948', '4484', '14095', '11212', '32800', '98644', '19446', '3170', '2000,51', '18675', '12945', '10020', '15838', '28360', '7498', '29449', '5847', '3305', '15165', '8037', '35520', '16380', '11890', '32421,5', '18225', '39690', '5629', '21481', '7362', '23423', '10590', '19644', '11765', '12527', '23530', '21802', '7795', '3980', '4148', '38810', '5528', '17474,35', '13208', '3600', '96000', '27010', '3762', '21090', '13749', '39960', '12371', '21500', '4978', '11595', '13399', '16416', '15520', '9985', '29046,1', '36915', '32914,31', '3606', '15237,1', '27759', '4456', '27508', '16715', '15850', '12998', '25537', '4803', '3495', '6740', '10474', '7819', '20860', '35522', '18360', '4885', '10630', '2490', '17335', '21087', '9047', '6598', '9936', '78350', '14089', '6609', '6462', '9648', '17010', '8600', '34630', '15985', '11225', '8343', '16357', '14160', '30196', '4474', '4440', '4182', '18724', '15900,5', '6086', '18041', '18567', '22260', '8053', '12347', '30309', '36500', '7048', '31294', '32240', '12845', '11635', '3899', '11972', '4886', '28417', '13021', '5630', '10019,07', '18447', '14718', '19680', '14910', '26034', '3659', '75581', '5647', '26181', '31096', '15435', '16300', '8425', '36480', '8753', '35142', '24846', '24367', '21049', '4218', '5906', '7856,9', '7113', '22438', '11586', '13395', '64660', '9014', '9971,89', '28840', '25410', '4076', '98030', '7247', '26961', '16989,92', '22310', '7488', '19745', '31498', '7920', '4841', '20125', '22904', '21265', '5249', '9905', '15658', '19627', '11692', '7718', '17719', '9496', '21994,73', '21069,8', '13907', '6099', '29721', '16150', '5860', '6111', '28390', '3385,83', '17499', '26099', '5439', '32150', '5573', '47100', '4580,92', '16993', '13678', '5813', '18049', '20227,72', '47783,85', '7166', '39439', '6210', '9536', '26983', '5460', '17411', '4872', '13869', '6940,25', '35269,2', '26543', '13652', '9416', '5005,8', '6946,92', '61600', '14209', '8856', '3375', '8920', '12902', '6430', '22920', '11927', '11545', '9427', '15450', '9372', '15180', '6435', '20706', '4495', '41929', '7994', '18150', '10700,3', '15292', '11439', '11114', '5175', '21505', '16576,2', '9992', '11319', '10186', '29173', '21267', '22185', '54105', '13545', '3023,58', '19798', '24270', '4170', '17279,2', '42930', '3365', '13408', '13173', '3888', '88555', '6999,9', '9470', '27617,1', '4661,84', '6426', '14688', '11264,25', '17449,91', '6590', '47195,92', '17598,9', '19781', '9280', '13383', '3690,92', '20025', '13975', '9927,1', '10586,1', '35340', '26125', '11610', '2322', '15642', '21020', '12687', '6878', '10447', '6071', '25626', '35550', '24506', '24228', '19293', '10687', '25503', '10793', '14229', '2421,9', '31000', '5255', '7849', '21526', '10999,9', '11550', '13325', '18477', '20253', '8811', '23945', '16875', '4790', '18603', '6301', '30422', '34804', '34396', '17748', '6128', '26232,03', '46173', '6597', '14620', '31850', '5265', '9120', '13269', '6474', '9927', '2860', '10538', '28083', '10910', '53400', '23192', '3920', '3703', '22194', '9205', '10361', '10840', '12190', '11430,01', '11958', '19790', '8361', '7344', '4357,1', '4208', '11651', '24086', '7922', '2580', '9220', '19709,1', '5376', '12393', '19391', '11618', '16141', '7669,8', '7593,48', '4186', '2998', '32980', '2165,16', '6339', '6381', '22388', '27880', '19116', '27965', '5486,4', '18201', '8132', '32481,83', '12798', '6378', '5267', '6885', '11012', '17162', '31587', '6639', '17812', '21010', '21847', '17796', '2799', '2224,9', '24435', '11727', '21480', '10989', '8995', '23973', '23822', '50400', '21060', '14724', '3138', '19728', '3445', '30198', '25296', '13689,86', '8071', '6535', '26865', '20550', '5176,8', '11390,91', '3628', '20500', '10789', '42950', '23197', '31882', '24195', '32280', '10619', '25683', '25297', '29065', '11723,2', '7448', '3961', '12010', '6296', '16389', '4801', '8415', '31696', '9439', '12899', '17854', '10478', '15619', '3167', '5757', '5829', '25792', '25491,5', '12283', '19968', '5013', '3359', '5084', '22799', '30999', '22970', '10445', '25911', '22835', '16403', '23199', '9198', '15732', '17310', '2800,85', '10551', '2290,7', '14090', '9047,53', '3860', '14169,1', '20475', '19940', '6894', '16220', '9652', '27470', '8825', '18162', '8487', '5748', '19949', '11989,91', '46820', '6855', '26538', '12384', '19542', '3128,2', '24081', '17043', '3835', '13115,6', '4040', '31050', '3110', '13229', '24822', '29101,95', '27098,6', '4797', '21015', '16260', '11666', '23580', '25313', '18880', '21783', '39003', '12420', '5704', '21475', '6372', '20410', '14636', '15914', '15090', '27370', '3119', '9614', '10047', '23358', '6108', '17254', '10035', '12124', '6119', '15097', '5292', '17532', '27800', '24145', '25700', '4845', '16745', '16443', '20880', '17483', '23147', '15340', '15775', '9754', '9902', '7664', '3746', '27348', '7357', '8818', '18889', '3630', '29382', '7245', '32367', '94720', '3899,2', '34990,8', '22066', '5250', '9997', '17553', '8112', '8685', '10579,91', '8025', '29006', '28080', '18119', '5796', '24695', '28350', '18873', '25720', '20385', '27052', '25989', '27535', '12654', '3550', '4248', '4744', '17581,86', '9433', '8590', '47704', '19404', '4209,2', '51777', '3959', '26363', '13031', '28258', '16396', '55110', '4479', '11748', '20626', '24130', '26468', '35165', '36187', '9158', '7025', '25447', '43500', '15986', '25870', '18549', '17432', '20540', '4312', '88300', '31790', '11446', '3561', '9367', '26730', '14574', '8580', '9866', '17050', '22380', '7544', '19736', '13730', '5768', '5306', '9299', '25899', '11455', '13301', '8529', '4759', '35610', '14814', '5899', '4311', '25695', '13492', '6223', '33749', '18171', '12999', '14177', '3159', '19049,13', '26668', '38880', '27975', '2190', '7507', '13491', '10752', '4360,5', '18712', '14306', '7908,1', '3109', '32090', '12057', '3547', '5669', '18275', '5712', '22369', '11895', '27645', '11309', '18780', '19935', '10431', '27886', '21560', '24711', '19390', '13221', '4430', '9573,1', '31290', '13518', '3892,2', '3198', '13985', '22250', '22781', '4849', '27541', '3187', '6270', '25896', '4969', '39705', '6843', '16990', '67950', '4510', '11637', '5199,2', '11750', '4710', '17340', '4548', '20568', '26930', '11996', '23711', '14849', '36730', '12011', '35130', '24970', '10420', '27890', '3423', '27102,5', '7548', '5277', '30956,4', '3898', '30590,92', '2748', '3098', '2579', '38877', '47247', '27621', '23161', '18350', '13456', '5840,5', '26145', '6624', '5354', '29817', '99289', '24830', '13433', '14477', '15565,5', '28120', '14185', '11210', '12791', '15755', '17280', '2788', '9069', '23680', '25606,3', '5494', '35940', '8757', '4874', '13998', '4050', '25227', '11140', '18121', '22263', '9683', '15555', '11655', '6630', '11778', '6600', '29638', '18480', '41845', '4540', '26596', '3271,5', '19110', '27070', '22098', '9270', '8898', '31815', '3235', '28790', '30170', '20699,1', '3900', '13263', '10432', '28100', '5613', '4592', '10660', '7560', '13709', '5912', '18623', '15442', '19046', '3145', '29591', '41744', '23723', '8310', '13259', '10792', '30455', '16605', '20456', '3300', '22133', '39729', '9040', '3960,9', '22560', '2408', '9989', '10205,5', '5978', '34341,2', '29475', '24740', '26936', '24695,2', '3645', '5480', '15045', '4330', '22072', '6840', '4548,6', '40700', '18578', '16532', '13355', '13462', '6782', '21980', '3257', '10188', '4729', '3090', '18096', '10267', '4099', '20031', '14711', '16695', '26353', '53673', '4990', '8790', '4299', '15299,9', '14130', '5676', '19429', '25000', '23467', '12890,92', '6461', '19290', '15890', '2370', '15346', '24650', '22790', '12210', '11899,15', '4968', '3710', '2253', '8990,92', '14391,2', '6486', '15745', '29359', '7754', '26346', '26547,3', '10611', '3850,85', '6998', '12655', '24198,2', '4487,4', '24772', '10350', '16128', '4583,7', '9325', '15999', '21746', '22499', '8450', '34916', '3029,1', '9546', '6768,1', '20943', '15248', '5798', '10298', '28410', '13006', '46728', '28398', '4938', '9513', '8990,9', '3824', '2319', '22483', '4595', '4168,8', '37508', '55846', '20897', '9412', '42408', '4115', '3675', '17901', '3699', '15078', '11293', '7816', '10040', '16570', '27130', '12146', '5699,9', '9264,69', '13388', '6136', '9908', '3520,8', '15372', '9003', '43285', '27602', '30796', '20758', '7648', '12060', '33966', '21530', '5785', '8620', '22983', '14245', '3890', '12023', '6910', '3072', '7926,4', '18334', '35821', '36976', '17575', '2440', '31910', '6198', '7637,63', '32828', '14378', '11323', '3820', '29622', '11078', '26457', '21211', '5619', '5382', '27369', '19600', '14590', '13090', '3768', '4868', '14488', '5329', '5169', '28610', '12711', '18631', '7222', '2850', '8049', '20488', '32415', '12762', '12907', '37219', '16786', '23745', '28482', '26260', '13990,92', '4153', '24996', '4096', '7107', '15512', '4539', '6087', '21231', '3626', '5672', '3033', '13087', '19270', '16634,5', '91760', '2007', '33255', '9862', '10456', '18978', '11370', '16917', '15720,91', '37180,5', '7454', '22299', '40970', '15587,1', '3798,9', '22493', '11009', '8719', '6982', '15069', '3499', '17500', '7872', '27714', '29693', '17595', '2325', '6830', '63600', '42228', '49223', '6386,4', '10546', '5236', '10729', '3016', '20290', '8938', '6507', '27630', '8703', '22836', '16185', '6990,92', '21698,4', '6759', '3238', '41498', '4477', '5415', '3743', '10435', '11915', '24933', '13599,3', '32976', '3830,4', '29370', '13205', '5353,5', '9988', '4452,91', '57581', '19608', '10460', '20069,33', '5592', '3591', '9819', '26975', '29719', '6155', '25620', '20131', '30837', '20170', '16146', '10583', '23735', '4982,4', '20075,83', '2962,8', '29460', '5050', '15201', '15279', '4121', '3003', '22740', '7339', '6532', '16601', '17501', '16256', '25520', '9538', '10139', '38244', '2240', '4169', '2421', '16540', '4460', '6457', '51534', '6867', '8412', '16644', '21804', '32706', '18693', '4269', '8949', '94300', '21296', '17681,6', '20992,78', '38200', '9140', '15140', '2879', '12530', '23009,1', '45820', '10233', '50591', '5817', '28622', '16750', '27080', '8436', '4683', '18561', '45270', '14460', '7146', '15943', '9127', '10175', '28473', '6204', '4485', '8416', '23470', '16949', '18984', '21650', '17561,8', '7083', '15340,01', '18340', '83106', '2573', '18698', '3319', '24386', '16840', '15238', '99000', '24519', '7815', '6965', '7905', '8250', '3140', '7063', '4635', '16457', '33230,6', '44179', '15870', '36350', '19496', '9555', '20133', '20792', '6366', '5790', '12597,3', '32822', '3222,9', '22410', '6657', '9693', '27313', '10231,2', '2819', '11930,92', '5035', '20140', '16450,71', '10180', '4410', '26817', '16989', '5499', '59625', '4825', '37855', '14004', '10345', '14929,92', '14475', '4777', '37235', '6979', '21989', '6695', '40313', '5750', '27000', '6060', '34295', '16882', '21420', '12550', '34325', '29290', '11960,94', '8300', '19341,2', '3949', '21739', '24510', '17950', '6030', '6606', '7486,1', '50568', '45900', '6211', '5588', '4147', '18913', '28400', '27446', '12398,1', '26410', '42657', '44660', '12590', '16765', '10738,5', '17990,91', '29598', '26259', '17510', '18667', '20587', '15016', '8355', '15215', '12206', '8658', '22536', '11768', '13275', '6620', '20050', '20054', '3584,1', '12474', '8322,77', '21590', '15710', '22264', '12905', '46881', '15247', '3741,34', '3100', '34380', '27664', '21076', '31680', '8386', '4680', '12213', '20343', '26115', '11938', '27589', '2688', '7392', '5220', '4666', '12329', '30420', '23516,84', '39720', '22514', '8159,06', '12941', '16859', '19791', '22390', '10470', '14257,91', '45274', '95670', '28431', '7125', '5067', '14081', '18845,91', '24326', '13891,5', '27116', '10606', '12610', '34500', '3893', '19229', '9456', '10225', '41100', '7110', '3380', '26499', '15680', '8577', '11440', '17558', '23121', '4189', '4395', '3190', '34479', '22479', '9809', '12599', '23377', '10422', '31900', '19005', '21187', '24344', '7663', '16362', '11391', '20150', '26740', '14705,95', '5772', '19975', '49227', '16254', '34981', '5487', '83871', '9825', '22550', '14528', '14650', '14640', '3303', '45600', '63332', '5100', '20784', '44933', '9574', '11412', '3941', '16180', '9580', '6698', '24174', '6189,92', '17998,2', '7035', '11954', '12151', '4215', '14563', '5736,6', '19730', '20392', '34168', '20315', '22151', '14204', '15913', '3296', '10672', '12434', '5980', '6097,5', '15497', '3655', '24275', '4789,92', '12991,82', '13922', '13392', '5320', '14527', '4387', '22061', '3916', '33100', '86449', '45863', '10697', '4942', '6978', '18582', '4590', '16575', '30879,55', '19260', '2686', '18584', '3493', '14446,3', '16790', '5780', '2123', '8167,5', '11893,5', '2635', '10536', '18148', '7031', '5985', '8649', '16650', '6291', '43400', '18857', '21012', '13455', '21646', '13140,88', '9845', '8747', '20252', '3756', '26379,91', '4185', '16407', '30500', '4819', '38830', '27962', '7358', '15468', '4858,1', '5857', '46695', '5778', '18230', '11329,65', '4072', '6282', '15533', '7990,9', '14651', '18744', '14443', '21856', '16227', '20789', '4891', '21728', '4791', '3840', '20239', '8058,5', '4322', '5834,52', '24998', '17999,9', '20304', '10448', '40392', '13900', '23798', '26631', '24141', '34900', '16691', '33862', '9698', '18878', '8930', '2097', '24466', '24233', '8667', '16810', '19311', '70500', '22361', '5360', '20179,3', '32387', '15875', '41200', '21390', '8957', '17681,81', '12733,35', '8928', '7499', '33978,63', '15079,91', '5508', '20313', '25029,92', '27781', '24400', '56950,61', '45000', '16200', '7700', '2890', '23351', '3026', '2538', '4297,5', '19720', '47900', '7979,91', '10079', '31687', '10576,2', '21118', '4298', '25570', '2305,8', '4497', '5465', '8729', '15895', '76000', '14996', '54800', '15440', '49500', '3774', '14140', '14950', '14195', '4658', '17185', '13688', '13849', '4025', '9518', '18007', '2805,53', '13229,2', '5409', '30600', '4004', '4741,12', '13522', '7389', '2931', '7008,48', '7523', '26321', '13450', '20746', '10720', '5159', '8319', '7869,61', '4918', '22627', '16648', '22082', '24590', '15600', '10657', '32041', '18356', '10025', '12099,1', '8399', '9128', '10443', '36290', '4513', '10680', '10302', '6559', '18862', '21850', '3987', '16542', '31013', '4878', '11135', '16160', '8550', '27360', '13671', '17778', '4778', '4980', '30720', '9882', '7498,9', '22214,69', '49743', '22230', '6007', '28296,6', '5301', '17210', '27560', '21246', '9438', '9889', '20985,62', '12795', '8129', '19670', '34739', '14356', '18306', '12742', '5620', '19828', '11811', '6196', '19085', '10529', '7875', '4471', '22750', '27750', '22761', '16381', '7407', '10990,2', '10559', '27905', '23508', '3542', '10693', '69825', '17646', '24105,21', '16830', '14904', '7129', '28955', '5636', '26819', '8240', '22850', '4818', '8290', '13724', '12170', '5339', '5542', '22959', '11690', '17930', '7647', '9365', '5799', '35024', '11376', '5999', '8515,7', '14593', '15501', '34187', '9457,2', '19895', '8078', '5103', '15127,38', '30656', '6109', '37177', '9097', '36667', '2889', '12040', '20240', '12904', '12029', '31189', '34905', '7300', '14281,89', '2447', '8787', '11422', '14039,9', '6935', '2415,04', '7897', '8750', '19842', '12651', '7050', '23302', '23696', '21011', '8048', '6983', '41907', '6854', '21877', '28460', '4644', '17089,9', '4089', '15319', '16791', '15121', '26640', '14300', '78120', '26837', '22590', '3069,9', '6640', '1843', '6850', '30974', '10945', '21321', '22973', '13137', '8857', '13297', '4400', '22600', '7632', '18165', '12290', '15970', '4499', '23600', '56700', '31300', '21985', '11720', '28247', '13959', '19020', '10207,2', '48594,31', '93890', '18725', '19489,91', '5916', '9447', '26084', '47520', '53091', '20280', '13184', '12348', '29647', '21050', '5720', '4406', '27686,2', '10740,64', '24090', '10023', '10474,1', '14284', '18847', '24651', '27387', '19929', '3289', '6770', '37840', '6279', '5105,7', '17875', '7558', '23478', '11699', '43373', '17371', '9203,4', '4569', '29012', '28010', '82910', '17420', '6741', '25538', '11705', '16571', '12398', '20600', '11950', '8154', '32420', '21750', '13181,81', '8887', '22800', '5173,2', '31605', '16395,78', '32690', '13289', '22307', '58640', '37016', '19960', '23166', '7740', '18592', '5272', '51000', '11456', '19799', '9869', '25983', '10737', '31200', '15403,02', '15946', '10113', '4966', '21213', '8271', '3815', '20103,82', '5229', '18435', '29904', '33790', '29493', '9740', '7088', '27820', '35400', '11430', '17020', '11920', '6893,7', '36910', '27065', '29769', '24000', '10410', '4545', '19045', '13648', '18610', '3537', '6658', '19660', '8819', '17193', '23791', '44778', '6569,5', '4029', '4473', '4120', '7797,6', '6420', '12401', '15690', '24741', '4160', '28425', '25855', '12729', '16848', '5187', '20852', '15246', '7812', '21619', '37576', '4810', '25650', '18145', '30813', '39200', '2870', '5895', '16422', '8095', '10773,9', '9919', '43515', '41609', '6939', '7350', '20424', '5219', '3838', '20229', '7996', '3565', '23500', '23620', '9406', '15582', '6750', '8812', '7394', '7713,42', '5051', '12890', '13239', '3830', '11050', '7500', '4390,92', '13750', '2671,2', '5840,94', '21450', '22170', '9345', '6309', '36880', '5571', '93820', '4060', '17235', '6596', '12914', '18445', '20187', '17650', '11563', '18647', '30590', '3530', '32810', '25356', '26431', '43866', '14861', '16716', '12345', '27249', '2430', '45110', '26690', '5808', '27744', '6170', '17316', '33097', '5408', '21290', '2862', '9515', '13851', '10092', '5361', '10058,5', '6040', '21395', '16833', '13121', '11490', '17560', '16194', '45500', '3268', '26310', '10116', '14458', '31650', '19946', '4851', '47950', '37855,6', '13245,02', '11017,35', '7975', '11255', '2633', '13556', '3150', '22522', '11188,14', '9721', '10917', '20070', '6613', '24493', '35960', '8770', '27163', '14254', '6970', '13284', '5683', '17509', '14219', '31960', '20636,91', '19891', '15725', '27237', '15899', '23861', '7380', '11240', '5469', '10599', '9749', '42180', '6875', '42468', '8421', '32370', '17697', '6182', '8151', '5830', '5806', '18422', '4278', '5400', '73300', '91500', '13255', '17593', '11473', '5595', '3199', '10753', '19380', '23869', '2088', '17000', '21220', '3670', '18615', '3580', '15363', '3389', '7144', '13898', '11997', '23136,3', '5085', '5665', '88440', '49653', '11030', '6029', '29722', '19106', '2559', '30224', '24010', '12342', '23570', '11748,2', '5483', '12343,5', '30765', '8097', '34300', '45730', '28304', '17263', '26998', '14199', '5872', '11592', '30206', '8543', '3883', '26524', '35598', '25785', '4815', '4879', '8088', '18204', '6968', '3144', '23836', '78400', '12310', '28770', '12222', '14952,2', '5478', '4422', '11498', '19475', '19645', '29782', '3990,92', '15920', '10492', '5531,8', '17702', '27468', '46835,75', '13010,94', '6522', '10086', '6324', '13312', '17006', '2992', '8140', '7068', '6338', '31070', '27257', '14629', '12590,1', '28274', '10818', '18719', '4176', '23499', '11220', '69000', '61915', '5096', '60000', '94330', '29384', '5295', '10200', '14436,1', '20863', '5247', '5435', '15759', '26375', '21243', '9248', '18050', '7083,05', '13993', '5692', '26467', '26450', '19925', '24850', '4922', '17051', '40824', '2700', '27673', '3188', '11280', '24179', '12341', '11924,64', '5812', '6327', '7302', '8999', '23896', '14396', '15831', '3484', '9573', '16119', '18980', '59009', '25301', '19989', '9135', '29941', '9576', '11522', '48120', '11385', '7810', '3535', '11571', '26963', '18918', '6745', '19490', '19095', '4412', '8878', '9420', '9765', '99540', '14644', '4116', '16289', '37490', '12354', '24362', '18318', '3354', '40829,55', '15806', '26547,1', '6494', '4139', '21140', '24845', '27995', '7630', '10823', '16740', '25633', '10925', '38640', '7824', '4438', '30340', '4638', '45790', '7680', '19330', '11311', '20570', '21330', '25904', '3817', '15709', '21170', '87570', '5759', '15128', '27045', '13656', '17458', '15766', '27300', '15889', '14766', '27251', '10340', '13960', '10322', '24420', '3725', '34252', '17690', '8800', '3854', '19079', '19240', '4227', '4768', '11725', '12959', '49000', '11665', '7751', '12566', '12512', '4281', '28041', '15291', '22482', '16199', '25820', '26760', '12288', '2313', '5614', '11719', '4041,9', '19674', '6796', '31399', '4586,92', '11057', '34499,2', '7288', '50177', '4933', '50927', '2268', '6743', '20029', '3195', '14880,07', '16284', '24665', '11277', '15740', '10076', '29668', '36308', '42746', '13350', '47899,5', '6809', '15685', '23180', '4135', '19154', '7954', '12995', '8906', '6734', '29920', '17055', '81500', '24297', '24283', '12048', '10448,9', '11321', '10300', '6458', '25406', '17098', '4508', '3070', '19549', '26100', '18747', '11247', '17701', '8650', '17461', '21408', '25060', '36063', '23310', '8381,5', '5268,47', '23660', '5710', '26030', '3130', '10052', '25198,2', '14201', '28557', '19840,5', '16378', '49798,1', '26090', '13345', '7197', '29995', '7116', '14332', '8370', '27017,16', '23749,76', '22575', '9815', '12986', '13329', '7878', '5406', '8834', '65000', '30300', '6654', '10910,6', '14800', '9054', '17963', '20084', '82120', '14661', '44440', '6295', '37017', '12598', '17204', '19734', '13719', '11249', '9110', '28945', '35739', '29470', '10240', '19839', '19597', '10215', '23715', '38898', '69188', '61320', '89000', '5801,4', '25068,94', '6502', '30250', '6231', '20292', '4088', '6409', '28308', '27340', '7640', '24047', '25122', '18141', '8754', '16618', '10898', '33760', '15900', '3737', '6200', '7435', '15950', '5253', '10392', '6188', '16045', '17198', '3784', '11908,24', '14773', '12862', '20298', '57000', '33930', '14151', '7904', '10162', '56319', '12740', '10318', '7903,8', '40000', '7431', '13179', '23496', '12698', '16766', '82800', '38250', '11615', '6820', '16769', '32724', '22898', '21582', '25887', '6569', '36877,25', '15033', '11590,92', '17803', '21730', '3107,7', '7345', '15770', '26197', '4048', '23989', '11359', '24764', '19439', '24291', '5162', '3407', '5645', '7249', '28200', '20876', '13860', '46156', '6991', '6342', '44290', '79910', '4757', '8448', '37060', '21199', '12616', '9622,77', '11723', '4800', '19928', '6455', '25660', '62700', '6320', '19305', '3955', '25829,1', '8742', '23148', '8886', '23025', '17723', '14647', '27270', '19907', '15350', '11194,06', '95441', '3239,2', '19430', '3879,17', '17947', '38800', '7720', '14406', '33470', '9274', '12362', '11948', '19700', '28476', '19782', '19113', '3134', '31895,48', '19858', '17633', '17580', '16436', '14796', '18550', '16616', '17770,4', '17359,7', '17883', '30390', '36260', '31646', '29650', '23998', '8730', '7575,1', '19710', '5493,04', '11560', '15857', '9746', '6577', '31040', '12455', '3467,7', '24030', '16846', '42300', '6261', '7978', '16682', '34335', '5888', '9568', '4941', '6374,78', '10991', '30011', '9499,2', '16145', '13374', '14755', '15444', '75360', '8849', '6962', '12848', '4743', '10912', '7892', '18605', '16250', '10477', '12884', '9820', '6039', '13830', '76173', '13332', '3210', '14580', '7180,9', '27536,65', '16701', '4290,92', '27066', '27650', '18392,91', '9235', '21506', '8718,1', '6448', '14599', '21600', '18152', '9577,8', '4690,92', '6281,83', '10424', '38193,8', '19082,3', '6020', '3232', '23265', '20464', '7336,3', '2165,4', '7250', '14380', '11615,4', '8308,35', '4091,4', '26350', '15700', '4905', '2415', '21226', '2041', '9200', '23488', '3444', '7779', '20701', '24301', '37531', '3490,92', '13499', '3777', '4919', '5901', '16961,1', '8536', '12385', '5202,9', '11450', '23274', '10404', '34720', '3176', '13441', '2871', '22349', '4260', '3046', '18685,4', '7625', '11590', '16977,28', '9804', '63700', '3492', '6221', '31700', '10352', '12889,91', '6109,06', '5048', '9801', '29487', '9415,98', '6731', '8901', '8491,5', '5297', '9955', '12396', '20225', '13318', '19415', '20653', '24063', '92951', '3856', '16445', '9250', '26875', '9599', '18240', '27190', '16627', '3415', '20398', '12648,46', '6705', '5285', '31490', '4496', '19860', '4888', '27740', '29998', '5279', '26369', '13847', '9239', '3137', '28464', '17790', '8336', '38330', '14430', '18660', '21460', '13990', '3666', '3515', '8389,91', '16261', '17460', '29990', '6650', '17378', '3111', '7997', '30713', '4489', '6869', '20890', '14665', '13296', '30324', '19814', '11203', '9594', '6918,34', '18376', '6191', '82650', '4934', '23460', '10853', '37560', '20562,2', '3464', '8155', '97500', '14662', '44500', '4904', '10640', '35369', '31580', '3880', '4631,4', '11636,7', '22687', '8639', '7667', '25256,89', '6561,9', '23557', '4869,66', '38070', '6987', '27769', '6518', '20753', '21588', '4249', '10381,5', '10213', '8091', '30673', '7619', '58490', '10245', '14222', '17292', '12950', '14900', '18687', '7255', '7100', '13920', '17748,91', '6217', '19810', '12429', '11514', '7135', '17342', '30313', '56600', '14670', '10130', '4068', '4732', '15457', '5852', '6584', '3112', '5150', '5019', '5937', '30154', '17729', '6720', '21870', '20294', '12307', '12514', '2638', '29789,91', '2176', '43353', '7589', '32748', '25280', '3575', '6550', '16399', '74800', '7980', '19030', '58541', '24166', '10022', '7739', '14878', '5955', '12452', '8102,08', '10268', '39780', '15784', '15050', '2679', '11138', '27400', '19298', '5800', '22490,91', '7590,31', '9432', '82162', '32500', '3983', '19797', '10950', '3390', '2848', '5498', '14872', '24390', '11040', '9980', '5105', '14798', '15298', '8669', '9681', '24900', '9695', '28875', '13279', '6145', '24485', '4425', '6995', '14957,1', '32576,5', '22158', '5515,95', '20698', '3440', '34650', '35091', '2412', '27658,82', '7586', '4779', '9787', '12910', '13494', '11500', '33101,82', '3477', '12019', '9846', '2797,95', '18860', '20919', '35580', '16070', '22770', '2899', '11480', '10981,82', '13921,36', '5814', '27790', '76050', '4615', '3030', '12670', '8003', '5481', '3809', '7525', '7857', '14397', '5340,92', '19980', '15150', '23947', '12278,9', '23774', '13970', '51540', '17946', '11475', '14010', '3080', '7510', '13053,2', '5152', '3553', '37629', '23738', '38650', '5575', '9499', '13150', '11126', '13880', '29085,9', '18371', '17493', '24620', '15550', '5700', '3000', '17970', '37752', '31350', '4608', '3677', '29660', '3160', '32990', '17684', '15695', '18707', '22492', '16285', '20699', '22188', '3690', '13590', '5208', '19145', '22810', '6578', '19474', '18650', '12128', '19255', '12736', '10359', '14413', '26927', '20583', '10280', '4960', '26097', '20461', '14180', '54000', '12265', '4720', '7649', '25599', '23790', '5684', '5371', '14243', '5242,3', '12639', '19689', '5674,5', '14250', '18058', '10700', '3949,92', '6870', '10114', '20555', '17600', '13645', '5925,1', '10080', '11817', '4380', '16870', '16869', '99463', '6679', '33960', '29975', '25727', '6549,83', '10855', '3391', '12278', '9670', '2199', '22500', '59590', '21589,9', '12344,4', '16740,65', '28294', '55000', '10210', '10591', '17370', '10328', '16460', '20200', '6181', '26580', '50098', '13238', '8517', '94358', '25461', '27796', '36963,5', '8120', '42928', '3732', '10610', '29386', '11449', '8243', '9994', '3049', '3465', '27408', '12447', '14188', '25850', '70245', '34641', '14645', '8544', '11930', '12249', '6780,95', '21860', '12510', '14601', '8496', '6129', '25240', '2225', '5030', '21599', '91168', '31955', '19130', '5183,6', '21736', '42740', '70000', '8047', '26820', '22240', '25197', '30946,29', '7368', '28950', '7848', '17714', '42540', '22257', '48310', '27455', '14835', '27012', '3921', '11037', '9707', '19820', '9074', '52466', '24496', '4195', '2955', '50879,83', '7157', '26140', '10557', '76160', '13999,2', '23370', '31596,92', '33075', '11299', '15826', '19491', '10085,9', '19417', '4581,87', '26520', '28197,84', '11250', '24598', '2831,97', '12440', '19610', '15482', '12369', '29230', '6906', '13474', '26750', '25168', '23784', '3413', '18680', '14856', '31610', '14998', '13930', '5793,3', '6336', '9221', '34000', '46350', '17546', '22075', '11677', '6174', '24950', '9385', '8755,6', '11804', '4953', '26430', '6273', '11269', '7258', '23395', '23110', '5370', '36840', '28791', '12868', '8377', '4304', '8369', '3752', '37293', '20496', '6777', '15670', '3527', '15995', '7224', '24138,2', '34100', '8341', '15269', '3419', '17450', '13779,81', '35596', '11899', '30428', '24405,4', '17399,2', '21536', '11390', '16474', '25881', '24649,2', '12100', '10820', '4252', '11033', '9290,91', '7270', '9907,2', '3894,2', '30925', '8284', '26054', '5396', '12325', '21990', '12797', '3682', '6077,7', '10769', '4611', '6112', '12750', '87928', '6792', '5699,25', '25413', '16500', '9559,8', '14055', '6068', '20592', '11770', '19470', '25145,79', '4729,72', '4973', '5025', '10270', '7859', '8644', '7759', '13567', '20381', '25050', '22070', '10779', '3398', '7574', '5919', '21473', '23706', '24980', '20338', '11810', '36498', '17752,8', '16620', '26941', '11426', '14260', '5618', '23031', '15566', '11392', '26302', '34162', '18611', '15299', '13240', '14316', '9620', '8977', '5730', '11933', '4114', '20727', '3476', '18450,8', '35500,74', '12260', '24960', '17325', '7478', '37980', '21328', '3059', '100000', '25360', '23331', '14841', '22477', '28999', '21123', '82643', '37950', '11389', '10887', '8625', '14159', '6672', '15629', '20995', '4399', '11697,1', '45495', '40707', '42601', '5818,5', '10782', '27916', '6032', '15705', '9526', '10953', '16736', '17200', '6310', '13216', '51200', '22618', '22526', '21940', '56002,28', '27895', '2511,82', '26587', '11781', '12650', '6504', '20750', '18756', '9630', '8440', '20950', '4900', '21999', '19999,84', '17820', '19880', '21580', '23152', '22525', '3717', '8564', '15570', '22780', '10010', '6517', '24816', '63000', '2790', '7669', '3034', '7556', '3240', '32335', '21166', '26462', '2180', '15907', '14548', '8225', '35157', '15677', '17372', '14947', '22747,4', '63776', '6551', '25632', '10903', '30840', '18178', '8033', '6589', '10947', '9791', '3168', '48150', '9359', '15065', '15514', '47456', '23900', '24080', '18170', '8899', '22252', '34806', '4564', '6496', '24658', '4008,32', '22430', '22599', '7799,2', '9042', '12789', '20379,5', '8160', '7847', '27693', '12509,9', '6125', '10948', '18280', '6199', '22497', '2340', '20989', '21628', '5735,7', '7098', '18415', '85100', '22945', '12478', '21130', '22798', '7659', '13191', '37280,9', '10500,72', '18668', '13320', '9344', '4403', '20495', '11344', '4202', '4961', '31474', '11600', '21369', '8380', '19124', '28651', '48600', '36323', '32870', '13539,2', '12053', '26790', '10463', '14385', '20720', '13277', '15360', '4739', '20900', '58500', '4799', '12370', '24528', '3358', '24690', '5581', '14383', '25978', '6194,7', '10390', '23390,91', '11536', '17789,2', '4483,51', '4107', '18760,75', '2340,9', '17590', '15798', '11970', '7059', '18009', '73230', '11308', '12991,91', '27430', '42820', '5928,1', '7047', '5652', '29393', '27067,92', '3045', '16379,3', '19665', '21479', '30655', '27098', '13148,83', '11833', '17660', '51750', '18777', '2934', '99313', '4461', '6328', '31080', '14514', '4935', '9004', '17058', '16045,2', '19968,92', '11519,1', '16507', '24499', '10646', '8910', '6619', '4816', '24281', '12790', '10009,6', '25098', '8495', '19648', '5177', '24949,09', '5770', '65629,5', '18875', '25115', '3928', '3143', '10480', '4745', '29900', '18890', '12833', '24833', '10838', '12505', '2158', '4472', '28340', '40574', '24920', '32200', '6185', '17367', '14547', '14997', '9940', '25253', '23539', '53980', '2919', '14438', '19560', '34313,4', '30900', '10702', '23365', '8394', '11356', '11006', '28402', '15653', '4894', '4530', '21124', '11495', '23485', '3767,1', '17770', '31056', '2263', '28162', '47090', '8840', '20237', '3323', '34200', '18502', '24150', '28590', '16060', '19908,1', '15557', '16420', '26199', '35060', '14880', '11518', '19205', '21180', '27678', '3945', '9446', '31966', '37466', '14105', '18972', '7299', '4520', '10421,5', '8432', '12735', '12889', '10980', '23260', '8280', '70360', '4013', '2800', '24889', '12820', '2241', '21800', '10495', '6256,8', '49860', '17772', '21938', '17097', '12318', '12246', '16042,7', '4319', '11289', '17928', '9712', '11648', '4785', '49330', '15025', '15780', '22360', '34920', '17637', '23659', '84629', '28490', '13009', '2282', '12589,92', '2785', '9741', '11687,6', '15170', '15843', '12747', '10490,91', '5975', '13104', '17840', '51570', '38764', '9586', '5260', '9639', '35450', '5707,4', '15010', '8050', '9933', '7738', '35744', '19738', '3490', '3491', '10983', '36287', '8034,2', '9755', '29480', '5867', '17373', '19210', '23544', '21100', '4628', '28170', '15470', '3205', '8549,1', '38990', '19835', '40642,38', '11349', '3681', '17425', '39422', '20779', '11558', '9647', '11685', '42762', '27100', '13620', '16992', '21040', '2043', '12983', '22977', '16700', '10907', '42320', '8794', '25195', '25749', '9774', '17980', '25490', '40900', '22374', '70323,49', '11659', '14974', '13710', '13841', '25624', '13156', '14193', '29037,12', '28745', '14150', '4672', '13995', '4760', '4709', '4806,9', '27680', '12298', '4090', '21022', '15493', '9979', '14521', '7199', '7296', '19245', '10861', '19051', '7755', '23398', '8799', '8473', '8116', '3620', '10346', '37881', '4869', '4999', '11978', '21520', '20783', '23595', '17030', '8989', '5724,2', '17635', '9048', '19477', '21088', '14472', '14536', '13440', '9525', '25991', '7190,94', '17597', '34493', '17075', '24694', '3910', '6887', '4781', '10890', '12898', '8850', '60950', '11990,91', '8472', '5174', '33920', '5449', '2623', '3006', '18190', '5879', '4351', '20040', '27005', '15797', '9938', '6697', '22756', '83078', '14176', '28990,91', '10271', '18711,05', '13599', '14985', '50140', '6434', '13530', '9711', '6136,58', '60500', '21399', '6813', '32076', '16047,1', '15270', '11904', '2100', '17981,9', '8188', '15272', '6365', '67944', '28565', '3617', '28502', '3780', '15096', '24752', '18068', '23649', '10434,5', '8342', '11160', '19797,1', '6922', '8293', '39344', '12096', '17586', '8763', '6807', '41601', '16495', '20480', '28630', '24046', '6115', '9562', '22400', '10360', '2936', '27934', '24914', '17727', '9467', '23563', '8830', '25615', '23740', '3448', '6116', '3350', '14200', '8099', '34990,92', '6209', '4898', '2601', '15863', '24295', '23944', '6699', '2699', '26658,9', '23191', '22200', '5827', '4580', '4165', '7890', '5287', '9576,1', '31252', '3902', '27135', '6073', '5485,95', '10278', '11000', '11099', '23552', '7054', '22949', '3487', '25638', '16490', '33460', '18030', '24272', '12953', '15290', '24502', '5039', '16838', '71999', '4302', '8991', '3028', '33573', '13130', '25015', '10442', '3016,8', '23085', '29960', '18300', '20752', '26485', '15824', '27448', '5832', '7336', '4523', '19348', '2843,58', '11460', '80440', '21524', '4191', '26219', '14522', '6819,3', '10088', '14402', '11301', '3658', '4807', '63657', '2629,8', '60280', '4770', '27642', '7605', '23410', '25901', '16257', '30735', '17297,6', '5938', '3646', '17439', '15475', '14498', '29440', '25439,4', '22900', '16858', '35640', '67500', '21891', '16080', '9291', '3898,1', '9931', '5825', '14295', '66565', '21797', '15960', '9295', '5045', '4828', '24948', '7949', '8675', '11396', '11268', '10615', '30520', '12564', '23226', '7704', '21546', '10382', '23825', '24167', '16398', '11077', '10971', '7580', '9719', '16923', '6510', '9975', '21930', '23990', '3717,9', '2031', '23946', '22090', '37150', '32499', '30150', '24905', '23126', '17956', '19509', '27939', '14976', '4290', '7259', '6421', '70936,32', '13607', '27850', '30200', '40375', '7198', '13146,1', '5010', '29200', '24760', '5088', '17390', '23930', '18232', '9706', '8435', '6709,5', '4642,65', '37880', '11297', '4689', '15902', '13106', '6989', '14028', '32750', '8227', '20374', '2691', '2120', '17357', '19591,36', '4634', '16408,1', '3254', '13846', '14781', '11393', '18557', '17451', '37000', '4837', '19819', '4448', '81600', '6347', '26800', '30814', '9085', '20871', '14588', '5555', '46600', '42888', '4827', '24630', '25472', '28186', '18599,4', '18310', '28300', '4099,9', '24110', '2864', '3074', '7124', '12317', '18423', '15954,3', '27634', '16697', '27234', '7915', '5232', '6415', '19455', '13541', '11639', '16510', '33423', '26981,82', '23459', '9165', '5740', '21889', '26529', '4290,9', '24408', '19752', '3311', '9632', '11780', '5661', '3730', '46921', '30325', '4563', '4340', '3771', '5434', '30267', '4325', '16048', '44690', '6893', '21900', '5590', '4830', '17466', '13563', '14365', '9224', '6059', '22097', '3200', '8311,29', '81450', '20507', '14134', '13477', '15704', '22672', '3031', '15488', '27922', '81445', '61000', '5090', '14393', '6779', '16579', '8040', '16629', '9223', '14040', '10999', '15865,65', '23647', '7349', '17952', '31150', '13895', '6845', '22694', '34699', '12749', '31702', '30330', '75424', '29942', '40500', '15948', '12424', '25317', '10830', '18999,2', '19659', '36919', '32970', '7549', '5000', '6452', '4962', '7623', '8751', '20536', '7189', '27390', '24531,06', '10274', '2924', '9087', '7440', '12240', '2498', '13110', '11866', '16205', '21795', '7867', '13249', '2095', '3093', '13459,95', '10015', '37489', '13921', '13700', '15859', '33821', '18470', '3836', '11623', '9690', '18714', '3496', '17080', '2290', '19760', '4365', '7290,9', '14082', '5562', '17320', '19017', '4242', '5611', '23103', '20360', '39865', '39020', '10354', '19497', '20069', '20949', '18962', '18078', '19489', '5143', '26022', '5011', '11689', '19507', '44260', '14349', '40455', '19800', '3729', '7885', '14495,35', '11507', '5258', '28773', '12000', '8393', '30012', '31950', '16218', '9285', '33000', '16565,65', '16005', '29661', '13733', '74319', '7200', '20322', '23200', '8792', '8420', '8712', '21634', '63200', '61800', '18953', '16648,2', '91520', '15830', '26279', '17545', '4630', '13698', '7891', '51300', '26461', '14031', '39120', '9917', '14147,1', '10899', '10691', '12895', '14281', '5889', '2878', '17955', '12784', '3604', '14206', '7357,9', '37780', '14870', '5298,1', '15429', '5932', '29372', '23843,7', '19048', '26099,1', '13099', '15998', '14966', '3744', '5921', '9739', '12537', '6806', '15487', '6940', '15980', '10775', '49410', '9680', '19047', '19690', '6908,4', '26500', '25038', '5616,15', '6250', '9839', '19716', '7160', '26340', '25568', '78390', '24570', '14610', '12290,9', '6192', '23259', '4596', '9342', '27570', '9654', '20695', '25211', '23058', '14141', '6528', '11445', '27498', '2511', '6700', '2768', '27276', '22717', '80000,64', '14470', '38032', '3014', '27063', '8869', '17009', '19750', '15739', '13225', '66780', '30050', '2798', '14842', '9323,93', '4244', '13527', '16999', '8943', '24357', '34369', '2959', '6298,6', '14083', '10987', '26163', '6692', '8041', '20519', '21075', '3800', '16298,1', '9727', '12095', '19103', '28666', '13654', '21021,9', '21665', '20423,66', '22300', '11039', '8057', '13489,91', '14550', '5824', '6332', '9514', '7452', '5681', '20428', '6571', '27060', '17895', '11279', '13155', '12710', '2884,5', '17630', '16081', '28000', '4031', '13198', '11053,8', '11295', '21810', '19090', '59661', '14447', '3823', '5805', '3538', '29345', '31404', '18367,21', '6686', '16245', '6050', '10706', '20771,7', '25587', '12810', '22640', '18370', '20747', '8198', '5245', '12645', '36115', '17671,2', '5426', '25515', '18898', '5121', '26010', '36617', '3509', '3141', '5345', '3786', '35082', '11395', '5807', '14678', '25397', '9222', '8872', '8858,8', '8758', '31446', '3858', '3019', '2907,9', '14455', '17397', '21726', '20435', '7410', '10541', '21225', '41010', '6104', '11569', '5966,7', '27640', '15119', '34150', '10990,92', '8806', '16324', '10803,84', '5427', '9598', '13260', '24999', '25920', '6449', '4350', '10964', '9130', '6445', '96200', '11335', '28752', '14942', '5029', '15942', '13520', '33650', '23280', '6240', '10576', '32600', '21083', '17568', '4982', '3708,9', '11620', '29875', '38592', '13267', '13727', '18990,5', '11259', '3829', '6255,15', '9995', '20882', '4480', '9429', '10799', '29471', '28208', '13978,11', '28098', '17435', '44697', '11180', '28991', '19513', '7066', '32670,79', '5760', '5496,4', '20740', '8423', '14927,83', '12024', '25367', '4780', '16720', '18399', '6678', '24771', '8186', '19246', '9567', '2877,9', '15359', '49490', '7187', '31014', '7327,8', '29234', '19595', '18824', '38700', '7030', '78000', '22635', '12559', '3825', '5238', '2680', '24743', '13915', '57625', '2990,92', '17830', '26689', '4498', '14445', '14765', '10238,82', '9856', '14646', '17999', '9182', '17208', '4401', '9217', '12498', '11448', '9800', '33210', '2238', '5799,2', '19362', '15897,92', '21935', '13882,92', '3799', '14889', '9978', '15128,1', '5428,1', '22428', '3392', '9086', '30990', '31491', '8337', '8904', '6477', '9590', '5900', '10638', '7216', '3904,3', '9207', '6558', '5699', '13624', '18710', '17594', '8752', '6219', '11502', '5190', '26251', '26455', '2912', '5848', '11243', '22225', '5543', '8988', '10805', '6246', '17648', '3636,9', '25287', '17897,1', '5910', '10483', '23550', '44030', '5597', '18430', '10216', '18599', '63320', '26120', '5188', '6651', '31091', '9414', '5846', '4005', '12737', '4383', '18690', '28242', '22347', '3548', '8137', '31221', '4950', '24156', '31135', '7676', '20581', '6088', '10349', '17179', '22345', '38408', '30596', '5878', '11968', '3441', '28264', '31180', '19125', '4475', '4436', '7242', '9095', '34779', '9100', '12411', '9150', '16979', '11690,91', '22710', '6237,03', '18358', '6545', '3395', '18885', '6470', '26650', '12558', '16465', '8314', '5930', '21250', '25584', '34542', '17962', '18734', '33459', '21219', '88000', '15460', '5016', '14310', '26693', '9840', '38223,86', '4664', '9045', '4070', '7858', '15053', '13375', '6467', '15021', '21405', '21120', '33330', '5746', '28330', '11936', '15160', '39590', '4155', '91536', '15036,21', '12893', '39100', '18602', '12228', '10163', '40480', '13910', '12593,7', '2333', '13637', '10070', '16400', '10260', '25236', '7150', '19316', '26642', '3388', '16571,2', '11990,95', '14168', '15111', '22455', '45034', '3654', '7899', '6370', '6498', '15571', '11505', '6232', '31282', '11534', '25960', '33183,4', '7611', '8797', '6018', '24555', '32890', '16647', '18328,6', '32907,5', '25386', '15307,2', '8756', '23399', '18144', '4276', '23202', '10486', '6045', '9738', '12490,91', '10686', '10605', '15962', '12823,2', '7317', '28016', '12038', '29420', '37278', '7190', '6653', '16240', '7766', '21936', '62800', '29336,4', '11350', '10499', '23684', '78150', '21269', '6000', '19769', '26432', '5475', '37933', '19550', '2160', '26380', '13999,92', '82130', '27990', '5184', '42620', '8785', '28275', '10631', '34695', '13060', '16203', '8289', '14850', '7553', '28116', '27434', '20053', '30372', '25937', '18468', '21204', '5507', '8627', '4297', '5479', '23030', '14989', '37480', '20297', '9899,1', '5701', '10128,8', '10315', '17775', '66578', '13674', '7668', '5141', '13949', '20670', '8118', '40110', '2420', '25940', '19838', '7240,5', '2900', '19400', '13747', '50300', '19719', '4243', '87786', '15237', '16991,5', '21645', '7137', '43880', '15352', '31100', '65250', '7416', '9879', '4500', '28750', '5880,92', '15026', '8153', '9025', '6278', '26329', '15815', '11433', '16704', '6323', '18459', '7839', '19805', '11211', '20768', '21698', '2705', '26848', '20885,2', '20072,2', '26920', '5640', '14530', '5398', '4998', '20317', '19966', '14885', '13824,2', '27175', '27205', '31763', '7660', '22947', '13201,44', '7876', '15790', '9860', '15820', '2724', '27381', '6668', '22940', '6266', '7217,1', '19250', '10883', '17139', '2775', '24700', '97000', '3385,92', '7527', '3089', '18048', '7331', '5290,91', '31833', '7169', '9560', '19926', '19990', '3570', '22488', '11897', '8585', '6146', '90645', '10465', '4844', '16550', '6042', '8285', '12499', '18060', '7319', '5080', '15367', '13444', '3828,6', '26959', '15400', '26400', '11021', '13040', '12542', '20698,2', '11204', '14197', '27398', '18899', '33662', '29830', '19254', '11260', '10071', '20443', '17767', '26997', '6541', '27899', '7715', '85742,8', '31278', '11147', '18329', '4947', '89018', '5113,4', '15347', '8204', '9129', '20060', '8599,9', '4187', '15639', '19010', '3541', '15345', '7513', '25150', '10648', '22458', '10868', '13679', '9585', '8489', '2680,4', '7729', '7209', '25081,98', '10216,1', '7013', '37656', '15151', '2888', '8080', '24035,5', '19068', '79679', '2619', '37046', '25641', '40521', '6208', '8197,89', '3892', '24190', '13012', '3637', '3275', '28059,81', '11510', '12290,94', '29690', '21615', '23453', '14678,63', '14630', '5312', '28500', '5378', '7307', '8260', '12120', '13286', '17693', '22005', '7019', '5399', '3117', '5444', '13148', '8430', '10884', '22960', '2975', '26990', '2572', '27248', '27298', '8036', '3215', '11779', '6096,13', '10368', '24217', '15984', '8881', '7360', '29944', '20206', '6789', '26775', '4230', '25558', '5757,1', '19141', '36000', '16547', '10073', '10120', '5685', '85697', '10193', '7390', '3483', '16464', '15590', '3697', '17422', '24240,91', '18572,5', '6135', '13001', '20209', '66980', '8090', '20431', '9219', '4194', '37407', '14391', '25485', '23185', '8698', '17531', '10279', '18374', '19168', '16666', '5739', '46960', '34700', '17541', '8070', '23858', '24717', '14540,04', '12435', '21717', '27945,54', '5207', '21836', '30576', '15048', '18239', '25549', '24188', '19220', '27854', '14949', '3222', '7539', '5748,3', '14921', '22323', '29538', '19324', '6180', '11815', '27428', '6642', '9610', '5450', '18040', '19630', '4413', '21721,1', '18569,9', '10730', '3135', '4645', '11374', '5496', '4701,6', '7741', '12110', '7120', '10086,92', '12725', '18140', '5922', '31817,2', '12810,94', '6189,3', '26404', '2055', '16675', '17604', '14355', '16070,5', '20218', '9793', '8994', '17300', '39950', '3128,4', '13759,2', '27500', '7511', '4086', '19976', '11136', '4255', '25685', '2928', '11453', '22864', '31500', '36093', '16889,92', '18250', '16780', '16350', '6103,8', '21635,81', '5989,5', '30792', '12012', '11431', '3400', '27620', '16798,2', '7092', '29607', '3849', '12591', '39996', '14770', '2080', '16609,09', '4184', '3569', '9532', '5240', '7455', '30201,2', '35943', '14120', '5003', '24520', '14065', '6824,7', '9593', '3039', '20063', '27016', '33120', '10320', '21380', '9030', '15602', '22329,67', '17490,92', '3868', '21340', '20856', '23216', '11601', '26824,5', '66504', '4640', '18270', '22820', '4910', '2844', '8190', '16000', '8361,9', '13641,3', '6820,33', '7045,2', '23661', '12861', '13740', '25765', '3739', '24923,39', '18643', '3943', '7396', '11528', '6703', '12044', '20960', '17538', '7677', '13265', '38520', '17039,91', '16587', '10250', '3874', '23297', '4637', '25756', '12136', '25100', '3947', '15638', '3320', '7277,1', '6500', '18717', '27290', '12460', '21398', '5500', '39025', '7584', '6299', '9880', '10170', '12925,2', '15771', '2346', '57706', '11429', '40320', '6529', '9176', '29697', '14494', '13027', '9425', '15880', '27816', '12506', '3239', '23797', '4641', '13821', '15530', '12056', '8641', '10927', '96490', '3748', '4699', '41249,65', '13185', '41511', '11517', '4082', '12933', '3789', '28930', '4150', '24750', '8877', '13933', '8438', '16498', '33107,4', '6499,2', '23373', '16970', '14361', '8848', '7112', '28110', '24330', '28215', '9094', '37790', '5189', '5309', '6348', '6018,39', '8589', '10675', '9472', '22464', '23510', '86041', '17248', '4890', '24380', '12572', '22927', '10609,2', '44225', '12928', '11196', '12069', '15610', '12378', '5828', '9876', '4103', '50900', '27439', '33653', '7040,92', '20095', '27600', '26698', '38718', '30826', '12232', '4769', '26469', '63271', '8599', '4725', '26460,92', '85000', '6586', '28898', '5602', '12996', '3502', '4083', '17609', '15117', '14456', '28059', '17082', '13778,92', '11808', '28722', '11348', '18100', '12410', '22116', '6975', '7337', '11178', '18900', '25780', '18115', '40509', '12570', '12575', '35529', '13193', '10429', '40691', '6440', '6290', '16600', '6515', '2520', '5488', '16359', '35557', '13050', '2399', '20388', '6495', '13199', '29040', '17470', '10319', '25179', '17592', '20179', '7130', '12854', '13133', '67490,94', '3692', '3355', '11975', '4269,01', '18180', '10089', '3924', '11409', '23124', '37415', '6098', '6787,8', '6341', '16413,82', '8398,1', '17033', '23029', '33660', '10548', '5849', '16072', '9956', '4102', '22057', '8169,55', '7330', '26913', '3999', '26874', '9034', '8350', '20100', '9972', '12829', '25957,2', '20774', '2830,5', '70020', '22871', '32547', '22509', '7173', '6647', '8173,15', '4735', '30381,84', '8948', '2650', '11999', '30696', '74700', '5070', '3322', '32880', '15720', '27736', '4839', '16476', '3339', '7790', '10531', '5862', '12799', '11599', '3971', '20573', '16670', '18452', '5058', '5786', '8652', '71740', '10505,5', '19570', '8556', '9125', '10467,1', '6359', '19944', '5418', '10750', '5369', '3173', '4865', '4920', '30000', '7478,2', '4044,6', '16814', '2791', '3787', '9534', '36718', '6629', '5055', '11304', '24298', '26250', '6451', '9278', '23910', '5155', '22711,21', '13695', '33190', '16320', '29299', '2830', '9899', '12070', '11565', '2048', '4290,95', '8651', '20112', '16687', '21472,86', '6179', '30544', '12640', '14933', '2349', '18498', '26950', '5863', '25539', '15311', '12546', '21494', '13005', '14920', '24985', '30627', '22212', '6215', '7638', '14390,92', '30738', '9037', '3746,7', '5259', '43000', '11192', '11787', '24867', '16880,91', '9991', '12960', '33797', '3454', '15945', '36527', '2973', '31916', '45159', '59760', '5994', '8217', '25560', '14994', '25319', '12285', '22660', '24923', '9153', '8459', '13510', '17134', '24240', '84300', '21658', '8001', '2478,6', '5911', '37437,66', '27648,2', '23140', '26080', '9363', '22265', '16789,98', '17150', '7272', '17694', '27550', '27372', '9212', '13447', '13640', '35669', '18896', '11151', '36900', '9405', '30930', '14265', '11298', '22558', '51685', '11965', '18260', '17363', '4241', '23240', '22037', '5745,12', '15466', '25263', '10600', '3660', '39627', '12987', '26091', '11488', '5428', '15890,9', '27545', '21490', '9338', '19450', '37640,77', '8597', '12427,1', '18216', '39600', '19748', '30350', '14142', '5300', '82700,9', '77210', '6917', '9810', '3480', '36150', '16002', '47691', '8520', '3386', '31498,2', '8047,1', '12509', '19885', '22951', '33990', '3690,82', '7981', '13978', '9990,92', '8055', '3879', '12811', '17896', '12903', '4132,5', '20490', '6469', '19635'}\n",
      "\n",
      "FST_PAYMENT\n",
      "{'14400', '5375', '4000,94', '11700', '145', '2835', '18080', '2923', '8222', '2000,1', '8870', '15900', '1109', '6200', '15939', '2995', '395', '763', '5226,9', '41000', '4000,61', '4559', '1876,25', '2898', '1125,3', '1373', '5744,5', '10299', '2000,79', '8998', '9663', '1261', '1025', '2015', '468', '1408', '2803', '765', '1834', '5350', '13660', '9000,6', '7443', '12144,42', '1987', '1815', '8064', '49038', '1597', '1077', '9375', '10162', '1600', '2553', '3015', '5461,11', '9570', '9520', '6680', '40000', '7431', '3115', '4870', '785,9', '4575', '5942', '574', '3037', '857', '2210', '4033,93', '6820', '477,5', '890,92', '323', '1190,95', '392', '19212', '1418', '2690', '901', '3622', '2234', '3087', '3220', '1219', '6603', '2997', '50', '1603', '7604', '7345', '2237', '11090', '2555', '564', '13950', '4048', '595', '1487', '843', '2549', '934', '852', '13336', '7249', '3577,5', '3360', '8650,48', '230', '11548', '1695', '1786,9', '12520', '1297', '6991', '16020', '4757', '4052', '1877', '2832', '25405', '9058', '7421', '3711', '44216', '3185', '4675', '4800', '1708,5', '7480', '6326', '2550', '10807', '10147', '5540', '2820', '6320', '2980,5', '355', '3164', '2609', '36220', '60432', '5385', '1318', '6907', '500,39', '3277', '8445', '2439', '9169', '690', '413', '289', '4000,91', '19430', '6534', '855', '2703', '5940', '903', '38800', '436', '4715', '3050', '1595', '7720', '1258,85', '2200,4', '6890', '3134', '7170', '2102', '5290', '8442', '1553', '23000', '4600', '297', '5735', '6719', '5722,21', '20879', '2040', '2575', '10434', '16800', '641', '2256', '6625,16', '4700,6', '11560', '9746', '2568', '2814', '30412', '2804', '1973', '2177', '21648', '3656,49', '5022', '7964', '639', '3990', '1465', '2765', '1222', '3602', '1343', '5690', '9600', '34676,51', '7180', '59400', '1920', '1560', '9568', '9909', '528', '3319,7', '2457,9', '4653', '1689', '3489', '1368', '6844', '5548,4', '11337', '1633', '1529', '6437', '3810', '2414', '4743', '1731,9', '7205', '1960', '29080,92', '16250', '3210', '7967', '2219', '5610', '6837', '1869', '3599', '15200', '5108', '1065', '444,1', '804', '7633', '789', '1924', '2710', '457,5', '3000,4', '9235', '4014', '6448', '1584', '7534', '2027,7', '8458', '3679', '18152', '3293', '12815', '44980', '16757,97', '1457', '696,1', '4011', '1649', '2620', '1149,5', '1020,9', '44303', '4750', '2545', '11850', '2400,5', '317', '673', '2487', '962', '9533', '18590', '7250', '311,73', '8688,09', '5244', '1141', '1062,2', '26550', '3071,52', '236', '1132', '2415', '11275', '4507,34', '1515,7', '2805', '2178', '861', '2041', '9200', '18447,2', '375', '3444', '449', '4233', '35100', '1366,05', '1072', '1628,5', '3270', '4989,92', '2490,95', '3555', '4919', '1405', '645', '7519', '2460', '3370', '1866,6', '571,3', '1257', '438', '337,1', '4980,91', '2954', '49582', '383', '5989', '48052,1', '5002', '4260', '14221', '4647', '3046', '3492', '15091', '7590', '1048', '2200,05', '1570', '1411', '1260', '7582', '2466', '6641', '5198', '627', '1143', '1264', '4138', '9955', '2499', '1548', '3417', '1005', '1438', '1324', '1900,94', '2245', '9250', '650,95', '2130', '9599', '1894', '3415', '5285', '1002', '535', '2185', '18588', '386,1', '554', '5000,2', '10695', '10007', '880', '4937', '848', '3995,98', '13300', '5279', '20644', '245,6', '9770', '669,3', '11924', '1458', '2778', '7514', '8000', '1504', '4570', '5234', '4702', '1423', '542,2', '2656,4', '8331', '4504', '10160', '58800', '665,5', '27350', '2160,6', '2685', '6650', '932', '10090', '644,6', '669,2', '5844', '8082', '512', '20890', '2034', '1360,92', '489', '2599', '2125', '1113', '7902', '14179', '3346', '320,5', '7623,3', '15701', '2338', '20561', '4660', '879', '15000', '2478', '712', '1284', '4579', '305', '2024', '505,4', '370', '1651', '14753', '44500', '3114', '8710', '11027', '1305', '1125', '1384', '3518', '2737', '4619', '8349', '3880', '4828,2', '14582', '2957,79', '2400', '12251', '6445,86', '1863', '21839', '1026', '4378', '1776', '1484', '2029', '13177', '457', '1353', '6300', '5352', '582', '25400', '1099,1', '1301', '1340,92', '1556,8', '8130', '2989', '6151', '1588', '960', '905', '437', '10981', '1710', '780,1', '17408', '1508', '6350', '606,2', '3870', '906', '2760', '2011', '7100', '494,5', '4856', '20300', '6217', '1050,33', '1123', '516', '3650', '1665', '248', '4113', '20196', '200', '1765', '1750', '1648,5', '1510', '558', '7298', '3598', '1768', '1071', '12358', '1120', '52000', '1636', '10933', '7165', '5150', '4300', '7882', '10527', '676', '3340', '4916', '531', '634,2', '1076', '2852', '1729', '8695', '3498', '363,8', '1914', '61151', '1015', '7589', '1146', '7148,1', '2698,89', '797', '3575', '9550', '6550', '4198', '8200', '2179', '746', '2999,9', '1572', '1036', '1059', '1000,95', '6526', '1755', '19556', '490', '302', '1140', '1677', '485,8', '945', '1067', '4132', '5800', '19356', '2665', '628', '249', '338', '8400', '1781,83', '7995', '10950', '2397', '1921', '0', '3390', '2848', '1693', '7794,92', '600', '1472', '1089,5', '2940', '352', '225', '1278', '2484', '100,91', '3236', '3158', '9695', '24900', '1625,2', '3351', '1111', '4887', '5517', '2515', '9790', '2000,2', '10900', '1966', '3369', '4607', '3440', '1018', '1063', '440,1', '3120', '3534', '1745', '63219', '3610', '613', '3172', '2320', '3680', '2535', '40100', '3795', '2412', '7586', '4225,44', '2604', '2260', '23700', '21696', '1820,94', '12910', '11500', '1442', '2962,1', '397,7', '4690', '919', '984', '2364', '6297', '4000,1', '16070', '2221', '720', '2899', '9824', '13818', '768', '2053', '3284', '1394', '5814', '1050,92', '1999,6', '2746,92', '3810,44', '11400', '6407', '3030', '10497', '3433', '921', '2173', '666', '793', '4370', '19980', '2450', '2645', '368', '2653', '1195', '1871,75', '2365', '2486', '1767', '4705', '1095', '1940', '1075', '4948', '14010', '443', '3080', '439,95', '410', '3560', '39490', '4398', '1769', '6610', '412,1', '38650', '2028', '41580', '1759', '1866', '323,25', '4944', '5200', '633', '9922', '3000,94', '4992', '11859', '475', '1337', '5700', '3000', '31350', '2283', '708,5', '1606', '4712', '5440', '2473', '4608', '7481,98', '3677', '14440', '1314', '5726,3', '3160', '6400', '1884', '1722', '1449', '419', '3223', '2692', '2448', '7518', '8688', '5131', '3257,04', '357,8', '2561', '1648', '1900', '1147,9', '10230', '4686', '1880', '3690', '1640', '5437', '1819', '75606', '7450', '5124', '5342,94', '9700', '30660', '18650', '7034', '4167', '1681', '4100', '1738,2', '3241', '1977', '1795', '12015', '804,5', '1500,5', '4817', '2326', '3078', '2175', '54000', '4720', '626', '2482', '5928', '8868', '25599', '26565', '2470', '25089', '12367', '1990', '1050', '452,1', '8330', '1345', '1235', '1268', '9267', '5383,85', '10700', '682', '772', '4858,99', '3743,37', '4380', '529', '6679', '0,92', '63213', '10255', '7820', '1700,95', '8903', '674', '3391', '5532,66', '3403', '778', '754,2', '5521', '1702', '22500', '2199', '3605', '3335', '12380', '5420', '627,4', '55000', '1247', '6675', '12150', '5047', '1129', '8820', '2039', '1016', '6554', '770', '2000', '5902', '1290,6', '1485', '855,9', '4617', '24500', '9964', '2895', '15500', '8120', '700,83', '1300', '1779', '1178,18', '10239', '1439', '6712', '5031', '8164', '4925', '3183', '3278,9', '2493', '2833', '3049', '1103,85', '11660', '673,5', '1135', '324', '5747', '2796', '42518', '316', '544', '2343', '1549', '1786', '1955', '2516', '9650', '938', '898', '19650', '7999', '4071', '422,1', '3216', '1162', '369', '4283', '5030', '1516', '2770', '45309', '3619', '4650', '1674', '5576', '1349', '1159', '608', '943', '2968', '4438,2', '1540,84', '4488', '1275', '783', '8500', '755', '1258', '349', '5044', '2287', '3544', '5268', '54080', '3099', '5714', '1950', '4560', '1163', '1392,4', '4450', '6294', '1260,9', '1136', '331', '12600', '2119', '4195', '2955', '3211', '10515', '776', '10', '19521', '11800', '1533', '10557', '6575', '2429', '961', '15675', '7698', '648,28', '8274', '2567', '2265', '7420', '4098', '12500', '2475', '10060', '8540', '28800', '589', '13580', '4200', '4000,22', '615,4', '13398', '1228,2', '1719', '4348', '5380', '2198', '1497', '13840', '7750', '713', '15009', '4577', '1454', '3413', '4522', '8059', '6349,2', '1992', '10008', '2079', '779', '514,6', '7395', '34000', '1489', '10525', '6174', '1609', '6398', '1610', '1691,6', '485', '7240', '4953', '1271,1', '476', '2846', '405', '8396', '2126', '4080', '8010', '7280,83', '454,6', '2379', '4304', '13170', '1830', '3752', '11790', '4629', '4007', '268', '6777', '2958', '830', '2206', '15670', '570', '3930', '813', '6257', '2855', '717,1', '1710,1', '4527', '10000,2', '401', '2201', '2239', '13526', '29500', '2250', '651', '5112', '1675', '663', '4550', '440', '2503', '2981', '559', '3540', '5502', '1751', '1574', '518', '877', '1717,92', '337', '5506', '16657', '413,5', '1336', '2405,69', '10500', '5560', '678,03', '5203', '12100', '2728', '2300', '9096', '13670', '1885', '120', '11362', '13488', '1000,2', '7270', '313', '223,2', '762', '880,2', '6491', '1820', '424', '4991,92', '1901', '5038,1', '2077', '752', '7550', '1300,92', '6933', '6080', '5396', '2799,8', '1064', '2590', '6960', '2480', '515,85', '17610', '10502', '2745', '500', '7149', '1089', '483', '4106', '694,2', '1303', '625', '13100', '10000,92', '1149', '724', '1650,3', '590', '35000', '1122,3', '1600,4', '1040', '6792', '1028', '550', '1362', '16500', '14427', '2610', '404', '1014', '3252,72', '6068', '499', '7567', '812', '19470', '6307', '10270', '5025', '2209,5', '2935', '14133', '1763', '1470', '1279', '1898', '3398', '57300', '1216,85', '7535', '578', '2321', '2834', '12211', '728', '11104', '858', '15000,4', '9444', '7520', '326', '4199', '1459', '1236', '6289', '9664', '44963', '3460', '3170', '3356', '677,5', '33665', '6730', '2807', '1452', '646', '19000', '3950', '10482', '3926', '5847', '695,2', '2060', '3305', '2352', '7780', '1634', '4498,91', '2150', '5730', '471', '2310', '2506', '714,85', '475,1', '2235', '1000,5', '10177', '1899,1', '11890', '1106', '1999,92', '5874,6', '3520', '1841,91', '767', '4027', '375,2', '1823', '8000,2', '3059', '100000', '4931,6', '2769,27', '11044', '9116', '1330', '251,1', '2772,13', '737', '5811', '758', '4399', '1854', '1825', '7795', '1363', '1169', '11020', '3980', '1068', '937', '3280', '1249,95', '11170', '9445,95', '3600', '1425', '3762', '10041', '1441', '21500', '4978', '290', '1251', '241', '1554', '3298,92', '6310', '1436', '6157', '8923', '2938', '1197,1', '1672', '3606', '1434', '8940', '3330', '1630', '1287', '4455', '9630', '8491', '868,42', '4900', '15850', '3495', '8328', '394', '209', '2979', '48156,13', '4341', '30791', '4360', '8244', '773', '2701,27', '3609', '2901', '1081', '1860', '2490', '3717', '842', '9047', '10630', '3704', '323,1', '4162', '2105', '732', '2355', '1139', '515', '7669', '455', '2790', '4268,72', '560', '3240', '3000,2', '971', '8680', '3639,5', '2180', '1657', '11762,27', '8600', '34236,65', '1271', '862', '568,7', '7359', '2000,85', '99', '928', '13140', '952', '1964', '4440', '5463', '646,5', '4444', '2753', '407', '56670', '1498', '3745', '3500,03', '655', '2578', '11474', '2425', '36500', '2500,25', '4055', '2915', '318', '614', '733', '13650', '3270,82', '775', '3899', '23900', '1757', '2570', '643', '4318', '900', '3294', '5630', '4767', '2182', '230,3', '10098', '2868', '7506', '4081', '7887', '1381', '524,85', '3678', '59066', '1202', '4270', '354', '2044', '681', '16300', '1093,4', '2739', '942', '13539', '2340', '3850', '9398', '15795', '1276,8', '1661', '14935', '1690', '1136,44', '3597,4', '3499,8', '13395', '6399,9', '9419', '792', '4788', '1203', '935', '3443', '1525', '410,4', '3304', '4076', '4358', '1550', '1629', '1475', '1500,2', '4403', '16481', '4996', '5168', '2887', '799', '1119', '3095', '4202', '2615', '2818', '11600', '41830', '760', '2248,1', '677,3', '1888', '5660', '524', '2772', '1462', '1477', '644', '3718,2', '3002', '1600,92', '14385', '276', '927', '4739', '32348', '1190,9', '2098', '6857', '45451', '868', '3007', '3264', '8499', '9788', '379', '1410', '13807', '3358', '1625', '1599', '4240', '3836', '2571', '1958', '5000,91', '11597', '3907', '4110', '1000,89', '2920', '5860', '351', '1328', '9020', '6230', '1292', '5248,91', '75570', '561', '4250', '3469', '5280', '332', '1839', '1293', '1000,92', '3511', '5460', '6950', '1361', '1968', '6390', '3045', '1918', '1078', '29860', '9362,28', '1959', '1628', '49356', '8920', '7230', '14420', '16515', '11199', '665', '404,1', '1784,81', '2934', '176', '992', '4030', '3108', '1791', '9457', '2491', '2189,9', '833', '4935', '3209', '5125', '854', '3556,4', '10152', '4697', '509', '1534', '11233', '9992', '7128', '2099,85', '1374,88', '3069', '3260', '1281', '8495', '2874', '5177', '160', '53598', '6239', '3451', '1034', '679', '1688', '2901,6', '9730', '1079', '851', '4986,5', '4593', '4472', '7880', '2595', '298', '2233', '5950', '5708', '4700', '7082', '2900,5', '856', '4220', '1299', '35500', '650', '3644', '1216', '7547,8', '15606', '9898', '1161', '448', '3023', '1842', '6950,8', '1619', '9000', '1752', '4104', '1841', '2213', '722', '2433', '10227,2', '618', '447', '1896', '729', '3995', '2263', '6138', '6228', '1715', '98,1', '2420,1', '1809', '1670,69', '6499', '2499,86', '2892', '2437,5', '781', '1492', '872', '7860', '2013', '4893', '3433,2', '1999', '31000', '1989', '584', '6458', '11292', '53900', '1130', '3945', '968', '10469', '1978', '769', '2514', '2197', '23489', '888', '285', '4520', '7528', '7238,86', '6406', '53370', '10980', '771', '1908', '4013', '2800', '2860', '56638', '2241', '10325', '2998,5', '1413', '996', '1875', '6509', '1047', '2094', '25300', '891,4', '1469', '6000,47', '276,6', '1935', '3920', '2667', '3703', '3000,68', '53530', '1122', '2062,5', '2067', '1700,92', '4319', '1610,4', '837,91', '265', '568', '4166', '1578', '818,4', '8361', '4876', '9960', '2324', '449,1', '1571', '6832', '7631', '5838', '7447', '3872', '808', '1458,8', '2051', '11300', '3765', '1243', '2580', '9254', '4091', '489,86', '439', '2282', '3208', '2129', '3265', '61827', '2785', '4565', '358', '2424', '6919,2', '1196', '635,2', '10673', '2998', '844', '2114', '1253', '1406', '7889', '2643', '995', '2740', '5260', '3000,91', '9639', '20000,91', '6002', '1703,2', '6794', '538', '4917', '4457,5', '1775', '299,1', '2384', '481', '2323', '3490', '2112', '3072,03', '2016', '3043', '2632', '8731,48', '3891', '3100,1', '1697', '21010', '2843', '4993', '2799', '4000', '1225', '1827', '2899,9', '280', '2157', '5000,8', '335,2', '4806', '990', '1559', '2006', '48696', '1364', '3205', '197', '23430,69', '3445', '3138', '1773', '46169,2', '1400,1', '555', '3357', '2394', '2731', '1239,95', '1635', '3516', '140000', '917', '2289', '20550', '1726', '1326', '292,2', '1347', '346', '9500', '19924', '41300', '1933', '1732', '709,6', '2584', '2531', '1182', '10619', '1233', '18375', '2985', '435', '8640', '3142', '3136', '1269', '5504', '3640', '4003', '2812', '15490', '12130', '8180', '2716', '2019', '1814', '9910', '15000,92', '4206,8', '10046', '838', '7541', '3763', '1979', '1523', '1248', '852,2', '13710', '2660', '4245', '1058', '14990,94', '306', '6948', '2668', '7118', '1108', '2682', '1647', '678', '4709', '7142', '1598', '14600', '573', '446,4', '3596', '1094', '41760', '9979', '1374', '899', '1749', '11425,8', '3359', '1055', '2360', '7659,01', '3410', '1100,2', '1043', '15240', '11754', '1380', '6795', '425', '19150', '600,9', '2949', '1400', '1812', '577', '1956', '546', '3620', '2009', '2734', '8816', '5078', '975', '688', '1101', '1320', '4869', '4999', '508,79', '9838', '774', '1000,88', '977', '1818', '34492', '754', '738,8', '350', '2110', '1982', '9288', '4597', '2348', '9530', '2522', '2156', '1910', '3910', '7312', '1173', '2299', '3110', '4040', '5990', '372', '847', '1321,5', '2135', '1740', '2750', '4567', '6127', '1829,43', '909', '878,2', '513', '1403', '4633', '371', '2216', '12420', '5704', '1238', '227,5', '1433', '3006', '65481', '1056', '10000', '2910', '3119', '3022', '1022', '13776', '1969', '2426', '660', '3812,6', '640', '1895', '3315', '1479', '1608', '8261', '1822', '1415', '2702', '458', '3477,91', '16100', '1000,4', '972', '20608', '234', '2294', '6396', '8941', '6900', '1500,92', '327', '571,5', '5317', '9754', '195', '1256', '6813', '523,4', '71000', '777', '2784', '2100', '7207', '825', '1188', '973', '6365', '594', '2020', '2390', '2064,91', '8188', '4315', '3630', '3780', '5345,64', '55982', '2454', '1555', '5250', '3054', '17110', '3245,95', '301', '3230', '3274,02', '3385', '2115', '799,92', '1338', '2477', '974', '553,6', '889', '1250', '1915', '1435', '3371', '1376', '2121', '7244', '3400,1', '6115', '5373', '22400', '3550', '9467', '353', '8900', '12700', '517', '12400', '1342', '1598,91', '611', '3448', '487', '14200', '3350', '8099', '426', '3105', '999,4', '421', '1152', '4898', '49337', '718', '691', '1679,67', '6699', '2699', '3297', '1310', '1686', '4145', '9108', '4343', '1493', '839', '4580', '7519,6', '43500', '2990', '5056', '380', '1972', '1274', '416', '979,5', '7040,2', '1850', '3098,9', '3902', '2916', '280,5', '1620', '2826', '1975', '11000', '669', '54870', '1849,8', '23950', '1344', '1010', '2458', '2285', '678,2', '480,9', '5306', '810', '150', '6222,48', '6990', '6000,92', '47350', '4632', '6820,45', '71999', '1705,5', '2063', '5899', '339', '3028', '3332', '1799,9', '4320', '6480', '10934', '3009,25', '2084', '12999', '3159', '786', '1030', '2955,03', '998', '28257', '2190', '959,3', '7507', '10719', '883', '4523', '7836', '6454', '10752', '283', '11230', '1430', '2725,68', '863', '10650', '2700,75', '1581', '963', '60530', '3547', '14740', '757', '980', '4798', '1207', '5023', '1453', '3658', '2904,2', '2149', '545', '1176', '18290', '4770', '11288', '10431', '6450', '675', '423', '8113', '3212', '610', '4430', '1712', '3524', '8964', '5530', '7670', '2186', '3198', '2880', '2999,91', '711', '668,71', '511', '1655', '50872', '6598', '753,23', '11898', '5825', '2409', '2299,8', '4510', '3969', '845,5', '3420', '2810', '4710', '5792', '1137', '1179,6', '4823', '799,5', '5045', '4828', '1424', '168', '6160', '36730', '32000', '2689', '2133', '3976,32', '1294', '7805', '2585', '4177', '7385', '381', '5277', '1285', '3898', '2348,8', '13772,82', '1739,69', '2000,91', '1778', '2518', '345', '345,3', '2661', '1276', '3864', '12468', '2019,95', '1771', '10100', '5598,92', '60635', '2485', '22399', '2728,91', '8390', '3597', '1659', '7950', '9975', '1912', '10330', '1004', '0,95', '13203', '2031', '552', '10097', '296,8', '1680,82', '2508', '334', '1781', '12948', '44004', '9923', '0,9', '5574', '1717', '745', '10425', '18256', '39910', '1290', '1244,7', '2078', '623', '534', '7883', '749', '2187,5', '912', '7259', '5554', '2132', '10560', '5010', '815', '2140', '485,2', '1805', '2330', '1198', '4050', '1335', '7325', '1847', '505', '10685', '1226', '7600', '747', '4820', '7707', '999,2', '32750', '3126', '6130', '940', '259', '5578', '1622', '6600', '1142', '1077,86', '4188', '925', '16293', '2715', '9270', '3290', '1001,7', '1626,5', '3749,74', '3235', '15521', '4439', '1245', '1286', '900,2', '3485', '3900', '9907', '1591', '37000', '1339,9', '1386', '44305', '1322,42', '429', '1495', '2925', '5334', '643,7', '954', '21094', '3145', '6156', '6800', '9685', '2062', '5555', '1632', '10050', '1312', '800', '658', '948', '8618', '3310', '1323', '1803', '2600', '1961', '9103', '14614', '110', '205', '1437', '3300', '9040', '2730', '399', '2858', '2395', '811', '56328', '1327', '2864', '2000,22', '2988', '6748', '10205,5', '5978', '7124', '463,2', '654', '2723', '3657', '5480', '3645', '6257,7', '1289', '4767,2', '51929', '4330', '6840', '2476', '824', '8150', '5148', '431', '5740', '2307', '6782', '725', '7776', '2574', '782', '3090', '3562,94', '1512', '10267', '3311', '18589', '1421', '2280', '539,09', '3730', '1419', '4340', '7243', '1228', '389,94', '425,4', '1798', '5445,92', '4990', '8790', '25131,59', '4325', '12834', '1324,96', '3061,6', '507', '510', '5021', '21900', '1331,78', '2050', '1266', '2286', '25000', '1999,8', '279', '1738', '2370', '4830', '2578,8', '3200', '4968', '6570', '2253', '3710', '5923', '8320', '21000', '3031', '2464', '997', '6486', '341,1', '1399,8', '1855', '8040', '1590', '3363', '2328', '1785', '4197', '2183', '631', '3298', '4636,37', '10350', '3790', '1645', '1414', '9325', '2532', '8259,55', '2400,1', '465', '4018', '8450', '4131', '344,8', '36222', '1000,67', '8110', '2305', '978', '10140', '4515,82', '4393', '1190', '500,91', '5000', '3084', '2319', '2327', '6945', '2106', '1872', '970', '451', '8751', '1491', '8201', '256,2', '54929', '45200', '261', '2840', '3675', '1563', '3699', '7816', '1800,1', '1189', '3677,98', '4995', '2498', '3935', '2095', '2877', '8916', '10015', '1800', '16000,1', '13700', '2047', '2826,6', '12189,9', '3397', '435,4', '2001', '303', '3337', '1378', '1341', '2780', '3175', '1039', '14940', '1049', '514', '2052', '816', '1962', '2335', '2698,93', '3890', '6910', '481,8', '3702', '8934', '3822', '3064', '1069', '630,5', '1725', '1000,3', '2290', '10723', '1041', '1306', '887', '1400,95', '5562', '2440', '1223', '340', '16425', '3018', '5081', '5611', '5305', '5194', '18000', '3820', '2643,88', '11078', '2650,92', '619', '5143', '49200', '11689', '5283', '1772,7', '1890,5', '5382', '1641', '415', '12000', '472,68', '2850', '1500,95', '2281,1', '2205', '5870', '1737', '1360', '814,2', '2634', '3698', '7107', '496', '1035', '7200', '6387', '10800', '464', '886', '7049', '730', '4521', '2755', '3033', '2314', '2299,9', '34698,2', '300', '2339', '2007', '4045', '5802', '12148', '2247', '1790', '223', '315', '1296', '4498,5', '612', '14970', '837', '4630', '715', '1087', '383,2', '13126', '10516', '10899', '10234', '1192', '2457', '9039', '14281', '5600', '2999,6', '3499', '17500', '1701', '798', '1322', '1937', '2878', '740', '2455', '3899,95', '2325', '1091', '1282', '479', '459', '2030', '949', '623,42', '3442', '7758', '3604', '9699,69', '1389,8', '10729', '3016', '48500', '1224,15', '1996', '13536', '70940', '384', '1031', '606', '1865', '8986', '609', '5745', '2413', '1333', '6250', '2257', '7160', '1420', '2630', '1365', '14220', '1650', '2869,9', '10460', '5000,1', '706', '3036', '1369', '8111', '3997', '3449', '918', '1224,75', '1699', '1957', '386', '1995', '895', '6700', '4390', '1994', '12800', '11580', '138', '1731', '275,4', '3650,1', '1029', '870,4', '3014', '2754', '1101,1', '1288', '1810', '2248', '616', '5050', '578,1', '23800', '1138', '2798', '1121', '741', '3073,8', '34923', '11900', '2090', '6532', '8522,2', '9784', '4244', '705', '728,92', '2909', '272', '629', '2880,1', '2240', '4235', '3800', '533', '282', '690,95', '366', '4880', '30303', '4460', '1220', '2495', '15120', '2073', '393', '60360', '1876', '6016', '2345', '5210', '3159,86', '4108', '547', '4502', '21912', '3430', '3364', '656', '1131', '3435', '1703', '6923', '50000', '3180', '7850', '1210,51', '9760', '3590', '523', '14100', '8117', '38200', '50190', '7749', '2800,2', '4464', '1399,3', '15140', '2879', '10696', '28000', '2372', '10397', '672', '5655', '3261', '10347', '2230', '10796', '1230', '2349,6', '3584', '8008', '5817', '3559', '16750', '508,5', '3538', '427', '1167', '2215', '16050', '1399', '51127', '6050', '10706', '1171', '2510', '5703', '930,91', '5245', '1429', '8210', '902', '1952', '21650', '1136,8', '1090', '1244', '6717', '10133', '3141', '1395', '3285', '1948,92', '1396', '3903,31', '2042', '311', '406', '8250', '3140', '10777', '5472', '710', '20645', '14455', '697', '2131', '229', '362', '734', '8596', '9555', '4775', '5082', '638', '2468', '5005', '9490', '4482', '5790', '870', '1070', '1252', '1178', '687', '2819', '488', '527', '310', '4087', '4913', '1512,1', '686', '1050,4', '2000,4', '4410', '1180', '3595', '1813', '3334', '4350', '2356', '1486', '5499', '2717', '2704', '2674', '1565', '2000,95', '9130', '6094', '458,4', '2690,92', '5820', '622', '43200', '1615', '2465', '1899', '1218', '5750', '667', '2270', '27000', '1928', '869', '6240', '6599,8', '3299', '2134,6', '7569', '1151', '8300', '2017', '4210', '387,6', '260,1', '4328', '1735', '3687,5', '35800', '849', '15886', '1520', '1115', '1706', '987', '3946', '1155', '1107', '1078,6', '2152', '4181', '9995', '4480', '3213', '700', '9016', '1060', '1922', '7913', '2207', '1670', '7764', '5580', '22799,2', '3137,9', '3800,2', '556,2', '10766', '3846', '4420', '90', '10394,5', '596', '555,2', '9257,3', '5760', '4342', '620', '3266', '2947', '8423', '329,2', '1304', '2930', '3353', '2059', '26410', '8', '1104', '55600', '5550', '2517', '1720', '6519', '637,3', '2776', '10507', '1029,41', '3003,3', '2403,98', '1242', '53541', '509,3', '1545', '5999,2', '2500,2', '269,1', '1677,1', '68500', '5120', '6780', '247,2', '6357', '2663', '446,05', '2825,5', '260', '941', '967', '11768', '3055', '6980', '1564', '10176', '12438,4', '1148', '709', '8480', '2497', '1160', '6972', '1051,1', '2680', '726', '1669', '411', '7990', '5273', '4267', '2022', '1423,89', '585', '7271', '3951', '1170', '1046', '4498', '3100', '1023', '328', '714', '9904', '4274', '4680', '8656', '2688', '1239', '1724', '787', '2918', '7555', '4401', '936', '9800', '4666', '5425', '1892', '2238', '955', '1291', '3799', '10512', '2275', '1385', '358,1', '3392', '9661,66', '1096', '24800', '2000,92', '5145', '601', '3688', '930', '2688,69', '4095', '5900', '2863', '3901', '3052', '1102', '9480', '445', '3387', '7125', '1596', '3759', '6599', '2937', '1800,28', '9245', '2588', '12220', '7000,5', '3616', '3253', '2640', '1456,5', '2815', '2596', '1474,3', '9874', '3380', '4809', '7110', '818', '15680', '677,25', '11440', '605', '1082', '1165', '60245', '4395', '5190', '3505,4', '1760', '4275,2', '1953', '0,94', '238', '46200', '2086', '3025', '242', '3190', '3075,87', '4256', '5650', '11080', '684', '1561', '5074', '24500,03', '3776', '1110', '2026', '580', '3104', '5146,52', '2540', '26802', '2092,94', '1254', '5609', '759', '5477', '708', '2444', '3318,4', '3171', '4983,2', '14448', '3000,55', '4005', '5718', '2329', '3148', '40758', '14640', '6513', '45600', '7800', '3303', '495', '5095', '54470', '5100', '757,7', '4000,2', '9574', '4085', '3252', '4950', '780', '10550', '309', '5767', '18400', '7796', '7098,5', '3794', '46300', '5130', '19950', '26922', '1280', '367', '1698', '19730', '2288', '7140', '810,1', '44000', '14390', '4475', '5980', '3169', '7185', '9100', '1666', '4090', '11200', '1358', '534,1', '2926,4', '5320', '4387', '22710', '659', '2649,3', '3916', '2613', '1580', '10095', '1355', '2279', '4287', '6470', '1965', '4590', '1696', '4000,92', '4752', '2686', '2419', '10030', '1300,4', '20000', '5920,65', '5780', '1432', '9900', '2123', '48155', '3000,95', '1639', '2635', '15460', '1319', '4706', '3124', '3394', '5985', '2269', '2350', '4536', '2000,7', '988', '2188', '210', '42906', '4070', '7858', '6670', '2118', '5845', '240', '823', '9845', '503', '177', '756', '525', '1519', '2763', '1199', '3756', '1605', '1936', '5746', '4185', '751', '1524', '758,3', '4155', '250,6', '695', '19999,2', '8734', '29590', '1463', '2488', '986', '2333', '933', '502', '16400', '10260', '3750', '1770', '1482', '1007', '1295', '119', '9833', '2617', '37400', '20865', '1949', '2315', '3288', '2614', '14168', '3494', '185', '1057', '5594', '10960', '6370', '1881', '2442', '702', '2602,3', '5192', '3840', '5850', '1616,47', '586', '6340', '54230', '24140', '965', '2678', '2222', '4546,8', '2659', '420', '473', '1500', '500,95', '640,32', '2616', '1700', '3804', '835', '3416', '1515', '1577', '10486', '314,5', '1501', '5360', '2228', '5061', '3885', '3149', '1112', '1535', '3829,6', '2720', '1743', '727', '1279,9', '953', '4959', '764', '425,6', '1241,2', '2751', '9264', '2045', '13290', '45000', '2538', '1528', '2890', '7700', '5974,22', '2960', '1302', '13000', '4476', '16200', '1005,75', '16668,82', '1873', '1799', '6000', '16484', '10400', '1557', '5752', '828', '273', '2046', '2199,95', '8530', '1539', '2160', '2621,78', '637,4', '5001,9', '54800', '1270', '49500', '3774', '14674', '7744', '6371', '13060', '430', '7553', '6999', '342', '2350,3', '305,1', '1899,8', '565', '450', '675,3', '3206,83', '1930', '3219', '676,8', '2758', '1828', '5170', '6646', '53310', '2500,4', '1800,9', '1730', '681,2', '11860', '2749', '5000,95', '1259', '4139,36', '5341', '1431', '5984', '6920', '1008', '795', '2420', '567,3', '11221,5', '2075', '1200,2', '2010', '1204', '2900', '15600', '1980', '699', '2375', '5040', '19400', '634', '1000', '3439', '2836', '1478', '448,9', '10489,92', '562', '638,7', '15672', '469', '1654', '2398', '7137', '1849', '7490', '800,82', '52182', '4500', '3224', '1807', '5340', '944', '56680', '1887', '60488', '4517', '982', '579', '479,8', '6323', '18800', '2231', '3798,18', '5998', '6007', '7531', '670', '735', '8608', '10725', '12244', '3333', '1579', '2911', '470', '947', '2099', '460', '7398', '2705', '2564', '3295', '4850', '1185', '5640', '860', '7495', '5620', '7989', '4860', '6196', '9996', '409', '180', '7660', '2964', '1656', '2137', '1708', '2353', '1530', '54910', '1480', '2437', '1902', '5387', '2220', '1443', '6380', '6785', '739', '217,5', '494', '4194,3', '22940', '1103', '9190', '657', '400,2', '5366', '680', '4708', '1498,5', '2649', '2775', '6317', '780,3', '2404', '2193', '10637,7', '3089', '20516', '859', '1084', '363,5', '2598', '2712', '448,5', '9602', '3666,2', '5134', '1889', '19990', '2387', '3570', '1970', '213', '2168', '11962', '28495', '3098,88', '17930', '1999,94', '958', '8125', '1466', '11024', '10465', '1864', '1802', '5999', '2076', '2166', '6000,1', '782,8', '1382', '1907', '11076', '1175', '26400', '1379', '716', '1547', '744', '8078', '1116', '53577', '3328', '6109', '1440', '413,1', '1085', '1621', '2302', '5534', '1166', '3948', '7300', '364', '3621', '8945', '5033', '1099', '4710,4', '3960', '6929', '5547', '363', '1351', '6541', '8750', '7280', '2000,9', '5275', '7945', '2232', '6860', '8879,48', '3425', '1417', '1356,4', '8100', '2849', '4742', '7261', '893', '492', '5110', '1062,5', '9418', '413,95', '1930,94', '1021', '3740', '652', '14300', '3225', '1843', '48000', '964', '878', '5075,84', '1422,6', '2373', '9528', '48910', '50642', '4400', '7080', '981', '14779', '7745', '2781', '4499', '6646,5', '1671', '3282', '57254', '717,2', '1824', '2888', '3081', '539', '2593', '2816', '2091', '598', '675,5', '3251', '3890,92', '6882', '9592', '3096', '840', '13079', '5296', '1551', '3131', '1499', '9391', '10136', '868,83', '597', '11646', '13184', '36330', '3', '778,72', '3700', '3275', '2223', '704', '985', '3308', '239', '47000', '3538,92', '2406', '1126', '2999', '1947', '3116', '28500', '1747', '4000,5', '1100', '3270,7', '3418', '1017', '19584,4', '721', '1159,9', '4363', '10031', '39487', '229,5', '4569', '3877,51', '7019', '3117', '6995,92', '1370', '3187,74', '16824,39', '592', '6510,2', '11116', '500,41', '3086', '729,1', '1045', '4850,8', '9750', '2975', '2572', '1897', '8036', '21750', '956', '5979', '2500,8', '2014', '3215', '891', '11673', '13360', '50500', '5393', '4749', '9330', '434', '510,9', '1252,05', '7360', '3426', '7740', '269', '1938', '750', '1255', '14786', '3157', '6789', '13500', '4230', '1721', '2004', '642', '22000', '1398', '5160', '293', '2970', '4263', '10120', '1568', '20810', '39804', '1507', '3713', '14855', '1925', '3815', '1956,37', '2459', '989', '140', '2949,7', '1890', '910', '1158', '8263', '12334', '4589', '6901', '23691', '24000', '1398,9', '10410', '3543', '979', '3984', '1522', '18850', '4310', '2316', '874', '3088', '1806', '38000', '5490', '3000,05', '3537', '3107', '3298,5', '3585', '1808', '2496', '1585', '418', '1092', '846', '1543,5', '75500', '33694', '5207', '794', '11190', '3505', '3603', '7464', '583', '8342,38', '6000,95', '1310,62', '9105', '9890', '4160', '12562', '2200,91', '40664', '2068', '2392', '504', '1567', '2530', '6075', '508', '5959', '7578', '1679', '1018,5', '653', '2000,6', '894', '7812', '19355', '20595', '2142', '9498', '6481,31', '62250', '9539,91', '3194', '5450', '2885', '3060', '1399,7', '2870', '1150', '1265', '3135', '2481', '3855', '2358', '4645', '2845', '4352,37', '1513', '1397', '5060', '1200,84', '50442', '12110', '2347', '7120', '3133', '2176,49', '4020', '7400', '2055', '7350', '25791', '3092', '1392', '3838', '320', '9793', '1840', '1883', '3545', '2170', '15320', '4086', '1926', '1240', '2980', '5596', '6750', '288', '432', '1309', '5097', '1796,94', '16350', '7394', '1694', '1472,75', '1177', '3830', '7477', '159', '2383', '12012', '1215', '7500', '11050', '2923,35', '14000', '13750', '1309,65', '3400', '376,21', '599', '3000,85', '484,5', '694', '11990', '1611', '75492', '6005,5', '5571', '3735', '541', '2500', '853', '4060', '17235', '12300', '1013', '3246', '250', '3202', '2608', '1444', '12030,65', '2080', '1012', '1153,5', '830,6', '1685', '4184', '2025', '2504', '5240', '3569', '575,2', '9532', '3530', '19151', '1631', '1004,2', '2192', '2430', '2244', '130', '3408,8', '5999,85', '3039', '4694', '360', '2592', '1331', '433', '468,1', '2293', '557', '5361', '9871', '1490', '11490', '304', '805', '1383', '4640', '2380', '1210', '688,3', '228', '4851', '1356', '8190', '16000', '1313', '4910', '347,6', '1066', '4157', '456', '3411', '22097,99', '10603', '6543', '1544', '542', '1908,9', '3150', '9721', '1860,9', '3739', '1727', '2696', '1348', '1517', '3943', '3186', '2769', '1154', '4239', '11528', '1948,2', '9272', '6703', '3250', '12044', '359', '1653', '1788', '3685', '1948', '10850', '3970', '5753', '4186,59', '13519', '3782', '3874', '537,85', '10599', '2036', '1509', '4000,9', '9749', '3320', '6500', '14322', '6875', '1124', '368,95', '1011', '4364', '850', '5000,92', '8421', '12460', '1147', '6325', '5500', '4053', '7584', '6092', '1231', '2346', '969,8', '1393', '2172', '2857', '5925', '7352', '5400', '9425', '2546', '692', '523,83', '604', '3199', '3977', '2257,11', '7953', '698', '2586', '29640', '2088', '17000', '1003', '720,2', '5890', '3245', '5667', '3463', '2605', '1098', '3670', '48210', '15383', '4746', '7747', '1991', '965,92', '3580', '3277,5', '4082', '1329', '966', '1379,4', '4150', '1660', '540', '950', '11382', '6499,2', '2587', '915', '5000,87', '6957', '3724', '2559', '1455', '12673', '3503', '100', '885', '6835', '1835', '247', '5246,5', '2505', '3324', '2950', '18735', '2562', '2271', '929', '955,4', '9472', '1174', '5631', '2116,57', '66000', '2828', '532', '12088', '602', '20235', '5038', '9350,95', '4434', '400', '1451', '57280', '742', '1272', '2942', '3522', '4620', '2797', '3155', '1797', '522', '446,88', '1700,91', '254', '15800', '1845', '3255', '2500,95', '1481', '4815', '745,5', '749,95', '1573', '2528', '738', '2189', '299', '1053', '2410', '7000', '373', '498,6', '27600', '2859', '1000,1', '13400', '388', '4725', '4515', '1322,9', '6169,98', '18500', '1064,2', '26000', '5873', '11498', '3502', '9068', '2127', '390', '4142', '5894', '522,4', '2861', '950,92', '2811', '688,86', '1042', '20460', '5761', '10051', '6975', '2363', '18719', '46500', '18900', '5330', '1837', '7811', '3621,7', '820', '911', '1201', '567', '3656', '2357', '60000', '1753', '378', '8235', '385,3', '6290', '16600', '76157', '4335', '10200', '9835', '2520', '5247', '14806', '9619', '7174,87', '1371', '9248', '6555', '14500', '2684', '673,91', '3470', '1051', '2399', '1874,7', '3214', '3500,6', '1546', '6495', '1445', '599,95', '7845', '2136', '1168', '5140', '1172', '800,1', '2700', '7900', '530', '588', '2375,68', '873', '790', '3500', '5812', '1990,91', '2200', '753', '7019,7', '20000,02', '34776', '1422', '10089', '8389', '356,1', '2467', '3924', '537', '6098', '48800', '1255,41', '416,3', '3484', '10467', '5451', '5436', '3175,73', '478', '3010', '1780', '2499,8', '5971', '1997', '2369', '2697', '3999', '422', '1540', '1099,9', '9300', '3568', '8350', '4882', '402', '9576', '5705', '11522', '2187', '5036', '2597', '834', '1229', '7810', '1181', '636', '231', '1450', '4214', '43359', '50120', '1999,2', '3162,71', '1100,9', '6143', '4359', '6848', '4692', '2650', '2729', '2331', '576', '5070', '11999', '3339', '50132', '12250', '7961,49', '1350', '5653', '26358', '2211', '3482', '2625', '1514', '2469', '3020', '1009', '2984', '7630', '5786', '16740', '7133', '1927', '6033', '3760', '3105,06', '5670', '10750', '1566', '575', '2214', '3173', '6010,3', '2081', '30000', '4865', '2482,84', '3787', '2145', '6629', '5055', '7174,56', '90000', '4346', '10000,1', '6000,81', '2096', '2569', '319', '39400', '5155', '988,9', '281', '649', '4551', '2912,15', '2865', '33590', '10759', '2830', '9411', '9050', '8000,91', '1575', '3000,92', '1488', '736', '2670', '2655', '1375', '258', '147', '10795', '920', '1105', '330', '10340', '2708', '1777,91', '2218', '519', '867', '1601', '1831', '1682', '3063', '11065', '2159', '13200', '8990', '8800', '4280', '10001,11', '299,92', '480', '385', '12335', '19958', '4353', '9037', '2167', '4768', '10026', '387', '1224', '1503', '329', '43000', '6402', '2647', '17814,4', '4175', '9991', '1789', '500,3', '3454', '46832', '336', '8065', '723', '25820', '2204', '14760', '5398,1', '3228', '1390', '2973', '2032', '1838', '4949', '249,3', '1267', '1200', '1511', '6544', '51364', '4587', '5994', '1798,82', '13613', '6952', '3779', '2151', '635', '6100', '876', '1249', '2268', '551', '240,6', '5662', '13510', '4759,6', '1543', '3195', '43480', '2966,2', '377', '1899,9', '1246', '16086', '554,4', '2259', '3318', '999', '3670,2', '4077', '3233,55', '832', '845', '11320', '875', '1905', '3100,3', '3957', '4453', '913', '13350', '31800', '3000,5', '1359', '47355', '7272', '5784', '1678', '8115', '3249', '13790', '3720', '7822', '39000', '687,7', '772,3', '25370', '11150', '890', '3414', '7020', '1460', '1197', '1047,82', '10300', '2795', '1020', '827', '4490', '685', '929,1', '1556', '6410', '2155', '13792', '12050', '630', '2100,91', '8861', '7524', '41774', '3094', '29032', '3097,8', '748', '8650', '1200,8', '3165', '2278', '1821', '3374', '2070', '3040', '3462', '3490,82', '1880,2', '9400', '1574,1', '5116', '124', '1638', '696', '7095', '5710', '520', '2560', '3130', '4846,96', '677', '26090', '3510', '3660', '2698', '1939', '1253,7', '553', '10600', '3450', '3669,6', '7116', '1273', '1870', '9990', '4289', '29000', '8205', '14190', '444', '3975', '1179', '3636', '2008', '1569', '1213', '365', '2368', '29327', '13681', '39600', '7756', '1680', '65000', '9114,9', '391,2', '2547', '4190', '5300', '1704', '6295', '18840', '1692', '2365,13', '3480', '6958', '114', '1829', '1093', '5028', '17669', '9110', '2952', '1619,95', '10240', '615', '648', '609,6', '528,5', '2651', '2472,5', '3154', '1169,3', '8700', '1145', '4447', '1340', '549', '1233,2', '2079,02', '2403', '2999,92', '35269,21', '1080', '2000,8', '571', '389', '788', '1800,2'}\n",
      "\n",
      "LOAN_AVG_DLQ_AMT\n",
      "{'2858,6', '1415,2', '6200', '43,3', '11310', '2409,01', '1082,9', '68,77', '1094,09', '1639,94', '2188,21', '947,57', '2015', '997,65', '1587,06', '1168,63', '1459,385', '1589,92333333333', '942,17', '1600', '619,4', '1959,42', '1662,1', '2210', '3428,56', '1348,68', '3501,45', '2493,97', '1107,5', '2690', '6532,49', '1289,105', '2068,56', '1468,38', '3220', '669,12', '865,1', '370,77', '1724,15333333333', '1274,99', '3783,78', '110,91', '1716,52', '3360', '314,76', '1259,43', '2524,28', '1319,56', '3037,58', '3119,99', '91,27', '6938,27', '1373,87', '1405,53', '2550', '2820', '6540', '1439,9', '568,75', '543,33', '1745,7', '690', '1098,1', '1109,855', '836,79', '1504,79', '855', '3050', '695,39', '779,82', '63,31', '4055,03', '1439,815', '4600', '2040', '981,71', '2575', '6689,82', '1171,686', '769,43', '896,1', '861,03', '524,82', '756,84', '772,73', '5428,62', '3990', '804,89', '6360', '1920', '1196,17', '3209,5', '1560', '1706,3', '2989,98', '1670,18', '3810', '894,29', '598,396666666667', '760,65', '1960', '3210', '776,3', '2005,15', '2710', '2247,08', '678,18', '9530,91', '3279,705', '1839,85', '1217,36', '2620', '1149,395', '794,5', '5180', '989,15', '1182,23', '1985,528', '2282,89', '812,11', '976,68', '2575,71428571429', '1411,31', '3716,35', '797,135', '2668,07', '1751,37', '662,13', '1226,25', '2178', '4269,94', '3777,93333333333', '2864,92', '3971,6', '478,13', '1386,115', '2460', '1074,52', '2447,225', '2088,64', '6133,41', '1097,55', '2853,18333333333', '1849,496', '4260', '1570', '1068,32', '1260', '2707,25', '4112,53', '1861,6', '1258,69', '2130', '7763,74', '2185', '880', '997,89', '4472,91333333333', '1789,04', '4570', '1134,525', '874,31', '3316,8675', '1987,565', '1388,83769230769', '1243,83', '6650', '1957,21', '187,35', '722,59', '560,36', '5577,92', '1769,1975', '2112,57', '879', '4660', '2429,5', '816,83', '370', '2549,52', '10640', '3880', '586,501428571429', '2400', '697,72', '2189,99', '1114,57', '1661,74666666667', '3202,2', '630,8', '796,59', '2263,18', '758,15', '746,74', '1894,04', '3668,79333333333', '1256,635', '451,06', '960', '1710', '1138,2', '1850,24', '3870', '1317,06', '2760', '7100', '1206,51', '13920', '1666,28', '183,48', '821,45', '998,968', '1317,88333333333', '1259,1', '2441,465', '1750', '1510', '2466,8625', '1091,2', '1344,33', '991,79', '1120', '1093,22', '1892,28', '3055,72', '1149,495', '4300', '3339,71', '3340', '1600,0925', '1015', '4140', '1506,39', '517,51', '6550', '2430,38', '1953,6', '578,06', '1049,42666666667', '490', '1733,88', '1140', '526,563333333333', '661,46', '1206,745', '1085,53', '1099,54', '664,42', '0', '3390', '9239,69', '806,93', '600', '2940', '918,255', '3111,3', '2070,52', '14990', '775,86', '1325', '2088,86', '2184,66', '1373,99333333333', '2518,18', '37,5', '6660', '433,306666666667', '1831,51333333333', '903,66', '3440', '1127,76', '3120', '1287,35', '1090,8', '3610', '2320', '3680', '846,74', '3914,24', '1574,25', '2260', '2359,898', '4690', '1245,94', '1317,4', '1136,6', '720', '1692,49', '1608,255', '1591,94', '3030', '1391,47', '1180,53', '3387,85', '721,151428571429', '1875,75', '2699,88', '4370', '2450', '947,285', '1539,13', '1549,18', '2192,0875', '2365', '949,89', '1940', '576,324', '3080', '7510', '1165,25', '1658,42', '1508,79', '2409,2', '726,57', '284,02', '3000', '145,92', '3160', '728,49', '1900', '1880', '1640', '1196,43', '2679,82', '7450', '1489,13', '457,71', '1300,386', '2323,55', '1130,63', '917,651666666667', '4100', '2739,76', '1795', '1304,722', '1740,19', '2175', '859,73', '3875', '6591,48', '1022,204', '2470', '1208,09', '4296,29333333333', '1990', '1050', '7340', '824,581428571429', '1845,5', '1883,04', '1181,51', '682', '767,7', '1070,05', '4380', '5420', '706,48', '2554,005', '2804,46', '848,45', '770', '3651,445', '2000', '1152,89', '3770', '1930,595', '1300', '715,3', '957,59', '3231,88', '1069,6', '1135', '1749,69', '1563,45', '813,305', '988,85', '7840', '909,424285714286', '983,28', '1549', '966,07', '1833,77', '1525,885', '528,15', '613,21', '1713,74', '1684,42', '1437,01', '5030', '2770', '1237,24', '660,6', '4650', '1252,67', '1931,44', '3828,09666666667', '1697,22', '1164,99666666667', '1077,605', '1950', '4560', '4450', '791,98', '3752,02', '1275,785', '839,79', '1147,5', '609,4925', '2265', '2559,89666666667', '451,495', '1606,38', '799,16', '1532,04', '3191,75', '4200', '5269,78', '1636,04', '429,24', '4834,28', '1140,2', '715,54', '695,59', '7010', '2051,5', '1286,73', '750,175', '1167,98', '598,5', '616,06', '1321,59', '990,85', '1108,96333333333', '1066,605', '1610', '1402,43', '6070', '1102,7', '1097,86', '2701,5', '910,13', '5370', '2340,06777777778', '3940', '1441,57', '2923,96', '1830', '904,08', '830', '3637,43', '1408,87', '1022,67', '570', '3223,09', '1199,54', '1377,5275', '1615,22', '1113,335', '1492,404', '1411,835', '2250', '2707,64', '4550', '440', '988,62', '3540', '1180,16666666667', '1071,75', '1272,72', '1476,6', '870,69', '1878,86', '183,13', '4159,78', '1841,9', '5560', '1389,63', '2300', '5397,15', '2112,17', '1258,95', '880,2', '1820', '673,6825', '862,5', '6080', '3702,8', '1004,225', '2590', '1033', '1736,4', '2480', '1880,59', '500', '526,43', '4001,34', '625', '2370,01', '590', '2132,88', '1040', '929,39', '550', '2610', '988,44', '882,01', '1367,735', '2070,42', '1830,2', '1663,27', '1470', '1593,76', '2149,94', '1279,91', '482,28', '1179,89', '819,3', '3460', '1160,96', '1155,125', '3170', '1304,0625', '865,03', '2742,25', '859,84', '3950', '2060', '7780', '2150', '1999,73', '2310', '596,16', '1899,1', '937,405', '1160,21', '3520', '1176,82', '676,85', '1810,155', '4574,85', '1209,5', '1387,15', '1742,41', '1330', '805,73', '859,9325', '4399', '1639,99', '1330,41', '3280', '1240,46', '3600', '3464,88', '2217,25', '6310', '831,23', '438,19', '1538,69', '1630', '3330', '767,53', '1570,46', '1264,23', '6740', '1915,35', '2445,93', '2446,5', '224,59', '2712,72', '1860', '2490', '2105', '1045,89', '2790', '3762,5', '560', '3240', '2568,45', '95,09', '2180', '4230,185', '564,93', '568,7', '233,335', '663,05', '1098,8', '2419,9', '1247,92', '2425', '215,55', '4893,17', '1180,48', '2570', '3086,66666666667', '1059,47', '900', '1546,55', '635,53', '628,94', '2725', '6260', '989,39', '1047,32', '2340', '3850', '1922,69', '2399,55', '1690', '5974,67', '2852,74', '367,35', '339,83', '1550', '588,9', '859,1', '760', '599,485', '1181,13', '749,82', '1410,53333333333', '4115,33333333333', '798,53', '2510,2', '1410', '4240', '509,533333333333', '641,04', '2920', '1269,16', '1706,318', '1374,28', '4508,2', '3102,49333333333', '2482,72', '4250', '631,68', '1424,26', '49,35', '1456,85', '1329,54', '6390', '2008,01', '901,64', '704,93', '944,93', '758,68', '270', '1359,6', '4030', '984,79', '869,45', '674,263333333333', '1498,2', '1793,66', '1296,4', '757,75', '746,57', '3589,09', '3782,39', '2237,245', '599,19', '3237,94', '3260', '695,06', '1002,22', '9453,33333333333', '4700', '4220', '677,474', '650', '9280', '980,25', '1496,3275', '425,97', '1447,67333333333', '1905,8', '1142,83', '886,26', '4387,48', '550,83', '4530', '1241,32428571429', '839,88', '1007,63', '552,57', '1276,7', '2252,3', '2670,02', '1221,8', '2361,22', '18307,16', '1130', '857,956666666667', '2659,95', '1113,74', '2800', '2860', '2083', '1270,16', '1408,73', '1535,89', '1068,47', '1056,95', '3920', '324,16', '1768,07', '1312,44', '2547,85', '2235,225', '988,5025', '946,49', '648,68', '2580', '4565', '437,26', '2704,02', '2740', '701,32', '855,675', '3490', '756,1', '2418,306', '1324,41285714286', '1023,66', '4000', '1829,73', '1145,21', '280', '1317,32', '990', '3138', '2477,64', '1678,99', '315,796666666667', '604,43', '983,45', '1260,55', '2476,77', '2769,82', '1283,89', '1999,19', '3640', '1986,88', '1268,44', '813,335', '610,986666666667', '2660', '2144,77', '1067,73', '1659,576', '673,02', '869,26', '820,124', '1881,26', '1209,27', '2916,18', '4760', '4090', '1094', '3509,22', '42,52', '748,93', '2360', '3410', '2127,1', '842,15', '2451,54333333333', '1380', '1594,914', '965,1', '1896,24', '1400', '2009', '3620', '4956,4', '702,23', '1155,02142857143', '975', '1320', '2597,78', '2991,39', '440,63625', '3860', '1386,96', '1991,725', '350', '2110', '1398,58', '1910', '3910', '3110', '630,49', '2750', '1740', '830,53', '502,1', '1817,57', '3377,57', '687,11', '824,02', '1042,41', '1731,7', '2910', '3821,44', '1970,52', '1269,372', '1649,37', '7530', '1598,01', '660', '769,915', '640', '3315', '212,25', '1993,245', '1547,02', '1519,72', '957,4', '1601,63', '2082,47857142857', '1948,62', '2750,86', '2100', '2020', '2390', '3630', '3780', '776,59', '2084,32', '709,96', '3230', '1139,49', '2423,54', '1311,85', '978,56', '2619,25', '1250', '3550', '2647,9', '1065,62', '3350', '836,6', '3959', '1832,78', '2269,735', '3309,87', '963,12', '791,56', '1310', '2925', '2990', '380', '1325,63', '1355,87', '1850', '28012,2', '2154,02', '1130,785', '1620', '1423,33333333333', '1119,27', '1010', '678,2', '698,26', '978,13', '810', '2081,36', '6041,86', '136,76', '2139,63375', '1605,95', '1563,61', '0,98', '4320', '4840', '1030', '2272,5', '2702,4', '2190', '3964,85', '910,826666666667', '845,55', '1986,35', '11460', '310,126', '1430', '2202,69', '954,65', '980', '3018,275', '5752,98', '2119,5625', '4770', '610', '3024', '1288,7', '690,99', '1781,225', '7670', '582,386666666667', '4660,495', '2880', '1010,43', '4510', '2794,22333333333', '3420', '2031,34333333333', '2810', '4710', '4884,95', '6160', '3539,82', '658,18', '2186,585', '3033,41', '1747,33', '732,62', '2585', '2706,39', '1553,31625', '789,23', '872,81', '1727,62', '762,93', '2940,81', '1215,45777777778', '9060', '2262,73', '1290', '534', '4290', '658,42', '581,15', '1424,9175', '2140', '2296,35', '1407,725', '1205,4725', '2330', '799,09', '2563,29', '696,97', '4050', '2840,62', '951,12', '4617,935', '1233,309', '4820', '6130', '940', '433,3425', '818,81', '2120', '913,4975', '1731,06', '3900', '1095,61', '1427,295', '355,04', '1070,52', '1495', '2018,255', '2755,21', '4559,26', '1932,5', '755,063333333333', '5048,19', '2497,09', '898,77', '800', '3310', '2157,32', '2600', '3300', '2730', '1197,38333333333', '1675,345', '1263', '1412,55', '8020', '336,9925', '3376,515', '805,86', '1881,83', '1582,435', '2629,87', '986,606666666667', '1296,74', '2473,645', '929,51', '1305,97', '801,8', '2429,09', '3691,2675', '1686,92', '3090', '1512', '1338,69', '809,42', '2280', '3730', '2006,83', '4340', '62,46', '510', '950,888', '2050', '2059,46', '2370', '4830', '2599,29', '657,95', '2240,34', '2043,665', '3200', '3283,1', '3870,25', '2464,55', '1339,99', '2441,4', '5090', '2598,9', '5757,9', '1590', '1375,39', '1418,86', '1006,29666666667', '631', '1606,5', '3279,56', '831,2', '1190', '2323,025', '970', '1093,75', '4610', '2840', '1414,34', '653,293333333333', '605,496', '2268,41857142857', '1758,25', '1800', '826,64', '964,516666666667', '1006,59', '670,085', '2779,29', '2780', '1072,752', '1313,33333333333', '3890', '3101,73', '1683,49', '94,89', '2290', '386,666666666667', '1063,17', '2265,01', '2440', '340', '1544,95', '816,3', '486,895', '2992,64', '761,74', '3820', '1507,48', '3011,18', '1054,5', '1626', '2850', '4026,63', '1259,39', '5870', '2467,33', '1360', '730', '5603,82', '1288,63', '2354,29', '300', '1780,28', '3248,28', '1790', '14970', '712,179', '4630', '5394,29', '413,145', '3172,83', '510,136666666667', '740', '804,32', '578,3', '2030', '14870', '859,92', '763,3', '1399,25', '596,29', '1814,93', '2239,37', '682,56', '4445,6', '854,47', '1239,08', '1478,49', '1966,99', '3768,74', '1420', '2630', '1144,98', '1152,15', '1365', '1650', '3860,18', '2796,66', '3099,42', '1187,565', '2315,64857142857', '2573,8', '1995', '739,93', '4390', '1233,33', '1616', '5075,99', '526,94', '134,78', '1101,1', '1810', '5050', '1168,565', '2492,54', '3235,24', '1232,78', '2090', '891,95', '2959', '4056,11', '4850,2', '863,68', '0,04', '2240', '533', '3800', '2974,37666666667', '1220', '613,25', '1017,28', '812,693333333333', '892,18', '1677,48', '3430', '1173,46', '1599,9', '3180', '3590', '1920,9575', '717,9', '265,55', '5401,67', '1639,24571428571', '3752,455', '2252,24', '806,19', '2230', '1230', '1509,44', '642,31', '699,99', '612,524', '2166,82', '2090,53', '1626,75', '1179,86', '908,78', '3231,2', '2510', '3358,58', '554,36', '1347,12', '2782,89', '2352,78', '2920,45', '1258,585', '1090', '918,7', '1838,56428571429', '1094,85', '1409,965', '2935,02', '3140', '4635', '710', '865,05', '1113,17', '1913,31', '604,353333333333', '911,793333333333', '2146,66666666667', '870', '1010,55', '1993,59', '1276,66666666667', '1070', '1179,394', '567,51', '310', '1085,5', '1180', '1634,81', '4350', '1954,4', '780,75', '1574,6', '560,86', '3013,9', '1615', '2690,33333333333', '4119,97', '1253,34', '2270', '1309,89', '825,10875', '4758,14', '5047,5', '4210', '1924,4', '1671,33', '1520', '979,89', '727,79', '1479,11', '1128,64', '700', '1060', '1111,4', '1670', '2816,25', '4420', '740,575', '862,43', '2119,77', '5545,0225', '5760', '620', '717,87', '2930', '3355,19', '59,68', '5550', '1040,78666666667', '1720', '1209,47', '1467,05', '5570', '1739,33', '3201,95', '1211,17', '1160', '1889,43', '2680', '1433,4', '1002,60333333333', '4180', '1959,99', '1120,93', '1942,72', '1170', '1314,58666666667', '3100', '714', '651,16', '6490', '1134,58', '4680', '1405,09', '3322,7775', '2044,155', '2809,87', '1040,5', '2157,89', '930', '5900', '1896,34', '1068,72', '1817,76', '970,155', '1230,63', '2640', '860,505', '177,34', '811,49', '1355,12', '2939,536', '1760', '3639,91', '1844,885', '1609,47', '3190', '837,74', '963,96', '5650', '1088,05', '558,06625', '5076,65', '2503,19', '1110', '1274,59', '912,41', '580', '665,57', '2540', '4158,85', '376,08', '1939,61', '1272,81', '2676,24', '5100', '613,12', '115,65', '327,98', '1175,57', '780', '1287,132', '2406,8', '991,19', '1443,3', '407,8', '1039,36', '1280', '1684,04', '367', '802,36', '2326,81', '1292,59', '705,6', '1020,7725', '5320', '1771,33', '1088,48', '2792,33', '600,93', '1580', '2219,93571428571', '2101,256', '920,175', '1136,86', '1867,66166666667', '5780', '1248,27', '827,57', '2158,72', '1529,06', '1774,5175', '9840', '2350', '2269,565', '837,48', '4070', '4084,07', '240', '446,31', '1191,604', '2957,71', '567,16', '524,6', '887,79', '3155,89333333333', '892,95', '619,73', '509,52', '1221,92', '2066,905', '3750', '1770', '2140,36', '1248,56', '3755,32', '820,87', '778,07', '3509,805', '3840', '957,63', '5850', '1980,6', '586', '1918,79', '2108,71', '1500', '731,72', '752,923076923077', '1700', '766,26', '683,9975', '216,59', '1112', '896,31', '2720', '1614,36', '761,866666666667', '1798,49', '1628,45', '2538', '2960', '2890', '2289,48', '411,43', '2201,11', '7369,77', '3749,07', '2247,51', '918,55', '1073,54', '2160', '1270', '1528,832', '724,38', '2656,68', '1066,005', '871,07', '430', '1457,52', '2473,45', '1132,64', '2163,94', '450', '1717,47333333333', '1930', '591,935', '921,58', '2781,08', '2758', '5170', '1020,63', '1730', '2569,05', '875,2', '342,02', '1961,35', '1382,67', '1402,92', '1583,15', '1269,82', '51,8', '2010', '5040', '2900', '1980', '3626,91', '1000', '1645,64', '7490', '2258,3', '959,955', '1029,75', '1154,905', '499,69', '1647,97888888889', '2303,11666666667', '849,91', '2142,2', '1007,8', '917,57', '735', '670', '1851,55', '501,305', '2979,57', '2379,46', '470', '460', '1340,16', '2388,505', '1297,36333333333', '846,55', '860', '1077,03', '2128,74', '1255,21', '1459,34', '7060', '1530', '1480', '620,75', '2220', '818,74', '668,53', '1616,1825', '680', '2751,25', '1832,91', '3659,0625', '1459,99', '1707,5', '1314,11', '1108,574', '481,506', '2178,925', '2651,68', '1674,3', '2368,84', '1003,255', '978,55', '3570', '1970', '1116,49', '198,88', '699,78', '1426,72', '101,52', '4940', '0,71', '1063,58666666667', '2293,65', '1195,3', '1440', '951', '1091,55', '3089,155', '2343,41', '548,523333333333', '549,88', '1804,9', '3960', '7280', '1537,71', '1145,38', '1095,89', '727,63', '2877,745', '87,39', '5110', '1158,1', '1655,63', '2590,15', '4400', '1477,37', '3382,31333333333', '1826,86', '1171,65', '1498,26', '1010,27', '2685,68', '1303,04', '840', '1055,71', '840,7', '1238,855', '95,79', '1120,19', '1561,95333333333', '1719,72', '1188,46', '1100', '606,55', '1007,36', '782,21', '1370', '1198,15', '2135,75', '2608,17142857143', '3106,29', '1045', '586,646666666667', '269,51', '1191,65', '2261,19', '2122,45', '516,18', '2462,1', '1369,755', '750', '603,55', '559,94', '5160', '2970', '1869,795', '4729,07', '958,76', '462,915', '1072,34', '605,32', '1890', '910', '2391,38', '647,42', '3433,42', '2263,2', '2232,28333333333', '4310', '1630,344', '5410', '767,566', '829,393333333333', '849,085', '2097,97333333333', '4120', '2736,28', '84,07', '4160', '719,25', '3103,84', '2530', '1600,26', '569,121428571429', '518,9', '866', '6180', '4810', '38,32', '753,68', '3060', '2870', '1150', '702,565', '777,84', '4020', '652,36', '821,93', '320', '1985,3', '1885,265', '1840', '2170', '4376,4', '531,65', '1516,872', '1258,49', '828,64', '1240', '2980', '1288,898', '3768,7', '6750', '3072,475', '5872,64', '2013,19', '2349,51', '4164,34', '1215', '3400', '856,64', '980,42', '2094,3', '860,22', '2500', '4060', '1103,19', '1597,92', '1949,8', '1026,8175', '2080', '656,705', '2025', '3530', '1539,2', '880,74', '2430', '2910,25', '4827,666', '4136,07', '360', '289,02', '1552,325', '2979,31', '1490', '429,11', '1112,57', '1776,96666666667', '4640', '823,54', '1210', '2380', '54,58', '542', '3150', '2287,02', '2081,78', '768,11', '3250', '2701,26', '1180,87', '7620', '1251,35', '3970', '3415,66666666667', '1371,86', '1848,05', '5108,38', '1159,18', '3320', '6500', '850', '1671,7', '5500', '1429,99', '2579,43', '762,16', '1197,24875', '5830', '2079,37', '472,11', '779,415', '698', '1155,06', '2605', '3670', '3580', '1036,336', '1321,68833333333', '366,58', '1681,62666666667', '1629,58', '1660', '540', '950', '639,11', '410,39', '580,49', '866,59', '4515,81', '5510', '100', '930,4', '2168,26', '1459,54666666667', '2950', '1193,9675', '861,56', '4890', '1235,4', '5698,46', '400', '875,09', '4620', '535,53', '1899,7', '327,675', '3255', '1159,06', '2386,505', '3127,19', '2002,45', '1053', '2410', '2786,89', '3506,07', '1965,32', '1573,35', '1766,2', '2961', '778,32', '872,065', '2010,03', '3635,77', '390', '497,62', '1679,2', '1402,2', '2158,2775', '1012,02', '820', '2259,35', '1335,47', '1573,30428571429', '3075,82', '2520', '2509,38', '957,46', '3470', '477', '1675,75', '5140', '2700', '15110', '530', '790', '3500', '879,74', '666,41', '2200', '753', '2627,58666666667', '290,82', '2372,77', '1909,16', '5526,72666666667', '3010', '1200,99', '1780', '1778,635', '1542,42', '455,32', '1540', '1032,06', '969,59', '1450', '2028,702', '579,94', '768,97', '3769,3625', '2650', '5070', '1299,55', '1095,88', '7790', '1350', '1352,85714285714', '997,13', '3020', '658,84', '3303,2', '3760', '1098,64', '4920', '2732,2', '588,13', '3889,696', '966,953333333333', '1244,53', '673,89', '2779,4', '1154,34', '2499,775', '1234,7375', '1439,94', '1221,24', '2592,5', '1879,28', '2830', '1739,88', '684,89', '1342,58', '716,33', '1222,06', '2670', '1052,63', '1581,82', '1595,575', '1145,85', '5149,95', '920', '330', '1892,238', '1004,8', '1175,566', '1119,93', '3365,305', '2060,782', '532,24', '1309,43', '2394,45', '480', '1775,46', '758,95', '2273,72', '1555,00090909091', '71,71', '948,58', '756,453333333333', '2151,50333333333', '2217,22333333333', '758,96', '410,6', '1390', '1266,34', '1200', '1199,27', '1403,64', '1068,76', '2262,12', '1283,93', '1097,62', '664,94', '830,7', '845', '1788,46', '2276,54666666667', '1033,905', '949,15', '3720', '1169,82', '964,69', '849,19', '3594,45', '890', '1127,63', '1307,99', '1460', '1429,97', '502,2', '3165,46', '1020', '543,17', '2365,47', '5430', '630', '3070', '666,86', '3040', '2070', '455,59', '669,48', '1144,03', '2560', '520', '3130', '782,705', '979,63', '1792,71', '3510', '3660', '1141,06', '1413,765', '553', '651,625', '1870', '444', '1680', '2676,2125', '1875,70333333333', '966,53', '4190', '5300', '3863,72', '1259,71333333333', '868,01', '3480', '962,655', '6647,97', '2250,56', '1514,45833333333', '1761,03', '763,185', '1021,13', '1340', '574,21', '1080', '758,82'}\n",
      "\n",
      "LOAN_MAX_DLQ_AMT\n",
      "{'2858,6', '1415,2', '6200', '43,3', '11310', '2409,01', '1082,9', '1427,4', '68,77', '1094,09', '1639,94', '2188,21', '947,57', '997,65', '1168,63', '1600', '1959,42', '1662,1', '1860,72', '2210', '3428,56', '1348,68', '3501,45', '2493,97', '2690', '6532,49', '3220', '1468,38', '2068,56', '669,12', '865,1', '370,77', '1177,84', '1274,99', '3783,78', '110,91', '1716,52', '3360', '314,76', '1259,43', '2524,28', '1319,56', '91,27', '6938,27', '1373,87', '1405,53', '2193,63', '2550', '2820', '6540', '1439,9', '568,75', '543,33', '1745,7', '690', '1098,1', '836,79', '1504,79', '3050', '779,82', '63,31', '4055,03', '4600', '2040', '981,71', '6689,82', '769,43', '896,1', '861,03', '524,82', '756,84', '772,73', '5428,62', '3990', '918,83', '804,89', '6360', '1920', '1560', '1706,3', '2989,98', '2944,54', '1670,18', '3810', '894,29', '760,65', '1960', '3210', '776,3', '2005,15', '2710', '2247,08', '678,18', '9530,91', '1839,85', '1217,36', '9540', '2620', '794,5', '5180', '989,15', '1489,45', '2282,89', '812,11', '976,68', '1411,31', '3716,35', '1721,35', '2668,07', '1751,37', '662,13', '1226,25', '2178', '4269,94', '2864,92', '3971,6', '3270', '478,13', '2460', '1074,52', '2088,64', '6133,41', '473,16', '1097,55', '4260', '1570', '1068,32', '1260', '2707,25', '1293,09', '4112,53', '1861,6', '1030,63', '2130', '7763,74', '880', '997,89', '1789,04', '4570', '1243,83', '6650', '2661,68', '1957,21', '187,35', '722,59', '560,36', '1387,47', '5577,92', '979,94', '2112,57', '879', '4660', '2429,5', '816,83', '370', '668,36', '2549,52', '10640', '3880', '2400', '697,72', '2189,99', '1446,55', '1114,57', '3202,2', '630,8', '796,59', '2263,18', '1894,04', '451,06', '1562,12', '960', '1710', '1192,75', '1138,2', '1850,24', '3870', '1317,06', '2760', '7100', '1206,51', '13920', '1666,28', '1901,3', '1259,1', '1750', '1510', '1344,33', '1120', '1093,22', '1892,28', '4446,3', '4300', '3339,71', '3340', '1015', '4140', '1506,39', '517,51', '6550', '2430,38', '1953,6', '578,06', '490', '1733,88', '1140', '661,46', '1085,53', '1099,54', '664,42', '0', '3390', '9239,69', '806,93', '600', '2940', '775,86', '14990', '2088,86', '2184,66', '2518,18', '37,5', '6660', '903,66', '3440', '1127,76', '3120', '1287,35', '1090,8', '3610', '2320', '3680', '846,74', '1586,61', '3914,24', '1574,25', '961,94', '2260', '4690', '1245,94', '1317,4', '1136,6', '720', '1692,49', '1591,94', '3030', '1391,47', '1180,53', '2699,88', '4370', '2450', '1539,13', '1549,18', '949,89', '937,79', '1940', '1850,5', '3080', '7510', '1165,25', '1658,42', '1508,79', '3560', '2409,2', '726,57', '604,76', '284,02', '3000', '145,92', '3160', '728,49', '609,52', '1900', '1880', '3690', '1640', '1196,43', '2679,82', '7450', '1489,13', '457,71', '2323,55', '1130,63', '4100', '2739,76', '4960', '481,51', '918,28', '1740,19', '859,73', '6591,48', '2470', '1208,09', '1990', '1050', '1268', '7340', '1845,5', '1883,04', '1181,51', '682', '767,7', '1070,05', '4380', '5420', '924,08', '706,48', '2695,38', '2804,46', '848,45', '770', '2000', '3770', '1300', '957,59', '3783,76', '1300,16', '3231,88', '1053,67', '1069,6', '1749,69', '1563,45', '988,85', '7840', '983,28', '1549', '966,07', '1833,77', '528,15', '613,21', '1684,42', '1437,01', '5030', '2770', '660,6', '856,3', '4650', '1252,67', '1931,44', '1697,22', '783', '1950', '4560', '4450', '791,98', '3752,02', '331', '839,79', '1837,31', '2265', '1606,38', '799,16', '1532,04', '4200', '5269,78', '1636,04', '429,24', '4834,28', '1140,2', '715,54', '7010', '2051,5', '1167,98', '598,5', '616,06', '1321,59', '1527,19', '990,85', '1402,43', '1610', '3111,86', '6070', '8570', '1102,7', '1097,86', '910,13', '5370', '3940', '2923,96', '1830', '904,08', '1324,5', '830', '3637,43', '1408,87', '1022,67', '570', '1199,54', '2969,75', '2250', '790,77', '2707,64', '4550', '440', '988,62', '3540', '1071,75', '1272,72', '1476,6', '183,13', '4159,78', '1841,9', '5560', '1389,63', '2300', '5397,15', '2112,17', '880,2', '1820', '862,5', '6080', '3702,8', '2590', '1033', '1736,4', '2480', '1880,59', '500', '526,43', '4001,34', '590', '2132,88', '1040', '929,39', '550', '2610', '988,44', '2070,42', '1663,27', '1470', '1593,76', '2149,94', '5975,04', '482,28', '1179,89', '819,3', '3460', '1160,96', '3170', '1046,01', '865,03', '1351,06', '2742,25', '1452', '3299,1', '3950', '2060', '2150', '1999,73', '2310', '596,16', '2935,52', '1899,1', '1160,21', '3520', '1176,82', '676,85', '4574,85', '1209,5', '1387,15', '620,18', '1742,41', '1330', '805,73', '1650,53', '1639,99', '1330,41', '2233,65', '3280', '1240,46', '3600', '3464,88', '2217,25', '6310', '831,23', '438,19', '1538,69', '1630', '3330', '6740', '1915,35', '2445,93', '2446,5', '224,59', '2712,72', '1860', '2490', '589,45', '1045,89', '2790', '3762,5', '3240', '560', '2568,45', '95,09', '2180', '564,93', '568,7', '663,05', '1098,8', '2419,9', '1247,92', '2425', '4893,17', '1180,48', '2570', '2016,7', '1059,47', '900', '1210,94', '1546,55', '635,53', '628,94', '2725', '6260', '989,39', '1047,32', '2340', '3850', '2399,55', '1136,44', '1690', '5974,67', '2852,74', '367,35', '339,83', '1550', '2347,51', '2398,8', '859,1', '760', '1181,13', '749,82', '798,53', '2510,2', '1410', '4240', '641,04', '2920', '736,3', '1374,28', '4508,2', '2482,72', '4250', '943,56', '631,68', '49,35', '489,13', '1456,85', '2008,01', '6390', '901,64', '704,93', '944,93', '270', '1359,6', '4030', '869,45', '3089,5', '472,8', '1498,2', '1793,66', '1296,4', '757,75', '746,57', '3589,09', '3782,39', '540,39', '599,19', '3237,94', '3260', '695,06', '1002,22', '9470', '4700', '4220', '2642,83', '650', '3285,74', '9280', '980,25', '1905,8', '1142,83', '886,26', '4387,48', '550,83', '4530', '839,88', '1007,63', '552,57', '1276,7', '2252,3', '2670,02', '1221,8', '2361,22', '717,01', '1130', '2220,72', '2659,95', '4520', '1113,74', '2153,67', '2800', '2860', '2083', '1408,73', '1068,47', '1056,95', '3920', '324,16', '1090,01', '1768,07', '724,93', '3718,64', '1312,44', '2547,85', '946,49', '648,68', '2580', '4565', '437,26', '2704,02', '2740', '5260', '701,32', '2858,62', '3490', '756,1', '1023,66', '4000', '1145,21', '280', '1317,32', '990', '911,49', '3138', '2477,64', '1678,99', '1624,72', '1000,38', '604,43', '1260,55', '1242,57', '2589,2', '1999,19', '2131,91', '3640', '1986,88', '1268,44', '958,5', '1819,26', '2660', '2064,03', '2144,77', '1395,7', '673,02', '869,26', '797,16', '1881,26', '2916,18', '4760', '4090', '1094', '2173,43', '3509,22', '42,52', '2360', '3410', '2127,1', '842,15', '1517,51', '1380', '2319,2', '965,1', '1896,24', '1400', '2009', '3620', '4956,4', '665,11', '702,23', '975', '1320', '2597,78', '2991,39', '572,22', '3860', '350', '2110', '1398,58', '1729,66', '1910', '3910', '3110', '630,49', '4263,14', '1199,15', '1740', '2750', '830,53', '502,1', '1817,57', '3377,57', '956,67', '687,11', '581,67', '824,02', '1042,41', '1731,7', '1930,47', '2910', '1970,52', '1649,37', '7530', '1598,01', '660', '640', '212,25', '1547,02', '957,4', '1601,63', '1948,62', '2750,86', '2100', '2020', '2390', '3630', '3780', '776,59', '2084,32', '3230', '1139,49', '2619,25', '1311,85', '978,56', '910,63', '1250', '776,6', '3550', '2647,9', '1065,62', '3350', '836,6', '3959', '1832,78', '3309,87', '963,12', '791,56', '1310', '7890', '2990', '380', '1325,63', '1850', '28012,2', '2154,02', '2064,82', '1620', '1119,27', '1626,16', '1010', '678,2', '698,26', '978,13', '810', '2081,36', '6041,86', '136,76', '1056,64', '2575,19', '1563,61', '3388,62', '0,98', '4320', '840,4', '4840', '1030', '1012,9', '1071,44', '2702,4', '2190', '1302,38', '3964,85', '11460', '1430', '838,09', '2202,69', '954,65', '980', '5752,98', '4770', '610', '1288,7', '690,99', '7670', '2880', '4510', '3420', '2810', '4710', '4884,95', '6160', '3539,82', '658,18', '1747,33', '2595,06', '3033,41', '732,62', '2706,39', '1870,69', '789,23', '872,81', '1727,62', '762,93', '2940,81', '9060', '2262,73', '1290', '4290', '658,42', '581,15', '2140', '5470', '2296,35', '2330', '799,09', '2563,29', '4050', '951,12', '4820', '6130', '940', '2120', '3290', '1731,06', '3900', '1095,61', '2618,78', '355,04', '1070,52', '2755,21', '4559,26', '5048,19', '2497,09', '898,77', '800', '3310', '2157,32', '2600', '3300', '2730', '18310', '1263', '8020', '1881,83', '2629,87', '1296,74', '801,8', '2429,09', '1485,15', '1686,92', '3090', '4406,5', '1338,69', '809,42', '2280', '3730', '2006,83', '1320,85', '4340', '62,46', '2474,45', '510', '2050', '2059,46', '2370', '4830', '2599,29', '657,95', '3200', '3283,1', '3870,25', '1339,99', '2441,4', '5090', '2598,9', '1590', '1375,39', '1418,86', '631', '355,55', '1606,5', '712,12', '831,2', '1190', '970', '1093,75', '4610', '2840', '1414,34', '2979,35', '2879,3', '1800', '826,64', '1006,59', '2779,29', '2780', '3890', '3101,73', '1683,49', '94,89', '2290', '1063,17', '2265,01', '2440', '340', '2539,91', '1381,12', '1110,39', '1544,95', '816,3', '2992,64', '761,74', '3820', '1507,48', '3011,18', '1819,09', '849,07', '1054,5', '1363,79', '2281,1', '2850', '4026,63', '1259,39', '5870', '2467,33', '1360', '706,5', '730', '5603,82', '1288,63', '2354,29', '300', '1780,28', '1790', '14970', '5394,29', '3172,83', '1255,29', '740', '804,32', '578,3', '2030', '14870', '859,92', '596,29', '1814,93', '2239,37', '1239,08', '854,47', '1478,49', '2539,12', '1966,99', '3768,74', '1420', '2630', '1144,98', '1365', '1650', '3860,18', '2796,66', '3099,42', '2573,8', '739,93', '4390', '1233,33', '2979,13', '5075,99', '526,94', '134,78', '5980,18', '1101,1', '1810', '5050', '2492,54', '1311,53', '3235,24', '1232,78', '2090', '891,95', '2959', '4056,11', '2309,46', '4850,2', '863,68', '0,04', '2240', '533', '3800', '4880', '1220', '1017,28', '892,18', '1677,48', '3430', '1173,46', '1599,9', '3180', '3590', '717,9', '265,55', '5401,67', '2499,82', '2252,24', '806,19', '2230', '1230', '1509,44', '642,31', '2166,82', '2090,53', '1626,75', '1179,86', '908,78', '3231,2', '2289,89', '2510', '554,36', '1347,12', '1370,25', '660,86', '2058,71', '2352,78', '2920,45', '918,7', '1090', '1094,85', '716,44', '1991,71', '3140', '710', '1113,17', '1783,55', '870', '1010,55', '1993,59', '1070', '567,51', '310', '3422,28', '2044,32', '1085,5', '1180', '4350', '956,1', '1954,4', '3013,9', '1615', '4119,97', '1253,34', '2270', '1309,89', '4758,14', '5047,5', '4210', '1924,4', '3018,62', '1520', '979,89', '727,79', '1479,11', '1128,64', '1387,3', '700', '1060', '1111,4', '1670', '5580', '2816,25', '4420', '862,43', '2119,77', '5760', '620', '717,87', '2930', '3355,19', '59,68', '5550', '1720', '1209,47', '2124,5', '1467,05', '5570', '1739,33', '3201,95', '2497', '1160', '1889,43', '2680', '1433,4', '4180', '1959,99', '1120,93', '1942,72', '1170', '3100', '714', '651,16', '6490', '1134,58', '4680', '1405,09', '1086,57', '2809,87', '1040,5', '2157,89', '930', '5900', '1896,34', '1068,72', '1817,76', '2588', '1230,63', '2640', '1186,31', '1479,51', '177,34', '811,49', '1355,12', '1760', '3639,91', '1609,47', '2782,93', '3190', '837,74', '963,96', '5650', '1088,05', '5910', '5076,65', '2503,19', '1110', '580', '665,57', '2540', '4158,85', '376,08', '919,88', '1939,61', '1272,81', '2676,24', '5100', '115,65', '327,98', '1175,57', '780', '2406,8', '991,19', '1443,3', '1519,64', '407,8', '1039,36', '1280', '367', '802,36', '1292,59', '705,6', '5320', '1771,33', '2792,33', '600,93', '1580', '1136,86', '5780', '1248,27', '827,57', '2158,72', '620,22', '1529,06', '9840', '2350', '837,48', '4070', '4084,07', '240', '446,31', '2957,71', '567,16', '524,6', '887,79', '892,95', '619,73', '1221,92', '3750', '1770', '3755,32', '625,23', '820,87', '954,34', '3840', '1840,14', '957,63', '5850', '1980,6', '586', '1918,79', '1500', '2176,36', '731,72', '1700', '766,26', '1336,38', '216,59', '1112', '896,31', '2720', '1614,36', '1798,49', '1628,45', '2960', '2890', '937,6', '2289,48', '411,43', '2201,11', '605,59', '7369,77', '3749,07', '2247,51', '918,55', '1073,54', '2160', '1270', '724,38', '2656,68', '871,07', '430', '1457,52', '1132,64', '2163,94', '450', '1930', '921,58', '2758', '5170', '1730', '2569,05', '875,2', '342,02', '1961,35', '1382,67', '1583,15', '51,8', '2010', '5040', '2900', '1980', '3626,91', '1000', '1645,64', '7490', '2258,3', '5340', '1029,75', '499,69', '735,3', '883,33', '849,91', '2142,2', '1007,8', '917,57', '670', '1851,55', '2979,57', '2379,46', '470', '460', '1340,16', '846,55', '860', '1077,03', '1255,21', '1459,34', '7060', '1530', '1480', '620,75', '2220', '818,74', '668,53', '1105,07', '680', '2751,25', '1832,91', '1459,99', '1707,5', '2651,68', '1674,3', '2064,08', '2368,84', '978,55', '3570', '1970', '1116,49', '1169,69', '699,78', '1426,72', '101,52', '4940', '833,55', '0,71', '2293,65', '1195,3', '1440', '1828,89', '1091,55', '2343,41', '549,88', '1804,9', '2375,59', '3960', '1537,71', '1145,38', '997,66', '1095,89', '87,39', '5110', '652', '1655,63', '1286,14', '2590,15', '4400', '1477,37', '1826,86', '1241,71', '1171,65', '1498,26', '1010,27', '2685,68', '1303,04', '840', '755,76', '1177,52', '1055,71', '3700', '95,79', '1120,19', '1719,72', '1100', '1450,22', '1185,5', '1370', '802,29', '1198,15', '3106,29', '269,51', '1191,65', '2261,19', '2122,45', '516,18', '2462,1', '750', '603,55', '559,94', '5160', '2970', '4729,07', '958,76', '605,32', '1890', '910', '2391,38', '647,42', '3433,42', '2263,2', '4310', '3780,1', '5410', '4120', '2736,28', '84,07', '4160', '719,25', '1873,19', '3103,84', '2530', '518,9', '866', '6180', '1231,72', '38,32', '490,88', '753,68', '3060', '2870', '1150', '826,77', '777,84', '4020', '446,3', '652,36', '821,93', '320', '1985,3', '1840', '2170', '531,65', '828,64', '1258,49', '1240', '2980', '3768,7', '6750', '3771,24', '5872,64', '2013,19', '2349,51', '4164,34', '3830', '3400', '856,64', '980,42', '2094,3', '860,22', '2500', '4060', '1745,19', '1386,14', '1597,92', '1949,8', '2080', '3530', '1539,2', '880,74', '2430', '4136,07', '1408,53', '360', '289,02', '359,3', '2902,89', '1490', '429,11', '1112,57', '4640', '823,54', '1210', '2380', '1066', '54,58', '542', '3150', '2287,02', '2081,78', '768,11', '3250', '2701,26', '1180,87', '7620', '1249,61', '1251,35', '3970', '1371,86', '950,33', '1848,05', '5108,38', '1159,18', '828,51', '3320', '6500', '850', '1671,7', '2102,75', '5500', '1429,99', '2579,43', '762,16', '5830', '1619,63', '472,11', '698', '1155,06', '2605', '3670', '3580', '366,58', '1660', '1629,58', '540', '950', '410,39', '580,49', '903,48', '1154,9', '100', '930,4', '2168,26', '869,37', '2950', '861,56', '4890', '1235,4', '5698,46', '2693,8', '400', '875,09', '4620', '535,53', '1159,06', '3127,19', '2002,45', '1053', '2410', '2786,89', '3506,07', '1965,32', '1766,2', '778,32', '2010,03', '3635,77', '390', '497,62', '1679,2', '1402,2', '820', '2890,47', '1335,47', '3075,82', '2520', '2509,38', '3470', '477', '852,48', '5140', '2700', '15110', '530', '666,41', '790', '3500', '879,74', '2200', '290,82', '2372,77', '1909,16', '1200,99', '3010', '1780', '1542,42', '3357,52', '1540', '1031,76', '1032,06', '969,59', '586,5', '1450', '768,97', '2650', '5070', '1299,55', '2641,33', '1095,88', '7790', '1350', '997,13', '3020', '658,84', '3303,2', '3760', '1098,64', '1408,32', '4920', '2732,2', '588,13', '1244,53', '673,89', '2779,4', '1154,34', '1439,94', '2830', '1739,88', '684,89', '1222,06', '2670', '1052,63', '1581,82', '1145,85', '5149,95', '920', '330', '1004,8', '1119,93', '1309,43', '480', '1775,46', '758,95', '71,71', '948,58', '758,96', '1715,7', '410,6', '1390', '1266,34', '1200', '1199,27', '1403,64', '2262,12', '1283,93', '1097,62', '664,94', '1317,12', '830,7', '749,05', '1788,46', '3720', '1169,82', '964,69', '849,19', '3594,45', '890', '1127,63', '1307,99', '1460', '1429,97', '502,2', '3165,46', '1020', '543,17', '2365,47', '4490', '1434,4', '5430', '630', '3070', '3040', '2070', '455,59', '669,48', '1144,03', '2560', '520', '3130', '979,63', '1792,71', '623,69', '3510', '3660', '1141,06', '553', '3450', '1870', '1672,88', '444', '1680', '966,53', '4190', '5300', '3863,72', '868,01', '3480', '6647,97', '2250,56', '2013,45', '1761,03', '1021,13', '1340', '574,21', '1080'}\n",
      "\n"
     ]
    }
   ],
   "source": [
    "for i in all_data.columns: # перебираем все столбцы\n",
    "    if str(all_data[i].dtype) == 'object': # если тип столбца - object\n",
    "        print(i) # выводим название столбца\n",
    "        print(set(all_data[i])) # выводим все его значения (но делаем set - чтоб значения не повторялись)\n",
    "        print() # выводим пустую строку"
   ]
  },
  {
   "cell_type": "markdown",
   "metadata": {},
   "source": [
    "можно заметить что некоторые переменные, которые обозначены как строки (например PERSONAL_INCOME) на самом деле числа,  но по какой-то (ниже увидим) причине были распознаны как строки"
   ]
  },
  {
   "cell_type": "code",
   "execution_count": 23,
   "metadata": {},
   "outputs": [
    {
     "ename": "AttributeError",
     "evalue": "'float' object has no attribute 'replace'",
     "output_type": "error",
     "traceback": [
      "\u001b[0;31m---------------------------------------------------------------------------\u001b[0m",
      "\u001b[0;31mAttributeError\u001b[0m                            Traceback (most recent call last)",
      "\u001b[0;32m<ipython-input-23-a0d3bd57b42c>\u001b[0m in \u001b[0;36m<module>\u001b[0;34m()\u001b[0m\n\u001b[0;32m----> 1\u001b[0;31m \u001b[0mall_data\u001b[0m\u001b[0;34m[\u001b[0m\u001b[0;34m'PERSONAL_INCOME'\u001b[0m\u001b[0;34m]\u001b[0m \u001b[0;34m=\u001b[0m \u001b[0mall_data\u001b[0m\u001b[0;34m[\u001b[0m\u001b[0;34m'PERSONAL_INCOME'\u001b[0m\u001b[0;34m]\u001b[0m\u001b[0;34m.\u001b[0m\u001b[0mmap\u001b[0m\u001b[0;34m(\u001b[0m\u001b[0;32mlambda\u001b[0m \u001b[0mx\u001b[0m\u001b[0;34m:\u001b[0m \u001b[0mx\u001b[0m\u001b[0;34m.\u001b[0m\u001b[0mreplace\u001b[0m\u001b[0;34m(\u001b[0m\u001b[0;34m','\u001b[0m\u001b[0;34m,\u001b[0m \u001b[0;34m'.'\u001b[0m\u001b[0;34m)\u001b[0m\u001b[0;34m)\u001b[0m\u001b[0;34m.\u001b[0m\u001b[0mastype\u001b[0m\u001b[0;34m(\u001b[0m\u001b[0;34m'float'\u001b[0m\u001b[0;34m)\u001b[0m\u001b[0;34m\u001b[0m\u001b[0m\n\u001b[0m",
      "\u001b[0;32m/usr/local/lib/python3.6/site-packages/pandas/core/series.py\u001b[0m in \u001b[0;36mmap\u001b[0;34m(self, arg, na_action)\u001b[0m\n\u001b[1;32m   2352\u001b[0m         \u001b[0;32melse\u001b[0m\u001b[0;34m:\u001b[0m\u001b[0;34m\u001b[0m\u001b[0m\n\u001b[1;32m   2353\u001b[0m             \u001b[0;31m# arg is a function\u001b[0m\u001b[0;34m\u001b[0m\u001b[0;34m\u001b[0m\u001b[0m\n\u001b[0;32m-> 2354\u001b[0;31m             \u001b[0mnew_values\u001b[0m \u001b[0;34m=\u001b[0m \u001b[0mmap_f\u001b[0m\u001b[0;34m(\u001b[0m\u001b[0mvalues\u001b[0m\u001b[0;34m,\u001b[0m \u001b[0marg\u001b[0m\u001b[0;34m)\u001b[0m\u001b[0;34m\u001b[0m\u001b[0m\n\u001b[0m\u001b[1;32m   2355\u001b[0m \u001b[0;34m\u001b[0m\u001b[0m\n\u001b[1;32m   2356\u001b[0m         return self._constructor(new_values,\n",
      "\u001b[0;32mpandas/_libs/src/inference.pyx\u001b[0m in \u001b[0;36mpandas._libs.lib.map_infer\u001b[0;34m()\u001b[0m\n",
      "\u001b[0;32m<ipython-input-23-a0d3bd57b42c>\u001b[0m in \u001b[0;36m<lambda>\u001b[0;34m(x)\u001b[0m\n\u001b[0;32m----> 1\u001b[0;31m \u001b[0mall_data\u001b[0m\u001b[0;34m[\u001b[0m\u001b[0;34m'PERSONAL_INCOME'\u001b[0m\u001b[0;34m]\u001b[0m \u001b[0;34m=\u001b[0m \u001b[0mall_data\u001b[0m\u001b[0;34m[\u001b[0m\u001b[0;34m'PERSONAL_INCOME'\u001b[0m\u001b[0;34m]\u001b[0m\u001b[0;34m.\u001b[0m\u001b[0mmap\u001b[0m\u001b[0;34m(\u001b[0m\u001b[0;32mlambda\u001b[0m \u001b[0mx\u001b[0m\u001b[0;34m:\u001b[0m \u001b[0mx\u001b[0m\u001b[0;34m.\u001b[0m\u001b[0mreplace\u001b[0m\u001b[0;34m(\u001b[0m\u001b[0;34m','\u001b[0m\u001b[0;34m,\u001b[0m \u001b[0;34m'.'\u001b[0m\u001b[0;34m)\u001b[0m\u001b[0;34m)\u001b[0m\u001b[0;34m.\u001b[0m\u001b[0mastype\u001b[0m\u001b[0;34m(\u001b[0m\u001b[0;34m'float'\u001b[0m\u001b[0;34m)\u001b[0m\u001b[0;34m\u001b[0m\u001b[0m\n\u001b[0m",
      "\u001b[0;31mAttributeError\u001b[0m: 'float' object has no attribute 'replace'"
     ]
    }
   ],
   "source": [
    "all_data['PERSONAL_INCOME'] = all_data['PERSONAL_INCOME'].map(lambda x: x.replace(',', '.')).astype('float')"
   ]
  },
  {
   "cell_type": "code",
   "execution_count": 28,
   "metadata": {},
   "outputs": [
    {
     "name": "stdout",
     "output_type": "stream",
     "text": [
      "<class 'pandas.core.frame.DataFrame'>\n",
      "RangeIndex: 30133 entries, 0 to 30132\n",
      "Data columns (total 51 columns):\n",
      "AGREEMENT_RK                  30133 non-null int64\n",
      "AGE                           30133 non-null int64\n",
      "SOCSTATUS_WORK_FL             30133 non-null int64\n",
      "SOCSTATUS_PENS_FL             30133 non-null int64\n",
      "GENDER                        30133 non-null int64\n",
      "CHILD_TOTAL                   30133 non-null int64\n",
      "DEPENDANTS                    30133 non-null int64\n",
      "EDUCATION                     30133 non-null object\n",
      "MARITAL_STATUS                30133 non-null object\n",
      "GEN_INDUSTRY                  27420 non-null object\n",
      "GEN_TITLE                     27420 non-null object\n",
      "ORG_TP_STATE                  27420 non-null object\n",
      "ORG_TP_FCAPITAL               27425 non-null object\n",
      "JOB_DIR                       27420 non-null object\n",
      "FAMILY_INCOME                 30133 non-null object\n",
      "PERSONAL_INCOME               30133 non-null float64\n",
      "REG_ADDRESS_PROVINCE          30133 non-null object\n",
      "FACT_ADDRESS_PROVINCE         30133 non-null object\n",
      "POSTAL_ADDRESS_PROVINCE       30133 non-null object\n",
      "TP_PROVINCE                   29543 non-null object\n",
      "REGION_NM                     30131 non-null object\n",
      "REG_FACT_FL                   30133 non-null int64\n",
      "FACT_POST_FL                  30133 non-null int64\n",
      "REG_POST_FL                   30133 non-null int64\n",
      "REG_FACT_POST_FL              30133 non-null int64\n",
      "REG_FACT_POST_TP_FL           30133 non-null int64\n",
      "FL_PRESENCE_FL                30133 non-null int64\n",
      "OWN_AUTO                      30133 non-null int64\n",
      "AUTO_RUS_FL                   30133 non-null int64\n",
      "HS_PRESENCE_FL                30133 non-null int64\n",
      "COT_PRESENCE_FL               30133 non-null int64\n",
      "GAR_PRESENCE_FL               30133 non-null int64\n",
      "LAND_PRESENCE_FL              30133 non-null int64\n",
      "CREDIT                        30133 non-null float64\n",
      "TERM                          30133 non-null int64\n",
      "FST_PAYMENT                   30133 non-null float64\n",
      "DL_DOCUMENT_FL                30133 non-null int64\n",
      "GPF_DOCUMENT_FL               30133 non-null int64\n",
      "FACT_LIVING_TERM              30133 non-null int64\n",
      "WORK_TIME                     27416 non-null float64\n",
      "FACT_PHONE_FL                 30133 non-null int64\n",
      "REG_PHONE_FL                  30133 non-null int64\n",
      "GEN_PHONE_FL                  30133 non-null int64\n",
      "LOAN_NUM_TOTAL                30133 non-null int64\n",
      "LOAN_NUM_CLOSED               30133 non-null int64\n",
      "LOAN_NUM_PAYM                 30133 non-null int64\n",
      "LOAN_DLQ_NUM                  30133 non-null int64\n",
      "LOAN_MAX_DLQ                  30133 non-null int64\n",
      "LOAN_AVG_DLQ_AMT              30133 non-null float64\n",
      "LOAN_MAX_DLQ_AMT              30133 non-null float64\n",
      "PREVIOUS_CARD_NUM_UTILIZED    600 non-null float64\n",
      "dtypes: float64(7), int64(31), object(13)\n",
      "memory usage: 11.7+ MB\n"
     ]
    }
   ],
   "source": [
    "all_data.info()"
   ]
  },
  {
   "cell_type": "code",
   "execution_count": null,
   "metadata": {},
   "outputs": [],
   "source": [
    "# причина же в том, что использовалась запятая для разделения не целой части числа"
   ]
  },
  {
   "cell_type": "code",
   "execution_count": 21,
   "metadata": {},
   "outputs": [],
   "source": [
    "all_data['CREDIT'] = all_data['CREDIT'].map(lambda x: x.replace(',', '.')).astype('float')\n",
    "all_data['FST_PAYMENT'] = all_data['FST_PAYMENT'].map(lambda x: x.replace(',', '.')).astype('float')\n",
    "all_data['LOAN_AVG_DLQ_AMT'] = all_data['LOAN_AVG_DLQ_AMT'].map(lambda x: x.replace(',', '.')).astype('float')\n",
    "all_data['LOAN_MAX_DLQ_AMT'] = all_data['LOAN_MAX_DLQ_AMT'].map(lambda x: x.replace(',', '.')).astype('float')"
   ]
  },
  {
   "cell_type": "code",
   "execution_count": 22,
   "metadata": {},
   "outputs": [],
   "source": [
    "# запускаем повторно код и смотрим, какие столбцы с какими строковыми значениями остались"
   ]
  },
  {
   "cell_type": "code",
   "execution_count": 29,
   "metadata": {},
   "outputs": [
    {
     "name": "stdout",
     "output_type": "stream",
     "text": [
      "EDUCATION\n",
      "{'Высшее', 'Неполное среднее', 'Среднее', 'Среднее специальное', 'Неоконченное высшее', 'Два и более высших образования', 'Ученая степень'}\n",
      "\n",
      "MARITAL_STATUS\n",
      "{'Не состоял в браке', 'Состою в браке', 'Разведен(а)', 'Гражданский брак', 'Вдовец/Вдова'}\n",
      "\n",
      "GEN_INDUSTRY\n",
      "{nan, 'Информационные технологии', 'Маркетинг', 'Другие сферы', 'Государственная служба', 'Транспорт', 'Туризм', 'Логистика', 'Развлечения/Искусство', 'Здравоохранение', 'Подбор персонала', 'Химия/Парфюмерия/Фармацевтика', 'Торговля', 'СМИ/Реклама/PR-агенства', 'Нефтегазовая промышленность', 'Информационные услуги', 'Наука', 'Сельское хозяйство', 'Образование', 'Ресторанный бизнес/Общественное питание', 'Управляющая компания', 'Салоны красоты и здоровья', 'Металлургия/Промышленность/Машиностроение', 'Страхование', 'Сборочные производства', 'Коммунальное хоз-во/Дорожные службы', 'Юридические услуги/нотариальные услуги', 'Недвижимость', 'Банк/Финансы', 'Строительство', 'ЧОП/Детективная д-ть', 'Энергетика'}\n",
      "\n",
      "GEN_TITLE\n",
      "{nan, 'Индивидуальный предприниматель', 'Военнослужащий по контракту', 'Партнер', 'Работник сферы услуг', 'Руководитель среднего звена', 'Другое', 'Руководитель низшего звена', 'Высококвалифиц. специалист', 'Специалист', 'Руководитель высшего звена', 'Рабочий', 'Служащий'}\n",
      "\n",
      "ORG_TP_STATE\n",
      "{nan, 'Государственная комп./учреж.', 'Частная компания', 'Частная ком. с инос. капиталом', 'Некоммерческая организация', 'Индивидуальный предприниматель'}\n",
      "\n",
      "ORG_TP_FCAPITAL\n",
      "{nan, 'С участием', 'Без участия'}\n",
      "\n",
      "JOB_DIR\n",
      "{nan, 'Снабжение и сбыт', 'Пр-техн. обесп. и телеком.', 'Адм-хоз. и трансп. службы', 'Бухгалтерия, финансы, планир.', 'Юридическая служба', 'Реклама и маркетинг', 'Вспомогательный техперсонал', 'Участие в основ. деятельности', 'Кадровая служба и секретариат', 'Служба безопасности'}\n",
      "\n",
      "FAMILY_INCOME\n",
      "{'свыше 50000 руб.', 'от 5000 до 10000 руб.', 'от 10000 до 20000 руб.', 'от 20000 до 50000 руб.', 'до 5000 руб.'}\n",
      "\n",
      "REG_ADDRESS_PROVINCE\n",
      "{'Тверская область', 'Магаданская область', 'Хакасия', 'Еврейская АО', 'Красноярский край', 'Псковская область', 'Пензенская область', 'Санкт-Петербург', 'Тульская область', 'Сахалинская область', 'Белгородская область', 'Чувашия', 'Воронежская область', 'Саратовская область', 'Нижегородская область', 'Карачаево-Черкесия', 'Хабаровский край', 'Кабардино-Балкария', 'Амурская область', 'Орловская область', 'Читинская область', 'Владимирская область', 'Кемеровская область', 'Калининградская область', 'Дагестан', 'Тамбовская область', 'Башкирия', 'Ленинградская область', 'Кировская область', 'Удмуртия', 'Якутия', 'Северная Осетия', 'Костромская область', 'Волгоградская область', 'Приморский край', 'Астраханская область', 'Эвенкийский АО', 'Новгородская область', 'Коми-Пермяцкий АО', 'Краснодарский край', 'Ямало-Ненецкий АО', 'Алтайский край', 'Калмыкия', 'Курганская область', 'Липецкая область', 'Иркутская область', 'Ростовская область', 'Рязанская область', 'Смоленская область', 'Москва', 'Ярославская область', 'Ставропольский край', 'Челябинская область', 'Свердловская область', 'Калужская область', 'Брянская область', 'Архангельская область', 'Вологодская область', 'Бурятия', 'Марийская республика', 'Усть-Ордынский Бурятский АО', 'Ханты-Мансийский АО', 'Московская область', 'Мордовская республика', 'Карелия', 'Омская область', 'Коми', 'Ульяновская область', 'Камчатская область', 'Новосибирская область', 'Курская область', 'Самарская область', 'Ивановская область', 'Пермская область', 'Тюменская область', 'Агинский Бурятский АО', 'Оренбургская область', 'Адыгея', 'Томская область', 'Татарстан', 'Мурманская область', 'Горный Алтай'}\n",
      "\n",
      "FACT_ADDRESS_PROVINCE\n",
      "{'Тверская область', 'Магаданская область', 'Хакасия', 'Еврейская АО', 'Красноярский край', 'Псковская область', 'Пензенская область', 'Санкт-Петербург', 'Тульская область', 'Сахалинская область', 'Белгородская область', 'Чувашия', 'Воронежская область', 'Саратовская область', 'Нижегородская область', 'Карачаево-Черкесия', 'Чечня', 'Хабаровский край', 'Кабардино-Балкария', 'Амурская область', 'Орловская область', 'Читинская область', 'Владимирская область', 'Кемеровская область', 'Калининградская область', 'Дагестан', 'Тамбовская область', 'Башкирия', 'Ленинградская область', 'Кировская область', 'Удмуртия', 'Якутия', 'Северная Осетия', 'Костромская область', 'Волгоградская область', 'Приморский край', 'Астраханская область', 'Эвенкийский АО', 'Новгородская область', 'Коми-Пермяцкий АО', 'Краснодарский край', 'Ямало-Ненецкий АО', 'Алтайский край', 'Калмыкия', 'Курганская область', 'Липецкая область', 'Иркутская область', 'Ростовская область', 'Рязанская область', 'Смоленская область', 'Москва', 'Ярославская область', 'Ставропольский край', 'Челябинская область', 'Свердловская область', 'Калужская область', 'Брянская область', 'Архангельская область', 'Вологодская область', 'Бурятия', 'Марийская республика', 'Усть-Ордынский Бурятский АО', 'Ханты-Мансийский АО', 'Московская область', 'Мордовская республика', 'Карелия', 'Омская область', 'Коми', 'Ульяновская область', 'Камчатская область', 'Новосибирская область', 'Курская область', 'Самарская область', 'Ивановская область', 'Пермская область', 'Тюменская область', 'Агинский Бурятский АО', 'Оренбургская область', 'Адыгея', 'Томская область', 'Татарстан', 'Мурманская область', 'Горный Алтай'}\n",
      "\n",
      "POSTAL_ADDRESS_PROVINCE\n",
      "{'Тверская область', 'Магаданская область', 'Хакасия', 'Еврейская АО', 'Красноярский край', 'Псковская область', 'Пензенская область', 'Санкт-Петербург', 'Тульская область', 'Сахалинская область', 'Белгородская область', 'Чувашия', 'Воронежская область', 'Саратовская область', 'Нижегородская область', 'Карачаево-Черкесия', 'Хабаровский край', 'Кабардино-Балкария', 'Амурская область', 'Орловская область', 'Читинская область', 'Владимирская область', 'Кемеровская область', 'Калининградская область', 'Дагестан', 'Тамбовская область', 'Башкирия', 'Ленинградская область', 'Кировская область', 'Удмуртия', 'Якутия', 'Северная Осетия', 'Костромская область', 'Волгоградская область', 'Приморский край', 'Астраханская область', 'Эвенкийский АО', 'Новгородская область', 'Коми-Пермяцкий АО', 'Краснодарский край', 'Ямало-Ненецкий АО', 'Алтайский край', 'Калмыкия', 'Курганская область', 'Липецкая область', 'Иркутская область', 'Ростовская область', 'Рязанская область', 'Смоленская область', 'Москва', 'Ярославская область', 'Ставропольский край', 'Челябинская область', 'Свердловская область', 'Калужская область', 'Брянская область', 'Архангельская область', 'Вологодская область', 'Бурятия', 'Марийская республика', 'Усть-Ордынский Бурятский АО', 'Ханты-Мансийский АО', 'Московская область', 'Мордовская республика', 'Карелия', 'Омская область', 'Коми', 'Ульяновская область', 'Камчатская область', 'Новосибирская область', 'Курская область', 'Самарская область', 'Ивановская область', 'Пермская область', 'Тюменская область', 'Агинский Бурятский АО', 'Оренбургская область', 'Адыгея', 'Томская область', 'Татарстан', 'Мурманская область', 'Горный Алтай'}\n",
      "\n",
      "TP_PROVINCE\n",
      "{'Тверская область', 'Магаданская область', nan, 'Еврейская АО', 'Красноярский край', 'Псковская область', 'Пензенская область', 'Санкт-Петербург', 'Тульская область', 'Сахалинская область', 'Белгородская область', 'Чувашия', 'Воронежская область', 'Саратовская область', 'Нижегородская область', 'Хабаровский край', 'Амурская область', 'Орловская область', 'Калининградская область', 'Читинская область', 'Владимирская область', 'Кемеровская область', 'Кабардино-Балкария', 'Тамбовская область', 'Башкирия', 'Кировская область', 'Удмуртия', 'Якутия', 'Костромская область', 'Волгоградская область', 'Приморский край', 'Астраханская область', 'Новгородская область', 'Краснодарский край', 'Алтайский край', 'Курганская область', 'Липецкая область', 'Иркутская область', 'Ростовская область', 'Рязанская область', 'Смоленская область', 'Москва', 'Ярославская область', 'Ставропольский край', 'Челябинская область', 'Свердловская область', 'Калужская область', 'Брянская область', 'Архангельская область', 'Вологодская область', 'Бурятия', 'Марийская республика', 'Ханты-Мансийский АО', 'Мордовская республика', 'Карелия', 'Омская область', 'Коми', 'Ульяновская область', 'Камчатская область', 'Новосибирская область', 'Курская область', 'Самарская область', 'Ивановская область', 'Пермская область', 'Тюменская область', 'Оренбургская область', 'Адыгея', 'Томская область', 'Татарстан', 'Мурманская область', 'Горный Алтай'}\n",
      "\n",
      "REGION_NM\n",
      "{'ЦЕНТРАЛЬНЫЙ ОФИС', nan, 'ЮЖНЫЙ', 'УРАЛЬСКИЙ', 'ПОВОЛЖСКИЙ', 'ЦЕНТРАЛЬНЫЙ 2', 'СЕВЕРО-ЗАПАДНЫЙ', 'ПРИВОЛЖСКИЙ', 'ЦЕНТРАЛЬНЫЙ 1', 'ЗАПАДНО-СИБИРСКИЙ', 'ВОСТОЧНО-СИБИРСКИЙ', 'ДАЛЬНЕВОСТОЧНЫЙ'}\n",
      "\n"
     ]
    }
   ],
   "source": [
    "for i in all_data.columns:\n",
    "    if str(all_data[i].dtype) == 'object':\n",
    "        print(i)\n",
    "        print(set(all_data[i]))\n",
    "        print()"
   ]
  },
  {
   "cell_type": "markdown",
   "metadata": {},
   "source": [
    "# Данные готовы, теперь вам предлагается начать решать задачу"
   ]
  },
  {
   "cell_type": "code",
   "execution_count": 30,
   "metadata": {},
   "outputs": [
    {
     "name": "stdout",
     "output_type": "stream",
     "text": [
      "<class 'pandas.core.frame.DataFrame'>\n",
      "RangeIndex: 30133 entries, 0 to 30132\n",
      "Data columns (total 51 columns):\n",
      "AGREEMENT_RK                  30133 non-null int64\n",
      "AGE                           30133 non-null int64\n",
      "SOCSTATUS_WORK_FL             30133 non-null int64\n",
      "SOCSTATUS_PENS_FL             30133 non-null int64\n",
      "GENDER                        30133 non-null int64\n",
      "CHILD_TOTAL                   30133 non-null int64\n",
      "DEPENDANTS                    30133 non-null int64\n",
      "EDUCATION                     30133 non-null object\n",
      "MARITAL_STATUS                30133 non-null object\n",
      "GEN_INDUSTRY                  27420 non-null object\n",
      "GEN_TITLE                     27420 non-null object\n",
      "ORG_TP_STATE                  27420 non-null object\n",
      "ORG_TP_FCAPITAL               27425 non-null object\n",
      "JOB_DIR                       27420 non-null object\n",
      "FAMILY_INCOME                 30133 non-null object\n",
      "PERSONAL_INCOME               30133 non-null float64\n",
      "REG_ADDRESS_PROVINCE          30133 non-null object\n",
      "FACT_ADDRESS_PROVINCE         30133 non-null object\n",
      "POSTAL_ADDRESS_PROVINCE       30133 non-null object\n",
      "TP_PROVINCE                   29543 non-null object\n",
      "REGION_NM                     30131 non-null object\n",
      "REG_FACT_FL                   30133 non-null int64\n",
      "FACT_POST_FL                  30133 non-null int64\n",
      "REG_POST_FL                   30133 non-null int64\n",
      "REG_FACT_POST_FL              30133 non-null int64\n",
      "REG_FACT_POST_TP_FL           30133 non-null int64\n",
      "FL_PRESENCE_FL                30133 non-null int64\n",
      "OWN_AUTO                      30133 non-null int64\n",
      "AUTO_RUS_FL                   30133 non-null int64\n",
      "HS_PRESENCE_FL                30133 non-null int64\n",
      "COT_PRESENCE_FL               30133 non-null int64\n",
      "GAR_PRESENCE_FL               30133 non-null int64\n",
      "LAND_PRESENCE_FL              30133 non-null int64\n",
      "CREDIT                        30133 non-null float64\n",
      "TERM                          30133 non-null int64\n",
      "FST_PAYMENT                   30133 non-null float64\n",
      "DL_DOCUMENT_FL                30133 non-null int64\n",
      "GPF_DOCUMENT_FL               30133 non-null int64\n",
      "FACT_LIVING_TERM              30133 non-null int64\n",
      "WORK_TIME                     27416 non-null float64\n",
      "FACT_PHONE_FL                 30133 non-null int64\n",
      "REG_PHONE_FL                  30133 non-null int64\n",
      "GEN_PHONE_FL                  30133 non-null int64\n",
      "LOAN_NUM_TOTAL                30133 non-null int64\n",
      "LOAN_NUM_CLOSED               30133 non-null int64\n",
      "LOAN_NUM_PAYM                 30133 non-null int64\n",
      "LOAN_DLQ_NUM                  30133 non-null int64\n",
      "LOAN_MAX_DLQ                  30133 non-null int64\n",
      "LOAN_AVG_DLQ_AMT              30133 non-null float64\n",
      "LOAN_MAX_DLQ_AMT              30133 non-null float64\n",
      "PREVIOUS_CARD_NUM_UTILIZED    600 non-null float64\n",
      "dtypes: float64(7), int64(31), object(13)\n",
      "memory usage: 11.7+ MB\n"
     ]
    }
   ],
   "source": [
    "# Есть ли пропуски в данных? что с ними сделать?\n",
    "\n",
    "all_data.info()"
   ]
  },
  {
   "cell_type": "markdown",
   "metadata": {},
   "source": [
    "--------------\n",
    "Для части признаков данные не полные: \n",
    "GEN_INDUSTRY, GEN_TITLE, ORG_TP_STATE, ORG_TP_FCAPITAL, JOB_DIR и TP_PROVINCE — это строковые переменные,\n",
    "WORK_TIME — числовая переменная\n",
    "\n",
    "Время работы на последнем месте WORK_TIME — можно заменить пропуски на среднее значение (мода, медиана).\n",
    "Так же можно заменить на среднее значение в группе. В качестве гипотезы, время работы на одном месте может зависеть от отрасли, от занимаемой должности, от среднего дохода. Вполне могут быть отрасли с высокой «текучкой» (например, розничная торговля), могут быть должности с высокой «текучкой» и можно предположить, что чем выше доход, тем дольше время работы на одном месте. \n",
    "\n",
    "Есть одно «но» — для восстановления данных нам нужна переменная с полными даными, можем использовать пол (GENDER), образование (EDUCATION) или уровень дохода семьи (FAMILY_INCOME)."
   ]
  },
  {
   "cell_type": "code",
   "execution_count": 40,
   "metadata": {},
   "outputs": [
    {
     "data": {
      "text/html": [
       "<div>\n",
       "<style scoped>\n",
       "    .dataframe tbody tr th:only-of-type {\n",
       "        vertical-align: middle;\n",
       "    }\n",
       "\n",
       "    .dataframe tbody tr th {\n",
       "        vertical-align: top;\n",
       "    }\n",
       "\n",
       "    .dataframe thead th {\n",
       "        text-align: right;\n",
       "    }\n",
       "</style>\n",
       "<table border=\"1\" class=\"dataframe\">\n",
       "  <thead>\n",
       "    <tr style=\"text-align: right;\">\n",
       "      <th></th>\n",
       "      <th>WORK_TIME</th>\n",
       "    </tr>\n",
       "    <tr>\n",
       "      <th>FAMILY_INCOME</th>\n",
       "      <th></th>\n",
       "    </tr>\n",
       "  </thead>\n",
       "  <tbody>\n",
       "    <tr>\n",
       "      <th>до 5000 руб.</th>\n",
       "      <td>58.981481</td>\n",
       "    </tr>\n",
       "    <tr>\n",
       "      <th>от 10000 до 20000 руб.</th>\n",
       "      <td>85.066629</td>\n",
       "    </tr>\n",
       "    <tr>\n",
       "      <th>от 20000 до 50000 руб.</th>\n",
       "      <td>334.147793</td>\n",
       "    </tr>\n",
       "    <tr>\n",
       "      <th>от 5000 до 10000 руб.</th>\n",
       "      <td>79.120493</td>\n",
       "    </tr>\n",
       "    <tr>\n",
       "      <th>свыше 50000 руб.</th>\n",
       "      <td>81.656639</td>\n",
       "    </tr>\n",
       "  </tbody>\n",
       "</table>\n",
       "</div>"
      ],
      "text/plain": [
       "                         WORK_TIME\n",
       "FAMILY_INCOME                     \n",
       "до 5000 руб.             58.981481\n",
       "от 10000 до 20000 руб.   85.066629\n",
       "от 20000 до 50000 руб.  334.147793\n",
       "от 5000 до 10000 руб.    79.120493\n",
       "свыше 50000 руб.         81.656639"
      ]
     },
     "execution_count": 40,
     "metadata": {},
     "output_type": "execute_result"
    }
   ],
   "source": [
    "# проверим эту гипотезу\n",
    "\n",
    "all_data[['FAMILY_INCOME', 'WORK_TIME']].groupby('FAMILY_INCOME').mean()"
   ]
  },
  {
   "cell_type": "code",
   "execution_count": 41,
   "metadata": {},
   "outputs": [
    {
     "data": {
      "text/html": [
       "<div>\n",
       "<style scoped>\n",
       "    .dataframe tbody tr th:only-of-type {\n",
       "        vertical-align: middle;\n",
       "    }\n",
       "\n",
       "    .dataframe tbody tr th {\n",
       "        vertical-align: top;\n",
       "    }\n",
       "\n",
       "    .dataframe thead th {\n",
       "        text-align: right;\n",
       "    }\n",
       "</style>\n",
       "<table border=\"1\" class=\"dataframe\">\n",
       "  <thead>\n",
       "    <tr style=\"text-align: right;\">\n",
       "      <th></th>\n",
       "      <th>WORK_TIME</th>\n",
       "    </tr>\n",
       "    <tr>\n",
       "      <th>FAMILY_INCOME</th>\n",
       "      <th></th>\n",
       "    </tr>\n",
       "  </thead>\n",
       "  <tbody>\n",
       "    <tr>\n",
       "      <th>до 5000 руб.</th>\n",
       "      <td>26.0</td>\n",
       "    </tr>\n",
       "    <tr>\n",
       "      <th>от 10000 до 20000 руб.</th>\n",
       "      <td>48.0</td>\n",
       "    </tr>\n",
       "    <tr>\n",
       "      <th>от 20000 до 50000 руб.</th>\n",
       "      <td>48.0</td>\n",
       "    </tr>\n",
       "    <tr>\n",
       "      <th>от 5000 до 10000 руб.</th>\n",
       "      <td>38.0</td>\n",
       "    </tr>\n",
       "    <tr>\n",
       "      <th>свыше 50000 руб.</th>\n",
       "      <td>50.0</td>\n",
       "    </tr>\n",
       "  </tbody>\n",
       "</table>\n",
       "</div>"
      ],
      "text/plain": [
       "                        WORK_TIME\n",
       "FAMILY_INCOME                    \n",
       "до 5000 руб.                 26.0\n",
       "от 10000 до 20000 руб.       48.0\n",
       "от 20000 до 50000 руб.       48.0\n",
       "от 5000 до 10000 руб.        38.0\n",
       "свыше 50000 руб.             50.0"
      ]
     },
     "execution_count": 41,
     "metadata": {},
     "output_type": "execute_result"
    }
   ],
   "source": [
    "# В принципе, зависимость есть. \n",
    "# По крайней мере, среднее значение у семей с доходами до 5000 ₽ и от 20000 до 50000 ₽ отлчаются от остальных\n",
    "# посчитаем еще медиану\n",
    "\n",
    "all_data[['FAMILY_INCOME', 'WORK_TIME']].groupby('FAMILY_INCOME').median()"
   ]
  },
  {
   "cell_type": "code",
   "execution_count": 42,
   "metadata": {},
   "outputs": [
    {
     "data": {
      "text/html": [
       "<div>\n",
       "<style scoped>\n",
       "    .dataframe tbody tr th:only-of-type {\n",
       "        vertical-align: middle;\n",
       "    }\n",
       "\n",
       "    .dataframe tbody tr th {\n",
       "        vertical-align: top;\n",
       "    }\n",
       "\n",
       "    .dataframe thead th {\n",
       "        text-align: right;\n",
       "    }\n",
       "</style>\n",
       "<table border=\"1\" class=\"dataframe\">\n",
       "  <thead>\n",
       "    <tr style=\"text-align: right;\">\n",
       "      <th></th>\n",
       "      <th>WORK_TIME</th>\n",
       "    </tr>\n",
       "    <tr>\n",
       "      <th>GENDER</th>\n",
       "      <th></th>\n",
       "    </tr>\n",
       "  </thead>\n",
       "  <tbody>\n",
       "    <tr>\n",
       "      <th>0</th>\n",
       "      <td>71.814864</td>\n",
       "    </tr>\n",
       "    <tr>\n",
       "      <th>1</th>\n",
       "      <td>255.472753</td>\n",
       "    </tr>\n",
       "  </tbody>\n",
       "</table>\n",
       "</div>"
      ],
      "text/plain": [
       "         WORK_TIME\n",
       "GENDER            \n",
       "0        71.814864\n",
       "1       255.472753"
      ]
     },
     "execution_count": 42,
     "metadata": {},
     "output_type": "execute_result"
    }
   ],
   "source": [
    "# теперь для пола\n",
    "\n",
    "all_data[['GENDER', 'WORK_TIME']].groupby('GENDER').mean()"
   ]
  },
  {
   "cell_type": "code",
   "execution_count": 43,
   "metadata": {},
   "outputs": [
    {
     "data": {
      "text/html": [
       "<div>\n",
       "<style scoped>\n",
       "    .dataframe tbody tr th:only-of-type {\n",
       "        vertical-align: middle;\n",
       "    }\n",
       "\n",
       "    .dataframe tbody tr th {\n",
       "        vertical-align: top;\n",
       "    }\n",
       "\n",
       "    .dataframe thead th {\n",
       "        text-align: right;\n",
       "    }\n",
       "</style>\n",
       "<table border=\"1\" class=\"dataframe\">\n",
       "  <thead>\n",
       "    <tr style=\"text-align: right;\">\n",
       "      <th></th>\n",
       "      <th>WORK_TIME</th>\n",
       "    </tr>\n",
       "    <tr>\n",
       "      <th>GENDER</th>\n",
       "      <th></th>\n",
       "    </tr>\n",
       "  </thead>\n",
       "  <tbody>\n",
       "    <tr>\n",
       "      <th>0</th>\n",
       "      <td>42.0</td>\n",
       "    </tr>\n",
       "    <tr>\n",
       "      <th>1</th>\n",
       "      <td>50.0</td>\n",
       "    </tr>\n",
       "  </tbody>\n",
       "</table>\n",
       "</div>"
      ],
      "text/plain": [
       "        WORK_TIME\n",
       "GENDER           \n",
       "0            42.0\n",
       "1            50.0"
      ]
     },
     "execution_count": 43,
     "metadata": {},
     "output_type": "execute_result"
    }
   ],
   "source": [
    "all_data[['GENDER', 'WORK_TIME']].groupby('GENDER').median()"
   ]
  },
  {
   "cell_type": "code",
   "execution_count": 44,
   "metadata": {},
   "outputs": [
    {
     "data": {
      "text/html": [
       "<div>\n",
       "<style scoped>\n",
       "    .dataframe tbody tr th:only-of-type {\n",
       "        vertical-align: middle;\n",
       "    }\n",
       "\n",
       "    .dataframe tbody tr th {\n",
       "        vertical-align: top;\n",
       "    }\n",
       "\n",
       "    .dataframe thead th {\n",
       "        text-align: right;\n",
       "    }\n",
       "</style>\n",
       "<table border=\"1\" class=\"dataframe\">\n",
       "  <thead>\n",
       "    <tr style=\"text-align: right;\">\n",
       "      <th></th>\n",
       "      <th>WORK_TIME</th>\n",
       "    </tr>\n",
       "    <tr>\n",
       "      <th>EDUCATION</th>\n",
       "      <th></th>\n",
       "    </tr>\n",
       "  </thead>\n",
       "  <tbody>\n",
       "    <tr>\n",
       "      <th>Высшее</th>\n",
       "      <td>86.474545</td>\n",
       "    </tr>\n",
       "    <tr>\n",
       "      <th>Два и более высших образования</th>\n",
       "      <td>80.320000</td>\n",
       "    </tr>\n",
       "    <tr>\n",
       "      <th>Неоконченное высшее</th>\n",
       "      <td>47.783732</td>\n",
       "    </tr>\n",
       "    <tr>\n",
       "      <th>Неполное среднее</th>\n",
       "      <td>71.544469</td>\n",
       "    </tr>\n",
       "    <tr>\n",
       "      <th>Среднее</th>\n",
       "      <td>89.671432</td>\n",
       "    </tr>\n",
       "    <tr>\n",
       "      <th>Среднее специальное</th>\n",
       "      <td>328.848085</td>\n",
       "    </tr>\n",
       "    <tr>\n",
       "      <th>Ученая степень</th>\n",
       "      <td>204.400000</td>\n",
       "    </tr>\n",
       "  </tbody>\n",
       "</table>\n",
       "</div>"
      ],
      "text/plain": [
       "                                 WORK_TIME\n",
       "EDUCATION                                 \n",
       "Высшее                           86.474545\n",
       "Два и более высших образования   80.320000\n",
       "Неоконченное высшее              47.783732\n",
       "Неполное среднее                 71.544469\n",
       "Среднее                          89.671432\n",
       "Среднее специальное             328.848085\n",
       "Ученая степень                  204.400000"
      ]
     },
     "execution_count": 44,
     "metadata": {},
     "output_type": "execute_result"
    }
   ],
   "source": [
    "# теперь для образования\n",
    "\n",
    "all_data[['EDUCATION', 'WORK_TIME']].groupby('EDUCATION').mean()"
   ]
  },
  {
   "cell_type": "code",
   "execution_count": 45,
   "metadata": {},
   "outputs": [
    {
     "data": {
      "text/html": [
       "<div>\n",
       "<style scoped>\n",
       "    .dataframe tbody tr th:only-of-type {\n",
       "        vertical-align: middle;\n",
       "    }\n",
       "\n",
       "    .dataframe tbody tr th {\n",
       "        vertical-align: top;\n",
       "    }\n",
       "\n",
       "    .dataframe thead th {\n",
       "        text-align: right;\n",
       "    }\n",
       "</style>\n",
       "<table border=\"1\" class=\"dataframe\">\n",
       "  <thead>\n",
       "    <tr style=\"text-align: right;\">\n",
       "      <th></th>\n",
       "      <th>WORK_TIME</th>\n",
       "    </tr>\n",
       "    <tr>\n",
       "      <th>EDUCATION</th>\n",
       "      <th></th>\n",
       "    </tr>\n",
       "  </thead>\n",
       "  <tbody>\n",
       "    <tr>\n",
       "      <th>Высшее</th>\n",
       "      <td>50.0</td>\n",
       "    </tr>\n",
       "    <tr>\n",
       "      <th>Два и более высших образования</th>\n",
       "      <td>51.5</td>\n",
       "    </tr>\n",
       "    <tr>\n",
       "      <th>Неоконченное высшее</th>\n",
       "      <td>33.0</td>\n",
       "    </tr>\n",
       "    <tr>\n",
       "      <th>Неполное среднее</th>\n",
       "      <td>36.0</td>\n",
       "    </tr>\n",
       "    <tr>\n",
       "      <th>Среднее</th>\n",
       "      <td>51.5</td>\n",
       "    </tr>\n",
       "    <tr>\n",
       "      <th>Среднее специальное</th>\n",
       "      <td>48.0</td>\n",
       "    </tr>\n",
       "    <tr>\n",
       "      <th>Ученая степень</th>\n",
       "      <td>168.0</td>\n",
       "    </tr>\n",
       "  </tbody>\n",
       "</table>\n",
       "</div>"
      ],
      "text/plain": [
       "                                WORK_TIME\n",
       "EDUCATION                                \n",
       "Высшее                               50.0\n",
       "Два и более высших образования       51.5\n",
       "Неоконченное высшее                  33.0\n",
       "Неполное среднее                     36.0\n",
       "Среднее                              51.5\n",
       "Среднее специальное                  48.0\n",
       "Ученая степень                      168.0"
      ]
     },
     "execution_count": 45,
     "metadata": {},
     "output_type": "execute_result"
    }
   ],
   "source": [
    "all_data[['EDUCATION', 'WORK_TIME']].groupby('EDUCATION').median()"
   ]
  },
  {
   "cell_type": "code",
   "execution_count": 47,
   "metadata": {},
   "outputs": [
    {
     "data": {
      "text/html": [
       "<div>\n",
       "<style scoped>\n",
       "    .dataframe tbody tr th:only-of-type {\n",
       "        vertical-align: middle;\n",
       "    }\n",
       "\n",
       "    .dataframe tbody tr th {\n",
       "        vertical-align: top;\n",
       "    }\n",
       "\n",
       "    .dataframe thead th {\n",
       "        text-align: right;\n",
       "    }\n",
       "</style>\n",
       "<table border=\"1\" class=\"dataframe\">\n",
       "  <thead>\n",
       "    <tr style=\"text-align: right;\">\n",
       "      <th></th>\n",
       "      <th>WORK_TIME</th>\n",
       "    </tr>\n",
       "    <tr>\n",
       "      <th>EDUCATION</th>\n",
       "      <th></th>\n",
       "    </tr>\n",
       "  </thead>\n",
       "  <tbody>\n",
       "    <tr>\n",
       "      <th>Высшее</th>\n",
       "      <td>50.0</td>\n",
       "    </tr>\n",
       "    <tr>\n",
       "      <th>Два и более высших образования</th>\n",
       "      <td>51.5</td>\n",
       "    </tr>\n",
       "    <tr>\n",
       "      <th>Неоконченное высшее</th>\n",
       "      <td>33.0</td>\n",
       "    </tr>\n",
       "    <tr>\n",
       "      <th>Неполное среднее</th>\n",
       "      <td>36.0</td>\n",
       "    </tr>\n",
       "    <tr>\n",
       "      <th>Среднее</th>\n",
       "      <td>51.5</td>\n",
       "    </tr>\n",
       "    <tr>\n",
       "      <th>Среднее специальное</th>\n",
       "      <td>48.0</td>\n",
       "    </tr>\n",
       "    <tr>\n",
       "      <th>Ученая степень</th>\n",
       "      <td>168.0</td>\n",
       "    </tr>\n",
       "  </tbody>\n",
       "</table>\n",
       "</div>"
      ],
      "text/plain": [
       "                                WORK_TIME\n",
       "EDUCATION                                \n",
       "Высшее                               50.0\n",
       "Два и более высших образования       51.5\n",
       "Неоконченное высшее                  33.0\n",
       "Неполное среднее                     36.0\n",
       "Среднее                              51.5\n",
       "Среднее специальное                  48.0\n",
       "Ученая степень                      168.0"
      ]
     },
     "execution_count": 47,
     "metadata": {},
     "output_type": "execute_result"
    }
   ],
   "source": [
    "all_data[['EDUCATION', 'WORK_TIME']].groupby('EDUCATION').median()"
   ]
  },
  {
   "cell_type": "code",
   "execution_count": 48,
   "metadata": {},
   "outputs": [],
   "source": [
    "edu_work = all_data[['EDUCATION', 'WORK_TIME']].groupby('EDUCATION').median()"
   ]
  },
  {
   "cell_type": "code",
   "execution_count": 54,
   "metadata": {},
   "outputs": [
    {
     "data": {
      "text/plain": [
       "50.0"
      ]
     },
     "execution_count": 54,
     "metadata": {},
     "output_type": "execute_result"
    }
   ],
   "source": [
    "float(edu_work.loc['Высшее'])"
   ]
  },
  {
   "cell_type": "code",
   "execution_count": 69,
   "metadata": {},
   "outputs": [
    {
     "name": "stderr",
     "output_type": "stream",
     "text": [
      "/usr/local/lib/python3.6/site-packages/pandas/core/indexing.py:194: SettingWithCopyWarning: \n",
      "A value is trying to be set on a copy of a slice from a DataFrame\n",
      "\n",
      "See the caveats in the documentation: http://pandas.pydata.org/pandas-docs/stable/indexing.html#indexing-view-versus-copy\n",
      "  self._setitem_with_indexer(indexer, value)\n"
     ]
    }
   ],
   "source": [
    "# Заполним пропущенные значения медианами, полученными для образования\n",
    "\n",
    "all_data['WORK_TIME'].loc[all_data['EDUCATION'] == 'Высшее'] = all_data['WORK_TIME'].loc[all_data['EDUCATION'] == 'Высшее'].fillna(float(edu_work.loc['Высшее']))"
   ]
  },
  {
   "cell_type": "code",
   "execution_count": 67,
   "metadata": {},
   "outputs": [
    {
     "name": "stdout",
     "output_type": "stream",
     "text": [
      "Высшее\n",
      "Два и более высших образования\n",
      "Неоконченное высшее\n",
      "Неполное среднее\n",
      "Среднее\n",
      "Среднее специальное\n",
      "Ученая степень\n"
     ]
    }
   ],
   "source": [
    "# как получить список значений и медиан из edu_work?\n",
    "\n",
    "for index in edu_work.index:\n",
    "    print(index)"
   ]
  },
  {
   "cell_type": "code",
   "execution_count": 68,
   "metadata": {},
   "outputs": [
    {
     "name": "stdout",
     "output_type": "stream",
     "text": [
      "50.0\n",
      "51.5\n",
      "33.0\n",
      "36.0\n",
      "51.5\n",
      "48.0\n",
      "168.0\n"
     ]
    }
   ],
   "source": [
    "for index in edu_work.index:\n",
    "    print(float(edu_work.loc[index]))"
   ]
  },
  {
   "cell_type": "code",
   "execution_count": 70,
   "metadata": {},
   "outputs": [
    {
     "name": "stderr",
     "output_type": "stream",
     "text": [
      "/usr/local/lib/python3.6/site-packages/pandas/core/indexing.py:194: SettingWithCopyWarning: \n",
      "A value is trying to be set on a copy of a slice from a DataFrame\n",
      "\n",
      "See the caveats in the documentation: http://pandas.pydata.org/pandas-docs/stable/indexing.html#indexing-view-versus-copy\n",
      "  self._setitem_with_indexer(indexer, value)\n"
     ]
    }
   ],
   "source": [
    "for index in edu_work.index:\n",
    "    all_data['WORK_TIME'].loc[all_data['EDUCATION'] == index] = all_data['WORK_TIME'].loc[all_data['EDUCATION'] == index].fillna(float(edu_work.loc[index]))"
   ]
  },
  {
   "cell_type": "markdown",
   "metadata": {},
   "source": [
    "## Как поступить со строковыми переменными?\n",
    "\n",
    "Можно заменить на новое значение переменно none = mission (miss_)\n",
    "\n",
    "Как вариант — найти объекты, наиболее похожие на те, что с пропусками, и взять недостающие переменные из них\n",
    "\n",
    "для TP_PROVINCE можно высказать преположение, что чаще всего человек берет кредиты по месту пребывания. \n",
    "Проверим число совпадений TP_PROVINCE и FACT_ADDRESS_PROVINCE, \n",
    "и если оно высокое заполним TP_PROVINCE значениями из FACT_ADDRESS_PROVINCE."
   ]
  },
  {
   "cell_type": "code",
   "execution_count": 75,
   "metadata": {
    "scrolled": true
   },
   "outputs": [
    {
     "name": "stdout",
     "output_type": "stream",
     "text": [
      "0         True\n",
      "1        False\n",
      "2         True\n",
      "3         True\n",
      "4        False\n",
      "5         True\n",
      "6         True\n",
      "7         True\n",
      "8         True\n",
      "9         True\n",
      "10        True\n",
      "11        True\n",
      "12        True\n",
      "13        True\n",
      "14        True\n",
      "15        True\n",
      "16        True\n",
      "17        True\n",
      "18        True\n",
      "19        True\n",
      "20        True\n",
      "21        True\n",
      "22        True\n",
      "23        True\n",
      "24        True\n",
      "25        True\n",
      "26        True\n",
      "27        True\n",
      "28       False\n",
      "29        True\n",
      "         ...  \n",
      "30103     True\n",
      "30104     True\n",
      "30105     True\n",
      "30106     True\n",
      "30107     True\n",
      "30108     True\n",
      "30109     True\n",
      "30110     True\n",
      "30111     True\n",
      "30112     True\n",
      "30113     True\n",
      "30114     True\n",
      "30115     True\n",
      "30116     True\n",
      "30117    False\n",
      "30118     True\n",
      "30119     True\n",
      "30120     True\n",
      "30121     True\n",
      "30122     True\n",
      "30123    False\n",
      "30124     True\n",
      "30125     True\n",
      "30126     True\n",
      "30127     True\n",
      "30128     True\n",
      "30129     True\n",
      "30130     True\n",
      "30131     True\n",
      "30132     True\n",
      "Length: 29543, dtype: bool\n"
     ]
    }
   ],
   "source": [
    "tp_fact = all_data['TP_PROVINCE'].loc[all_data['TP_PROVINCE'].notnull()] == all_data['FACT_ADDRESS_PROVINCE'].loc[all_data['TP_PROVINCE'].notnull()]\n",
    "print(tp_fact)"
   ]
  },
  {
   "cell_type": "code",
   "execution_count": 76,
   "metadata": {},
   "outputs": [
    {
     "data": {
      "text/plain": [
       "0.9300341874555732"
      ]
     },
     "execution_count": 76,
     "metadata": {},
     "output_type": "execute_result"
    }
   ],
   "source": [
    "# видно, что значения не совпадают\n",
    "# сосчитаем долю совпадений\n",
    "\n",
    "sum(tp_fact) / len(tp_fact)"
   ]
  },
  {
   "cell_type": "code",
   "execution_count": null,
   "metadata": {},
   "outputs": [],
   "source": [
    "# В семи процентах случаях нет совпадения. \n",
    "# Разница может оказаться существенной и именно факт того, что место проживания и место последнего \n",
    "# кредитования не совпдают может влиять на целевую переменную.\n",
    "\n",
    "# В итоге, заменим все строковые пропуски новыми значениями pass_"
   ]
  },
  {
   "cell_type": "code",
   "execution_count": 79,
   "metadata": {},
   "outputs": [],
   "source": [
    "# Ваш код :-)\n",
    "\n",
    "all_data['GEN_INDUSTRY'] = all_data['GEN_INDUSTRY'].fillna('miss_industry')"
   ]
  },
  {
   "cell_type": "code",
   "execution_count": 81,
   "metadata": {},
   "outputs": [],
   "source": [
    "all_data['GEN_TITLE'] = all_data['GEN_TITLE'].fillna('miss_title')"
   ]
  },
  {
   "cell_type": "code",
   "execution_count": 82,
   "metadata": {},
   "outputs": [],
   "source": [
    "all_data['ORG_TP_STATE'] = all_data['ORG_TP_STATE'].fillna('miss_state')"
   ]
  },
  {
   "cell_type": "code",
   "execution_count": 83,
   "metadata": {},
   "outputs": [],
   "source": [
    "all_data['ORG_TP_FCAPITAL'] = all_data['ORG_TP_FCAPITAL'].fillna('miss_fcapital')"
   ]
  },
  {
   "cell_type": "code",
   "execution_count": 84,
   "metadata": {},
   "outputs": [],
   "source": [
    "all_data['JOB_DIR'] = all_data['JOB_DIR'].fillna('miss_job')"
   ]
  },
  {
   "cell_type": "code",
   "execution_count": 85,
   "metadata": {},
   "outputs": [],
   "source": [
    "all_data['TP_PROVINCE'] = all_data['TP_PROVINCE'].fillna('miss_province')"
   ]
  },
  {
   "cell_type": "code",
   "execution_count": 88,
   "metadata": {},
   "outputs": [
    {
     "name": "stdout",
     "output_type": "stream",
     "text": [
      "<class 'pandas.core.frame.DataFrame'>\n",
      "RangeIndex: 30133 entries, 0 to 30132\n",
      "Data columns (total 51 columns):\n",
      "AGREEMENT_RK                  30133 non-null int64\n",
      "AGE                           30133 non-null int64\n",
      "SOCSTATUS_WORK_FL             30133 non-null int64\n",
      "SOCSTATUS_PENS_FL             30133 non-null int64\n",
      "GENDER                        30133 non-null int64\n",
      "CHILD_TOTAL                   30133 non-null int64\n",
      "DEPENDANTS                    30133 non-null int64\n",
      "EDUCATION                     30133 non-null object\n",
      "MARITAL_STATUS                30133 non-null object\n",
      "GEN_INDUSTRY                  30133 non-null object\n",
      "GEN_TITLE                     30133 non-null object\n",
      "ORG_TP_STATE                  30133 non-null object\n",
      "ORG_TP_FCAPITAL               30133 non-null object\n",
      "JOB_DIR                       30133 non-null object\n",
      "FAMILY_INCOME                 30133 non-null object\n",
      "PERSONAL_INCOME               30133 non-null float64\n",
      "REG_ADDRESS_PROVINCE          30133 non-null object\n",
      "FACT_ADDRESS_PROVINCE         30133 non-null object\n",
      "POSTAL_ADDRESS_PROVINCE       30133 non-null object\n",
      "TP_PROVINCE                   30133 non-null object\n",
      "REGION_NM                     30131 non-null object\n",
      "REG_FACT_FL                   30133 non-null int64\n",
      "FACT_POST_FL                  30133 non-null int64\n",
      "REG_POST_FL                   30133 non-null int64\n",
      "REG_FACT_POST_FL              30133 non-null int64\n",
      "REG_FACT_POST_TP_FL           30133 non-null int64\n",
      "FL_PRESENCE_FL                30133 non-null int64\n",
      "OWN_AUTO                      30133 non-null int64\n",
      "AUTO_RUS_FL                   30133 non-null int64\n",
      "HS_PRESENCE_FL                30133 non-null int64\n",
      "COT_PRESENCE_FL               30133 non-null int64\n",
      "GAR_PRESENCE_FL               30133 non-null int64\n",
      "LAND_PRESENCE_FL              30133 non-null int64\n",
      "CREDIT                        30133 non-null float64\n",
      "TERM                          30133 non-null int64\n",
      "FST_PAYMENT                   30133 non-null float64\n",
      "DL_DOCUMENT_FL                30133 non-null int64\n",
      "GPF_DOCUMENT_FL               30133 non-null int64\n",
      "FACT_LIVING_TERM              30133 non-null int64\n",
      "WORK_TIME                     30133 non-null float64\n",
      "FACT_PHONE_FL                 30133 non-null int64\n",
      "REG_PHONE_FL                  30133 non-null int64\n",
      "GEN_PHONE_FL                  30133 non-null int64\n",
      "LOAN_NUM_TOTAL                30133 non-null int64\n",
      "LOAN_NUM_CLOSED               30133 non-null int64\n",
      "LOAN_NUM_PAYM                 30133 non-null int64\n",
      "LOAN_DLQ_NUM                  30133 non-null int64\n",
      "LOAN_MAX_DLQ                  30133 non-null int64\n",
      "LOAN_AVG_DLQ_AMT              30133 non-null float64\n",
      "LOAN_MAX_DLQ_AMT              30133 non-null float64\n",
      "PREVIOUS_CARD_NUM_UTILIZED    600 non-null float64\n",
      "dtypes: float64(7), int64(31), object(13)\n",
      "memory usage: 11.7+ MB\n"
     ]
    }
   ],
   "source": [
    "all_data.info()"
   ]
  },
  {
   "cell_type": "code",
   "execution_count": 89,
   "metadata": {},
   "outputs": [],
   "source": [
    "# забыл про PREVIOUS_CARD_NUM_UTILIZED. Заполним пропущенные значения медианой\n",
    "\n",
    "all_data['PREVIOUS_CARD_NUM_UTILIZED'] = all_data['PREVIOUS_CARD_NUM_UTILIZED'].fillna(all_data['PREVIOUS_CARD_NUM_UTILIZED'].median())"
   ]
  },
  {
   "cell_type": "code",
   "execution_count": 90,
   "metadata": {},
   "outputs": [
    {
     "name": "stdout",
     "output_type": "stream",
     "text": [
      "<class 'pandas.core.frame.DataFrame'>\n",
      "RangeIndex: 30133 entries, 0 to 30132\n",
      "Data columns (total 51 columns):\n",
      "AGREEMENT_RK                  30133 non-null int64\n",
      "AGE                           30133 non-null int64\n",
      "SOCSTATUS_WORK_FL             30133 non-null int64\n",
      "SOCSTATUS_PENS_FL             30133 non-null int64\n",
      "GENDER                        30133 non-null int64\n",
      "CHILD_TOTAL                   30133 non-null int64\n",
      "DEPENDANTS                    30133 non-null int64\n",
      "EDUCATION                     30133 non-null object\n",
      "MARITAL_STATUS                30133 non-null object\n",
      "GEN_INDUSTRY                  30133 non-null object\n",
      "GEN_TITLE                     30133 non-null object\n",
      "ORG_TP_STATE                  30133 non-null object\n",
      "ORG_TP_FCAPITAL               30133 non-null object\n",
      "JOB_DIR                       30133 non-null object\n",
      "FAMILY_INCOME                 30133 non-null object\n",
      "PERSONAL_INCOME               30133 non-null float64\n",
      "REG_ADDRESS_PROVINCE          30133 non-null object\n",
      "FACT_ADDRESS_PROVINCE         30133 non-null object\n",
      "POSTAL_ADDRESS_PROVINCE       30133 non-null object\n",
      "TP_PROVINCE                   30133 non-null object\n",
      "REGION_NM                     30131 non-null object\n",
      "REG_FACT_FL                   30133 non-null int64\n",
      "FACT_POST_FL                  30133 non-null int64\n",
      "REG_POST_FL                   30133 non-null int64\n",
      "REG_FACT_POST_FL              30133 non-null int64\n",
      "REG_FACT_POST_TP_FL           30133 non-null int64\n",
      "FL_PRESENCE_FL                30133 non-null int64\n",
      "OWN_AUTO                      30133 non-null int64\n",
      "AUTO_RUS_FL                   30133 non-null int64\n",
      "HS_PRESENCE_FL                30133 non-null int64\n",
      "COT_PRESENCE_FL               30133 non-null int64\n",
      "GAR_PRESENCE_FL               30133 non-null int64\n",
      "LAND_PRESENCE_FL              30133 non-null int64\n",
      "CREDIT                        30133 non-null float64\n",
      "TERM                          30133 non-null int64\n",
      "FST_PAYMENT                   30133 non-null float64\n",
      "DL_DOCUMENT_FL                30133 non-null int64\n",
      "GPF_DOCUMENT_FL               30133 non-null int64\n",
      "FACT_LIVING_TERM              30133 non-null int64\n",
      "WORK_TIME                     30133 non-null float64\n",
      "FACT_PHONE_FL                 30133 non-null int64\n",
      "REG_PHONE_FL                  30133 non-null int64\n",
      "GEN_PHONE_FL                  30133 non-null int64\n",
      "LOAN_NUM_TOTAL                30133 non-null int64\n",
      "LOAN_NUM_CLOSED               30133 non-null int64\n",
      "LOAN_NUM_PAYM                 30133 non-null int64\n",
      "LOAN_DLQ_NUM                  30133 non-null int64\n",
      "LOAN_MAX_DLQ                  30133 non-null int64\n",
      "LOAN_AVG_DLQ_AMT              30133 non-null float64\n",
      "LOAN_MAX_DLQ_AMT              30133 non-null float64\n",
      "PREVIOUS_CARD_NUM_UTILIZED    30133 non-null float64\n",
      "dtypes: float64(7), int64(31), object(13)\n",
      "memory usage: 11.7+ MB\n"
     ]
    }
   ],
   "source": [
    "all_data.info()"
   ]
  },
  {
   "cell_type": "code",
   "execution_count": 106,
   "metadata": {},
   "outputs": [
    {
     "name": "stdout",
     "output_type": "stream",
     "text": [
      "['EDUCATION', 'MARITAL_STATUS', 'GEN_INDUSTRY', 'GEN_TITLE', 'ORG_TP_STATE', 'ORG_TP_FCAPITAL', 'JOB_DIR', 'FAMILY_INCOME', 'REG_ADDRESS_PROVINCE', 'FACT_ADDRESS_PROVINCE', 'POSTAL_ADDRESS_PROVINCE', 'TP_PROVINCE', 'REGION_NM']\n"
     ]
    }
   ],
   "source": [
    "# составим список переменных с типом object\n",
    "\n",
    "vars_obj = []\n",
    "\n",
    "for i in all_data.columns: # перебираем все столбцы\n",
    "    if str(all_data[i].dtype) == 'object':\n",
    "        vars_obj.append(i)\n",
    "    \n",
    "print(vars_obj)"
   ]
  },
  {
   "cell_type": "code",
   "execution_count": 108,
   "metadata": {},
   "outputs": [],
   "source": [
    "# one-hot encoding\n",
    "\n",
    "all_data = pd.get_dummies(all_data, columns=vars_obj)"
   ]
  },
  {
   "cell_type": "code",
   "execution_count": 110,
   "metadata": {},
   "outputs": [
    {
     "data": {
      "text/html": [
       "<div>\n",
       "<style scoped>\n",
       "    .dataframe tbody tr th:only-of-type {\n",
       "        vertical-align: middle;\n",
       "    }\n",
       "\n",
       "    .dataframe tbody tr th {\n",
       "        vertical-align: top;\n",
       "    }\n",
       "\n",
       "    .dataframe thead th {\n",
       "        text-align: right;\n",
       "    }\n",
       "</style>\n",
       "<table border=\"1\" class=\"dataframe\">\n",
       "  <thead>\n",
       "    <tr style=\"text-align: right;\">\n",
       "      <th></th>\n",
       "      <th>AGREEMENT_RK</th>\n",
       "      <th>AGE</th>\n",
       "      <th>SOCSTATUS_WORK_FL</th>\n",
       "      <th>SOCSTATUS_PENS_FL</th>\n",
       "      <th>GENDER</th>\n",
       "      <th>CHILD_TOTAL</th>\n",
       "      <th>DEPENDANTS</th>\n",
       "      <th>PERSONAL_INCOME</th>\n",
       "      <th>REG_FACT_FL</th>\n",
       "      <th>FACT_POST_FL</th>\n",
       "      <th>...</th>\n",
       "      <th>REGION_NM_ДАЛЬНЕВОСТОЧНЫЙ</th>\n",
       "      <th>REGION_NM_ЗАПАДНО-СИБИРСКИЙ</th>\n",
       "      <th>REGION_NM_ПОВОЛЖСКИЙ</th>\n",
       "      <th>REGION_NM_ПРИВОЛЖСКИЙ</th>\n",
       "      <th>REGION_NM_СЕВЕРО-ЗАПАДНЫЙ</th>\n",
       "      <th>REGION_NM_УРАЛЬСКИЙ</th>\n",
       "      <th>REGION_NM_ЦЕНТРАЛЬНЫЙ 1</th>\n",
       "      <th>REGION_NM_ЦЕНТРАЛЬНЫЙ 2</th>\n",
       "      <th>REGION_NM_ЦЕНТРАЛЬНЫЙ ОФИС</th>\n",
       "      <th>REGION_NM_ЮЖНЫЙ</th>\n",
       "    </tr>\n",
       "  </thead>\n",
       "  <tbody>\n",
       "    <tr>\n",
       "      <th>0</th>\n",
       "      <td>59910150</td>\n",
       "      <td>49</td>\n",
       "      <td>1</td>\n",
       "      <td>0</td>\n",
       "      <td>1</td>\n",
       "      <td>2</td>\n",
       "      <td>1</td>\n",
       "      <td>5000.0</td>\n",
       "      <td>1</td>\n",
       "      <td>1</td>\n",
       "      <td>...</td>\n",
       "      <td>0</td>\n",
       "      <td>0</td>\n",
       "      <td>1</td>\n",
       "      <td>0</td>\n",
       "      <td>0</td>\n",
       "      <td>0</td>\n",
       "      <td>0</td>\n",
       "      <td>0</td>\n",
       "      <td>0</td>\n",
       "      <td>0</td>\n",
       "    </tr>\n",
       "    <tr>\n",
       "      <th>1</th>\n",
       "      <td>59910230</td>\n",
       "      <td>32</td>\n",
       "      <td>1</td>\n",
       "      <td>0</td>\n",
       "      <td>1</td>\n",
       "      <td>3</td>\n",
       "      <td>3</td>\n",
       "      <td>12000.0</td>\n",
       "      <td>1</td>\n",
       "      <td>1</td>\n",
       "      <td>...</td>\n",
       "      <td>0</td>\n",
       "      <td>0</td>\n",
       "      <td>0</td>\n",
       "      <td>0</td>\n",
       "      <td>0</td>\n",
       "      <td>0</td>\n",
       "      <td>0</td>\n",
       "      <td>0</td>\n",
       "      <td>0</td>\n",
       "      <td>1</td>\n",
       "    </tr>\n",
       "    <tr>\n",
       "      <th>2</th>\n",
       "      <td>59910525</td>\n",
       "      <td>52</td>\n",
       "      <td>1</td>\n",
       "      <td>0</td>\n",
       "      <td>1</td>\n",
       "      <td>4</td>\n",
       "      <td>0</td>\n",
       "      <td>9000.0</td>\n",
       "      <td>1</td>\n",
       "      <td>1</td>\n",
       "      <td>...</td>\n",
       "      <td>0</td>\n",
       "      <td>0</td>\n",
       "      <td>0</td>\n",
       "      <td>0</td>\n",
       "      <td>0</td>\n",
       "      <td>0</td>\n",
       "      <td>0</td>\n",
       "      <td>0</td>\n",
       "      <td>0</td>\n",
       "      <td>0</td>\n",
       "    </tr>\n",
       "    <tr>\n",
       "      <th>3</th>\n",
       "      <td>59910803</td>\n",
       "      <td>39</td>\n",
       "      <td>1</td>\n",
       "      <td>0</td>\n",
       "      <td>1</td>\n",
       "      <td>1</td>\n",
       "      <td>1</td>\n",
       "      <td>25000.0</td>\n",
       "      <td>0</td>\n",
       "      <td>1</td>\n",
       "      <td>...</td>\n",
       "      <td>0</td>\n",
       "      <td>0</td>\n",
       "      <td>0</td>\n",
       "      <td>0</td>\n",
       "      <td>0</td>\n",
       "      <td>0</td>\n",
       "      <td>0</td>\n",
       "      <td>0</td>\n",
       "      <td>0</td>\n",
       "      <td>1</td>\n",
       "    </tr>\n",
       "    <tr>\n",
       "      <th>4</th>\n",
       "      <td>59911781</td>\n",
       "      <td>30</td>\n",
       "      <td>1</td>\n",
       "      <td>0</td>\n",
       "      <td>0</td>\n",
       "      <td>0</td>\n",
       "      <td>0</td>\n",
       "      <td>12000.0</td>\n",
       "      <td>1</td>\n",
       "      <td>1</td>\n",
       "      <td>...</td>\n",
       "      <td>0</td>\n",
       "      <td>0</td>\n",
       "      <td>0</td>\n",
       "      <td>0</td>\n",
       "      <td>0</td>\n",
       "      <td>0</td>\n",
       "      <td>0</td>\n",
       "      <td>0</td>\n",
       "      <td>0</td>\n",
       "      <td>1</td>\n",
       "    </tr>\n",
       "  </tbody>\n",
       "</table>\n",
       "<p>5 rows × 449 columns</p>\n",
       "</div>"
      ],
      "text/plain": [
       "   AGREEMENT_RK  AGE  SOCSTATUS_WORK_FL  SOCSTATUS_PENS_FL  GENDER  \\\n",
       "0      59910150   49                  1                  0       1   \n",
       "1      59910230   32                  1                  0       1   \n",
       "2      59910525   52                  1                  0       1   \n",
       "3      59910803   39                  1                  0       1   \n",
       "4      59911781   30                  1                  0       0   \n",
       "\n",
       "   CHILD_TOTAL  DEPENDANTS  PERSONAL_INCOME  REG_FACT_FL  FACT_POST_FL  \\\n",
       "0            2           1           5000.0            1             1   \n",
       "1            3           3          12000.0            1             1   \n",
       "2            4           0           9000.0            1             1   \n",
       "3            1           1          25000.0            0             1   \n",
       "4            0           0          12000.0            1             1   \n",
       "\n",
       "        ...         REGION_NM_ДАЛЬНЕВОСТОЧНЫЙ  REGION_NM_ЗАПАДНО-СИБИРСКИЙ  \\\n",
       "0       ...                                 0                            0   \n",
       "1       ...                                 0                            0   \n",
       "2       ...                                 0                            0   \n",
       "3       ...                                 0                            0   \n",
       "4       ...                                 0                            0   \n",
       "\n",
       "   REGION_NM_ПОВОЛЖСКИЙ  REGION_NM_ПРИВОЛЖСКИЙ  REGION_NM_СЕВЕРО-ЗАПАДНЫЙ  \\\n",
       "0                     1                      0                          0   \n",
       "1                     0                      0                          0   \n",
       "2                     0                      0                          0   \n",
       "3                     0                      0                          0   \n",
       "4                     0                      0                          0   \n",
       "\n",
       "   REGION_NM_УРАЛЬСКИЙ  REGION_NM_ЦЕНТРАЛЬНЫЙ 1  REGION_NM_ЦЕНТРАЛЬНЫЙ 2  \\\n",
       "0                    0                        0                        0   \n",
       "1                    0                        0                        0   \n",
       "2                    0                        0                        0   \n",
       "3                    0                        0                        0   \n",
       "4                    0                        0                        0   \n",
       "\n",
       "   REGION_NM_ЦЕНТРАЛЬНЫЙ ОФИС  REGION_NM_ЮЖНЫЙ  \n",
       "0                           0                0  \n",
       "1                           0                1  \n",
       "2                           0                0  \n",
       "3                           0                1  \n",
       "4                           0                1  \n",
       "\n",
       "[5 rows x 449 columns]"
      ]
     },
     "execution_count": 110,
     "metadata": {},
     "output_type": "execute_result"
    }
   ],
   "source": [
    "# контроль\n",
    "all_data.head()"
   ]
  },
  {
   "cell_type": "code",
   "execution_count": 111,
   "metadata": {},
   "outputs": [
    {
     "name": "stdout",
     "output_type": "stream",
     "text": [
      "<class 'pandas.core.frame.DataFrame'>\n",
      "RangeIndex: 30133 entries, 0 to 30132\n",
      "Columns: 449 entries, AGREEMENT_RK to REGION_NM_ЮЖНЫЙ\n",
      "dtypes: float64(7), int64(31), uint8(411)\n",
      "memory usage: 20.5 MB\n"
     ]
    }
   ],
   "source": [
    "all_data.info()"
   ]
  },
  {
   "cell_type": "code",
   "execution_count": null,
   "metadata": {},
   "outputs": [],
   "source": [
    "# В итоге должны получиться данные без пропусков и только числовые"
   ]
  },
  {
   "cell_type": "code",
   "execution_count": null,
   "metadata": {},
   "outputs": [],
   "source": [
    "# вроде всё получилось"
   ]
  },
  {
   "cell_type": "code",
   "execution_count": 76,
   "metadata": {},
   "outputs": [],
   "source": [
    "# Вновь разделите на train и test (не мешая)\n",
    "\n",
    "# Ваш код :-)\n",
    "\n",
    "# train были сверху, разделим на две части all_data"
   ]
  },
  {
   "cell_type": "code",
   "execution_count": 115,
   "metadata": {},
   "outputs": [],
   "source": [
    "train_prep = all_data.loc[:(train.shape[0]-1), :]"
   ]
  },
  {
   "cell_type": "code",
   "execution_count": 116,
   "metadata": {},
   "outputs": [
    {
     "name": "stdout",
     "output_type": "stream",
     "text": [
      "<class 'pandas.core.frame.DataFrame'>\n",
      "RangeIndex: 15223 entries, 0 to 15222\n",
      "Columns: 449 entries, AGREEMENT_RK to REGION_NM_ЮЖНЫЙ\n",
      "dtypes: float64(7), int64(31), uint8(411)\n",
      "memory usage: 10.4 MB\n"
     ]
    }
   ],
   "source": [
    "train_prep.info()"
   ]
  },
  {
   "cell_type": "code",
   "execution_count": 114,
   "metadata": {},
   "outputs": [
    {
     "data": {
      "text/plain": [
       "(15223, 51)"
      ]
     },
     "execution_count": 114,
     "metadata": {},
     "output_type": "execute_result"
    }
   ],
   "source": [
    "train.shape"
   ]
  },
  {
   "cell_type": "code",
   "execution_count": 119,
   "metadata": {},
   "outputs": [],
   "source": [
    "test_prep = all_data.loc[(train.shape[0]):, :]"
   ]
  },
  {
   "cell_type": "code",
   "execution_count": 120,
   "metadata": {},
   "outputs": [
    {
     "data": {
      "text/plain": [
       "(14910, 449)"
      ]
     },
     "execution_count": 120,
     "metadata": {},
     "output_type": "execute_result"
    }
   ],
   "source": [
    "test_prep.shape"
   ]
  },
  {
   "cell_type": "code",
   "execution_count": 122,
   "metadata": {},
   "outputs": [
    {
     "data": {
      "text/plain": [
       "(15223,)"
      ]
     },
     "execution_count": 122,
     "metadata": {},
     "output_type": "execute_result"
    }
   ],
   "source": [
    "y.shape"
   ]
  },
  {
   "cell_type": "code",
   "execution_count": 123,
   "metadata": {},
   "outputs": [],
   "source": [
    "# Сделать hold-out sampling на train выборке\n",
    "from sklearn.cross_validation import train_test_split\n",
    "\n",
    "# test_size=0.3, random_state=42\n",
    "\n",
    "# Ваш код :-)\n",
    "\n",
    "X_train, X_test, y_train, y_test = train_test_split(train_prep, y, test_size=0.3, random_state=42)"
   ]
  },
  {
   "cell_type": "code",
   "execution_count": 124,
   "metadata": {},
   "outputs": [],
   "source": [
    "# Попробовать следующие \"черные ящики\": интерфейс одинаковый \n",
    "#     fit, \n",
    "#     predict, \n",
    "#     predict_proba\n",
    "\n",
    "from sklearn.tree import DecisionTreeClassifier\n",
    "from sklearn.ensemble import RandomForestClassifier\n",
    "from sklearn.linear_model import LogisticRegression\n",
    "\n",
    "# Ваш код :-)"
   ]
  },
  {
   "cell_type": "code",
   "execution_count": null,
   "metadata": {},
   "outputs": [],
   "source": [
    "# Посчитать метрики стандартные\n",
    "# accuracy, precision, recall\n",
    "\n",
    "# Ваш код :-)"
   ]
  },
  {
   "cell_type": "code",
   "execution_count": 125,
   "metadata": {},
   "outputs": [],
   "source": [
    "# DecisionTreeClassifier модель\n",
    "\n",
    "dtc = DecisionTreeClassifier()\n",
    "dtc.fit(X_train, y_train)\n",
    "dtc_predict = dtc.predict(X_test)"
   ]
  },
  {
   "cell_type": "code",
   "execution_count": 126,
   "metadata": {},
   "outputs": [],
   "source": [
    "dtc_proba = dtc.predict_proba(X_test)"
   ]
  },
  {
   "cell_type": "code",
   "execution_count": 130,
   "metadata": {},
   "outputs": [
    {
     "name": "stdout",
     "output_type": "stream",
     "text": [
      "accuracy —   0.7974600394131816\n",
      "precision —  0.1742957746478873\n",
      "recall –     0.1783783783783784\n"
     ]
    }
   ],
   "source": [
    "# метрики для DecisionTreeClassifier\n",
    "\n",
    "from sklearn.metrics import accuracy_score, precision_score, recall_score\n",
    "\n",
    "precision_dtc = precision_score(y_test, dtc_predict)\n",
    "recall_dtc = recall_score(y_test, dtc_predict)\n",
    "accuracy_dtc = accuracy_score(y_test, dtc_predict)\n",
    "\n",
    "print('accuracy —  ', accuracy_dtc)\n",
    "print('precision — ', precision_dtc)\n",
    "print('recall –    ', recall_dtc)"
   ]
  },
  {
   "cell_type": "code",
   "execution_count": 131,
   "metadata": {},
   "outputs": [],
   "source": [
    "# RandomForestClassifier модель\n",
    "\n",
    "rfc = RandomForestClassifier()\n",
    "rfc.fit(X_train, y_train)\n",
    "rfc_predict = rfc.predict(X_test)"
   ]
  },
  {
   "cell_type": "code",
   "execution_count": 132,
   "metadata": {},
   "outputs": [
    {
     "name": "stdout",
     "output_type": "stream",
     "text": [
      "accuracy —   0.8782570615283556\n",
      "precision —  0.47619047619047616\n",
      "recall –     0.018018018018018018\n"
     ]
    }
   ],
   "source": [
    "# метрики для RandomForestClassifier\n",
    "\n",
    "precision_rfc = precision_score(y_test, rfc_predict)\n",
    "recall_rfc = recall_score(y_test, rfc_predict)\n",
    "accuracy_rfc = accuracy_score(y_test, rfc_predict)\n",
    "\n",
    "print('accuracy —  ', accuracy_rfc)\n",
    "print('precision — ', precision_rfc)\n",
    "print('recall –    ', recall_rfc)"
   ]
  },
  {
   "cell_type": "code",
   "execution_count": 133,
   "metadata": {},
   "outputs": [],
   "source": [
    "# LogisticRegression модель\n",
    "\n",
    "lg = LogisticRegression()\n",
    "lg.fit(X_train, y_train)\n",
    "lg_predict = lg.predict(X_test)"
   ]
  },
  {
   "cell_type": "code",
   "execution_count": 134,
   "metadata": {},
   "outputs": [
    {
     "name": "stdout",
     "output_type": "stream",
     "text": [
      "accuracy —   0.8784760236479089\n",
      "precision —  0.0\n",
      "recall –     0.0\n"
     ]
    },
    {
     "name": "stderr",
     "output_type": "stream",
     "text": [
      "/usr/local/lib/python3.6/site-packages/sklearn/metrics/classification.py:1135: UndefinedMetricWarning: Precision is ill-defined and being set to 0.0 due to no predicted samples.\n",
      "  'precision', 'predicted', average, warn_for)\n"
     ]
    }
   ],
   "source": [
    "# метрики для LogisticRegression\n",
    "\n",
    "precision_lgr = precision_score(y_test, lg_predict)\n",
    "recall_lgr = recall_score(y_test, lg_predict)\n",
    "accuracy_lgr = accuracy_score(y_test, lg_predict)\n",
    "\n",
    "print('accuracy —  ', accuracy_lgr)\n",
    "print('precision — ', precision_lgr)\n",
    "print('recall –    ', recall_lgr)"
   ]
  },
  {
   "cell_type": "code",
   "execution_count": 231,
   "metadata": {},
   "outputs": [
    {
     "data": {
      "text/plain": [
       "0"
      ]
     },
     "execution_count": 231,
     "metadata": {},
     "output_type": "execute_result"
    }
   ],
   "source": [
    "lg_predict.sum()"
   ]
  },
  {
   "cell_type": "code",
   "execution_count": null,
   "metadata": {},
   "outputs": [],
   "source": [
    "# для построения предсказания поработаем с порогом"
   ]
  },
  {
   "cell_type": "code",
   "execution_count": 232,
   "metadata": {},
   "outputs": [],
   "source": [
    "lgr_proba = lg.predict_proba(X_test)"
   ]
  },
  {
   "cell_type": "code",
   "execution_count": 233,
   "metadata": {},
   "outputs": [
    {
     "data": {
      "text/plain": [
       "array([[0.84946034, 0.15053966],\n",
       "       [0.85376581, 0.14623419],\n",
       "       [0.8640844 , 0.1359156 ],\n",
       "       [0.87991322, 0.12008678],\n",
       "       [0.87973383, 0.12026617],\n",
       "       [0.88943729, 0.11056271],\n",
       "       [0.8864475 , 0.1135525 ],\n",
       "       [0.87948928, 0.12051072],\n",
       "       [0.91338977, 0.08661023],\n",
       "       [0.91652289, 0.08347711]])"
      ]
     },
     "execution_count": 233,
     "metadata": {},
     "output_type": "execute_result"
    }
   ],
   "source": [
    "lgr_proba[:10]"
   ]
  },
  {
   "cell_type": "code",
   "execution_count": 235,
   "metadata": {},
   "outputs": [
    {
     "data": {
      "text/plain": [
       "0.4602032428855563"
      ]
     },
     "execution_count": 235,
     "metadata": {},
     "output_type": "execute_result"
    }
   ],
   "source": [
    "lgr_proba[:,1].max()"
   ]
  },
  {
   "cell_type": "markdown",
   "metadata": {},
   "source": [
    "-------------------------\n",
    "у нас максимальная вероятность для «1» — 0.46, ясно что порог должен быть ниже этого значения.\n",
    "Вопрос — как выброать значение порога?\n",
    "\n",
    "Как вариант — выбрать порог, который бы «отсекал» такое же число случаев, сколько у нас число случаев, где целевая переменная равна единице. Иными словами в тестовой и прогнозируемой переменных число единиц должно совпадать.\n",
    "\n",
    "Для этого определим долю «единиц» в целевой переменной и найдем квантиль для этого значения.\n",
    "\n",
    "Так же можно попробовать взять несколько других значений порогов, близких к полученному, чтобы посмотреть, как изменения порога скажуться на метриках.\n",
    "\n",
    "--------------------------"
   ]
  },
  {
   "cell_type": "code",
   "execution_count": 237,
   "metadata": {},
   "outputs": [],
   "source": [
    "thres = sum(y_test) / len(y_test)"
   ]
  },
  {
   "cell_type": "code",
   "execution_count": 238,
   "metadata": {},
   "outputs": [
    {
     "data": {
      "text/plain": [
       "0.12152397635209108"
      ]
     },
     "execution_count": 238,
     "metadata": {},
     "output_type": "execute_result"
    }
   ],
   "source": [
    "thres"
   ]
  },
  {
   "cell_type": "code",
   "execution_count": 239,
   "metadata": {},
   "outputs": [],
   "source": [
    "import numpy as np"
   ]
  },
  {
   "cell_type": "code",
   "execution_count": 248,
   "metadata": {},
   "outputs": [
    {
     "name": "stdout",
     "output_type": "stream",
     "text": [
      "0.13756414973292858\n"
     ]
    }
   ],
   "source": [
    "# нам надо, чтобы перцентиль отсекала бОльшие значения\n",
    "\n",
    "thres_1 = np.percentile(lgr_proba[:,1], (1 - thres)*100)\n",
    "print (thres_1)"
   ]
  },
  {
   "cell_type": "code",
   "execution_count": 251,
   "metadata": {},
   "outputs": [],
   "source": [
    "# построим прогноз для порога =0.138\n",
    "\n",
    "predict_138 = []\n",
    "\n",
    "for x in lgr_proba[:,1]:\n",
    "    if x <= thres_1:\n",
    "        predict_138.append(0)\n",
    "    else:\n",
    "        predict_138.append(1)"
   ]
  },
  {
   "cell_type": "code",
   "execution_count": 253,
   "metadata": {},
   "outputs": [
    {
     "data": {
      "text/plain": [
       "0.12152397635209108"
      ]
     },
     "execution_count": 253,
     "metadata": {},
     "output_type": "execute_result"
    }
   ],
   "source": [
    "sum(predict_138) / len(predict_138)"
   ]
  },
  {
   "cell_type": "code",
   "execution_count": 254,
   "metadata": {},
   "outputs": [
    {
     "name": "stdout",
     "output_type": "stream",
     "text": [
      "accuracy —   0.7972410772936283\n",
      "precision —  0.16576576576576577\n",
      "recall –     0.16576576576576577\n"
     ]
    }
   ],
   "source": [
    "# пересчитаем метрики для LogisticRegression при пороге 0.138\n",
    "\n",
    "precision_lgr = precision_score(y_test, predict_138)\n",
    "recall_lgr = recall_score(y_test, predict_138)\n",
    "accuracy_lgr = accuracy_score(y_test, predict_138)\n",
    "\n",
    "print('accuracy —  ', accuracy_lgr)\n",
    "print('precision — ', precision_lgr)\n",
    "print('recall –    ', recall_lgr)"
   ]
  },
  {
   "cell_type": "code",
   "execution_count": 256,
   "metadata": {},
   "outputs": [
    {
     "name": "stdout",
     "output_type": "stream",
     "text": [
      "accuracy —   0.6527260783884388\n",
      "precision —  0.1346562721474132\n",
      "recall –     0.34234234234234234\n"
     ]
    }
   ],
   "source": [
    "# Посмотрим, как пороговое значение скажется на метриках\n",
    "# Возмьмем еще четыре порога — 0.128, 0.133, 0.143 и 0.148\n",
    "\n",
    "predict_128 = []\n",
    "\n",
    "for x in lgr_proba[:,1]:\n",
    "    if x <= 0.128:\n",
    "        predict_128.append(0)\n",
    "    else:\n",
    "        predict_128.append(1)\n",
    "\n",
    "precision_128 = precision_score(y_test, predict_128)\n",
    "recall_128 = recall_score(y_test, predict_128)\n",
    "accuracy_128 = accuracy_score(y_test, predict_128)\n",
    "\n",
    "print('accuracy —  ', accuracy_128)\n",
    "print('precision — ', precision_128)\n",
    "print('recall –    ', recall_128)"
   ]
  },
  {
   "cell_type": "code",
   "execution_count": 257,
   "metadata": {},
   "outputs": [
    {
     "name": "stdout",
     "output_type": "stream",
     "text": [
      "accuracy —   0.7470987519159186\n",
      "precision —  0.14953271028037382\n",
      "recall –     0.23063063063063063\n"
     ]
    }
   ],
   "source": [
    "predict_133 = []\n",
    "\n",
    "for x in lgr_proba[:,1]:\n",
    "    if x <= 0.133:\n",
    "        predict_133.append(0)\n",
    "    else:\n",
    "        predict_133.append(1)\n",
    "\n",
    "precision_133 = precision_score(y_test, predict_133)\n",
    "recall_133 = recall_score(y_test, predict_133)\n",
    "accuracy_133 = accuracy_score(y_test, predict_133)\n",
    "\n",
    "print('accuracy —  ', accuracy_133)\n",
    "print('precision — ', precision_133)\n",
    "print('recall –    ', recall_133)"
   ]
  },
  {
   "cell_type": "code",
   "execution_count": 258,
   "metadata": {},
   "outputs": [
    {
     "name": "stdout",
     "output_type": "stream",
     "text": [
      "accuracy —   0.8300853952266258\n",
      "precision —  0.1641337386018237\n",
      "recall –     0.0972972972972973\n"
     ]
    }
   ],
   "source": [
    "predict_143 = []\n",
    "\n",
    "for x in lgr_proba[:,1]:\n",
    "    if x <= 0.143:\n",
    "        predict_143.append(0)\n",
    "    else:\n",
    "        predict_143.append(1)\n",
    "\n",
    "precision_143 = precision_score(y_test, predict_143)\n",
    "recall_143 = recall_score(y_test, predict_143)\n",
    "accuracy_143 = accuracy_score(y_test, predict_143)\n",
    "\n",
    "print('accuracy —  ', accuracy_143)\n",
    "print('precision — ', precision_143)\n",
    "print('recall –    ', recall_143)"
   ]
  },
  {
   "cell_type": "code",
   "execution_count": 259,
   "metadata": {},
   "outputs": [
    {
     "name": "stdout",
     "output_type": "stream",
     "text": [
      "accuracy —   0.8478213269104445\n",
      "precision —  0.16019417475728157\n",
      "recall –     0.05945945945945946\n"
     ]
    }
   ],
   "source": [
    "predict_148 = []\n",
    "\n",
    "for x in lgr_proba[:,1]:\n",
    "    if x <= 0.148:\n",
    "        predict_148.append(0)\n",
    "    else:\n",
    "        predict_148.append(1)\n",
    "\n",
    "precision_148 = precision_score(y_test, predict_148)\n",
    "recall_148 = recall_score(y_test, predict_148)\n",
    "accuracy_148 = accuracy_score(y_test, predict_148)\n",
    "\n",
    "print('accuracy —  ', accuracy_148)\n",
    "print('precision — ', precision_148)\n",
    "print('recall –    ', recall_148)"
   ]
  },
  {
   "cell_type": "markdown",
   "metadata": {},
   "source": [
    "------------\n",
    "\n",
    "Для того, чтобы решить, какая метрика лучше, будем исходить из того, что\n",
    "изучаем рекламное воздействие. Это первое. Второе — у нас нет условий по\n",
    "ограничению бюджета. Поэтому полнота RECALL для нас важнее — цель рекламного\n",
    "воздействия как можно полнее охватить целевую аудиторию, а не сэкномить.\n",
    "\n",
    "Исходя из этих соображений, лучшим представляется порог в 0.128 и метриками\n",
    "\n",
    "accuracy —   0.6527260783884388\n",
    "\n",
    "precision —  0.1346562721474132\n",
    "\n",
    "recall –     0.34234234234234234\n",
    "\n",
    "----------------"
   ]
  },
  {
   "cell_type": "code",
   "execution_count": null,
   "metadata": {},
   "outputs": [],
   "source": []
  },
  {
   "cell_type": "code",
   "execution_count": 148,
   "metadata": {},
   "outputs": [
    {
     "name": "stderr",
     "output_type": "stream",
     "text": [
      "/usr/local/lib/python3.6/site-packages/matplotlib/font_manager.py:278: UserWarning: Matplotlib is building the font cache using fc-list. This may take a moment.\n",
      "  'Matplotlib is building the font cache using fc-list. '\n"
     ]
    }
   ],
   "source": [
    "import matplotlib.pyplot as plt\n",
    "import seaborn as sns"
   ]
  },
  {
   "cell_type": "code",
   "execution_count": null,
   "metadata": {},
   "outputs": [],
   "source": [
    "# Визуалищировать эти метрики всех моделей на одном графике (чтоб визуально посмотреть)\n",
    "\n",
    "# Ваш код :-)"
   ]
  },
  {
   "cell_type": "code",
   "execution_count": 260,
   "metadata": {
    "scrolled": false
   },
   "outputs": [
    {
     "data": {
      "text/plain": [
       "Text(0.5,0,'Значения метрик')"
      ]
     },
     "execution_count": 260,
     "metadata": {},
     "output_type": "execute_result"
    },
    {
     "data": {
      "image/png": "[encoded data removed]",
      "text/plain": [
       "<Figure size 720x576 with 1 Axes>"
      ]
     },
     "metadata": {},
     "output_type": "display_data"
    }
   ],
   "source": [
    "# диаграммы-столбцы с получившимися метриками\n",
    "\n",
    "h=0.25\n",
    "fig, ax = plt.subplots(figsize=(10,8))\n",
    "\n",
    "plt.barh([1, 2, 3], [accuracy_dtc, accuracy_rfc, accuracy_128], \n",
    "        color='r', height=h)\n",
    "plt.barh([1+h+0.05, 2+h+0.05, 3+h+0.05], [precision_dtc, precision_rfc, precision_128], \n",
    "        color='b', height=h)\n",
    "plt.barh([1+2*(h+0.05), 2+2*(h+0.05), 3+2*(h+0.05)], [recall_dtc, recall_rfc, recall_128], \n",
    "        color='g', height=h)\n",
    "ax.invert_yaxis() \n",
    "ax.set_title('Метрики')\n",
    "ax.set_xlabel('Значения метрик')"
   ]
  },
  {
   "cell_type": "code",
   "execution_count": 186,
   "metadata": {},
   "outputs": [],
   "source": [
    "rfc_proba = rfc.predict_proba(X_test)\n",
    "lgr_proba = lg.predict_proba(X_test)"
   ]
  },
  {
   "cell_type": "code",
   "execution_count": 189,
   "metadata": {},
   "outputs": [
    {
     "data": {
      "text/plain": [
       "array([[0., 1.],\n",
       "       [1., 0.],\n",
       "       [1., 0.],\n",
       "       [1., 0.],\n",
       "       [1., 0.],\n",
       "       [0., 1.],\n",
       "       [1., 0.],\n",
       "       [1., 0.],\n",
       "       [1., 0.],\n",
       "       [1., 0.]])"
      ]
     },
     "execution_count": 189,
     "metadata": {},
     "output_type": "execute_result"
    }
   ],
   "source": [
    "dtc_proba[:10]"
   ]
  },
  {
   "cell_type": "code",
   "execution_count": 190,
   "metadata": {},
   "outputs": [
    {
     "data": {
      "text/plain": [
       "array([[0.6, 0.4],\n",
       "       [0.7, 0.3],\n",
       "       [1. , 0. ],\n",
       "       [0.7, 0.3],\n",
       "       [1. , 0. ],\n",
       "       [0.8, 0.2],\n",
       "       [0.8, 0.2],\n",
       "       [0.9, 0.1],\n",
       "       [0.7, 0.3],\n",
       "       [1. , 0. ]])"
      ]
     },
     "execution_count": 190,
     "metadata": {},
     "output_type": "execute_result"
    }
   ],
   "source": [
    "rfc_proba[:10]"
   ]
  },
  {
   "cell_type": "code",
   "execution_count": 191,
   "metadata": {},
   "outputs": [
    {
     "data": {
      "text/plain": [
       "array([[0.84946034, 0.15053966],\n",
       "       [0.85376581, 0.14623419],\n",
       "       [0.8640844 , 0.1359156 ],\n",
       "       [0.87991322, 0.12008678],\n",
       "       [0.87973383, 0.12026617],\n",
       "       [0.88943729, 0.11056271],\n",
       "       [0.8864475 , 0.1135525 ],\n",
       "       [0.87948928, 0.12051072],\n",
       "       [0.91338977, 0.08661023],\n",
       "       [0.91652289, 0.08347711]])"
      ]
     },
     "execution_count": 191,
     "metadata": {},
     "output_type": "execute_result"
    }
   ],
   "source": [
    "lgr_proba[:10]"
   ]
  },
  {
   "cell_type": "code",
   "execution_count": 200,
   "metadata": {},
   "outputs": [
    {
     "data": {
      "text/plain": [
       "0.4602032428855563"
      ]
     },
     "execution_count": 200,
     "metadata": {},
     "output_type": "execute_result"
    }
   ],
   "source": [
    "lgr_proba[:,1].max()"
   ]
  },
  {
   "cell_type": "code",
   "execution_count": 192,
   "metadata": {},
   "outputs": [],
   "source": [
    "from sklearn.metrics import precision_recall_curve"
   ]
  },
  {
   "cell_type": "code",
   "execution_count": 195,
   "metadata": {},
   "outputs": [
    {
     "name": "stdout",
     "output_type": "stream",
     "text": [
      "precision —  [0.12152398 0.17429577 1.        ]\n",
      "recall —     [1.         0.17837838 0.        ]\n",
      "thresholds — [0. 1.]\n"
     ]
    }
   ],
   "source": [
    "# Для модели DecisionTreeClassifier\n",
    "\n",
    "dtc_precision, dtc_recall, dtc_thresholds = precision_recall_curve(y_test, dtc_proba[:,1])\n",
    "print('precision — ', dtc_precision)\n",
    "print('recall —    ', dtc_recall)\n",
    "print('thresholds —', dtc_thresholds)"
   ]
  },
  {
   "cell_type": "code",
   "execution_count": 197,
   "metadata": {},
   "outputs": [
    {
     "name": "stdout",
     "output_type": "stream",
     "text": [
      "precision —  \n",
      " [0.12152398 0.14309821 0.16963696 0.20846906 0.27403846 0.31343284\n",
      " 0.47619048 0.5        0.5        0.         1.        ]\n",
      "recall —     \n",
      " [1.         0.76396396 0.46306306 0.23063063 0.1027027  0.03783784\n",
      " 0.01801802 0.0036036  0.0018018  0.         0.        ]\n",
      "thresholds — \n",
      " [0.  0.1 0.2 0.3 0.4 0.5 0.6 0.7 0.8 0.9]\n"
     ]
    }
   ],
   "source": [
    "# Для модели RandomForestClassifier\n",
    "\n",
    "rfc_precision, rfc_recall, rfc_thresholds = precision_recall_curve(y_test, rfc_proba[:,1])\n",
    "print('precision —  \\n', rfc_precision)\n",
    "print('recall —     \\n', rfc_recall)\n",
    "print('thresholds — \\n', rfc_thresholds)"
   ]
  },
  {
   "cell_type": "code",
   "execution_count": 198,
   "metadata": {},
   "outputs": [
    {
     "name": "stdout",
     "output_type": "stream",
     "text": [
      "precision —  [0.12163051 0.12143797 0.12146459 ... 0.         0.         1.        ]\n",
      "recall —     [1.        0.9981982 0.9981982 ... 0.        0.        0.       ]\n",
      "thresholds — [0.08072435 0.08094127 0.0809414  ... 0.24061922 0.34047225 0.46020324]\n"
     ]
    }
   ],
   "source": [
    "# Для модели LogisticRegression\n",
    "\n",
    "lgr_precision, lgr_recall, lgr_thresholds = precision_recall_curve(y_test, lgr_proba[:,1])\n",
    "print('precision — ', lgr_precision)\n",
    "print('recall —    ', lgr_recall)\n",
    "print('thresholds —', lgr_thresholds)"
   ]
  },
  {
   "cell_type": "code",
   "execution_count": 221,
   "metadata": {},
   "outputs": [
    {
     "data": {
      "text/plain": [
       "4563"
      ]
     },
     "execution_count": 221,
     "metadata": {},
     "output_type": "execute_result"
    }
   ],
   "source": [
    "len(lgr_thresholds)"
   ]
  },
  {
   "cell_type": "code",
   "execution_count": 225,
   "metadata": {},
   "outputs": [],
   "source": [
    "# вузализируем для модели LogisticRegression"
   ]
  },
  {
   "cell_type": "code",
   "execution_count": 230,
   "metadata": {},
   "outputs": [
    {
     "data": {
      "text/plain": [
       "[<matplotlib.lines.Line2D at 0x11d713588>]"
      ]
     },
     "execution_count": 230,
     "metadata": {},
     "output_type": "execute_result"
    },
    {
     "data": {
      "image/png": "[encoded data removed]",
      "text/plain": [
       "<Figure size 432x288 with 1 Axes>"
      ]
     },
     "metadata": {},
     "output_type": "display_data"
    }
   ],
   "source": [
    "plt.plot(([0] + list(lgr_thresholds)), lgr_precision, color='r')\n",
    "plt.plot(([0] + list(lgr_thresholds)), lgr_recall, color='b')"
   ]
  },
  {
   "cell_type": "markdown",
   "metadata": {},
   "source": [
    "---------------\n",
    "\n",
    "любопытно, что рабочий диапазон порога опять находится в диапазоне 0.13. \n",
    "Выше него у нас полнота сходит на ноль, а ниже — значение точности\n",
    "практически не менятеся\n",
    "\n",
    "-----------------"
   ]
  },
  {
   "cell_type": "code",
   "execution_count": null,
   "metadata": {},
   "outputs": [],
   "source": [
    "# Потроить roc-кривые всех моделей на одном графике\n",
    "# Вывести roc_auc каждой моделе\n",
    "\n",
    "# Ваш код :-)"
   ]
  },
  {
   "cell_type": "code",
   "execution_count": 262,
   "metadata": {},
   "outputs": [],
   "source": [
    "from sklearn.metrics import roc_auc_score, roc_curve"
   ]
  },
  {
   "cell_type": "code",
   "execution_count": 264,
   "metadata": {},
   "outputs": [
    {
     "data": {
      "text/plain": [
       "(-0.01, 1.01)"
      ]
     },
     "execution_count": 264,
     "metadata": {},
     "output_type": "execute_result"
    },
    {
     "data": {
      "image/png": "[encoded data removed]",
      "text/plain": [
       "<Figure size 360x360 with 1 Axes>"
      ]
     },
     "metadata": {},
     "output_type": "display_data"
    }
   ],
   "source": [
    "fpr_dtc, tpr_dtc, thresholds_dts = roc_curve(y_test, dtc_proba[:,1])\n",
    "fpr_rfc, tpr_rfc, thresholds_rfc = roc_curve(y_test, rfc_proba[:,1])\n",
    "fpr_lgr, tpr_lgr, thresholds_lgr = roc_curve(y_test, lgr_proba[:,1])\n",
    "\n",
    "plt.figure(figsize=(5, 5))\n",
    "plt.plot(fpr_dtc, tpr_dtc, color='r')\n",
    "plt.plot(fpr_rfc, tpr_rfc, color='g')\n",
    "plt.plot(fpr_lgr, tpr_lgr, color='b')\n",
    "plt.plot([0, 1], [0, 1], color='y')\n",
    "plt.ylabel('tpr')\n",
    "plt.xlabel('fpr')\n",
    "plt.grid(True)\n",
    "plt.title('ROC curve')\n",
    "plt.xlim((-0.01, 1.01))\n",
    "plt.ylim((-0.01, 1.01))"
   ]
  },
  {
   "cell_type": "code",
   "execution_count": null,
   "metadata": {},
   "outputs": [],
   "source": [
    "# судя по графику ROC лучше всего дела у RandomForestClassifier"
   ]
  },
  {
   "cell_type": "code",
   "execution_count": 266,
   "metadata": {},
   "outputs": [],
   "source": [
    "from sklearn.cross_validation import cross_val_score\n",
    "# Сделать k-fold (10 фолдов) кросс-валидацию каждой модели\n",
    "# И посчитать средний roc_auc\n",
    "\n",
    "# Ваш код :-)"
   ]
  },
  {
   "cell_type": "code",
   "execution_count": 268,
   "metadata": {},
   "outputs": [
    {
     "name": "stdout",
     "output_type": "stream",
     "text": [
      "[0.52032253 0.52375887 0.51156704 0.53725937 0.52032253 0.52322695\n",
      " 0.51766295 0.51510638 0.51348936 0.51662194]\n",
      "среднее значение —  0.5199337912565158\n"
     ]
    }
   ],
   "source": [
    "# Кросс-валидация для DecisionTreeClassifier\n",
    "\n",
    "dtc_cross = cross_val_score(\n",
    "    dtc,\n",
    "    X_train,\n",
    "    y_train,\n",
    "    scoring='roc_auc',\n",
    "    cv=10\n",
    ")\n",
    "print(dtc_cross)\n",
    "print('среднее значение — ', dtc_cross.mean())"
   ]
  },
  {
   "cell_type": "code",
   "execution_count": 269,
   "metadata": {},
   "outputs": [
    {
     "name": "stdout",
     "output_type": "stream",
     "text": [
      "[0.61670044 0.60324215 0.58443516 0.57247129 0.57435832 0.57916667\n",
      " 0.55800827 0.56138723 0.56585106 0.55248988]\n",
      "среднее значение —  0.576811048400236\n"
     ]
    }
   ],
   "source": [
    "# Кросс-валидация для RandomForestClassifier\n",
    "\n",
    "rfc_cross = cross_val_score(\n",
    "    rfc,\n",
    "    X_train,\n",
    "    y_train,\n",
    "    scoring='roc_auc',\n",
    "    cv=10\n",
    ")\n",
    "print(rfc_cross)\n",
    "print('среднее значение — ', rfc_cross.mean())"
   ]
  },
  {
   "cell_type": "code",
   "execution_count": 270,
   "metadata": {},
   "outputs": [
    {
     "name": "stdout",
     "output_type": "stream",
     "text": [
      "[0.51838061 0.55332658 0.50301418 0.51893786 0.55428065 0.55097096\n",
      " 0.51534954 0.56988936 0.52245106 0.54194675]\n",
      "среднее значение —  0.5348547562400665\n"
     ]
    }
   ],
   "source": [
    "# Кросс-валидация для LogisticRegression\n",
    "\n",
    "lgr_cross = cross_val_score(\n",
    "    lg,\n",
    "    X_train,\n",
    "    y_train,\n",
    "    scoring='roc_auc',\n",
    "    cv=10\n",
    ")\n",
    "print(lgr_cross)\n",
    "print('среднее значение — ', lgr_cross.mean())"
   ]
  },
  {
   "cell_type": "code",
   "execution_count": null,
   "metadata": {},
   "outputs": [],
   "source": [
    "# Опять лучше всего себя покзал метод RandomForestClassifier"
   ]
  },
  {
   "cell_type": "code",
   "execution_count": 37,
   "metadata": {},
   "outputs": [],
   "source": [
    "# Взять лучшую модель и сделать predict (с вероятностями (!!!)) для test выборки\n",
    "\n",
    "# Ваш код :-)"
   ]
  },
  {
   "cell_type": "code",
   "execution_count": 271,
   "metadata": {},
   "outputs": [],
   "source": [
    "test_proba = rfc.predict_proba(test_prep)"
   ]
  },
  {
   "cell_type": "code",
   "execution_count": 273,
   "metadata": {},
   "outputs": [
    {
     "data": {
      "text/plain": [
       "array([[0.7, 0.3],\n",
       "       [1. , 0. ],\n",
       "       [0.8, 0.2],\n",
       "       [0.7, 0.3],\n",
       "       [0.8, 0.2],\n",
       "       [1. , 0. ],\n",
       "       [0.7, 0.3],\n",
       "       [0.9, 0.1],\n",
       "       [1. , 0. ],\n",
       "       [1. , 0. ]])"
      ]
     },
     "execution_count": 273,
     "metadata": {},
     "output_type": "execute_result"
    }
   ],
   "source": [
    "test_proba[:10]"
   ]
  },
  {
   "cell_type": "code",
   "execution_count": 283,
   "metadata": {},
   "outputs": [],
   "source": [
    "answer = pd.DataFrame(test_proba)\n",
    "answer.to_csv('test_proba.csv', sep=';')"
   ]
  }
 ],
 "metadata": {
  "kernelspec": {
   "display_name": "Python 3",
   "language": "python",
   "name": "python3"
  },
  "language_info": {
   "codemirror_mode": {
    "name": "ipython",
    "version": 3
   },
   "file_extension": ".py",
   "mimetype": "text/x-python",
   "name": "python",
   "nbconvert_exporter": "python",
   "pygments_lexer": "ipython3",
   "version": "3.6.4"
  }
 },
 "nbformat": 4,
 "nbformat_minor": 2
}
